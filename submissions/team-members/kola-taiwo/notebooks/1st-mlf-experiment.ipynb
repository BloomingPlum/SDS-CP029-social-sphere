{
 "cells": [
  {
   "cell_type": "code",
   "execution_count": 1,
   "id": "de7a47ab-53c4-4d2b-a95c-bb38d4bb0ab0",
   "metadata": {},
   "outputs": [],
   "source": [
    "#!pip install pycaret\n",
    "#!pip install pycaret --upgrade\n",
    "\n",
    "import pandas as pd\n",
    "from sklearn.model_selection import train_test_split\n",
    "from lazypredict.Supervised import LazyClassifier\n",
    "#from pycaret.classification import *\n",
    "\n",
    "# import mlflow\n",
    "# mlflow.set_tracking_uri(\"file:./mlruns\")\n",
    "# mlflow.set_experiment(\"testSocialSphere1\")\n"
   ]
  },
  {
   "cell_type": "code",
   "execution_count": 2,
   "id": "7a930ae5-132c-4a48-82f3-71f67a03df15",
   "metadata": {},
   "outputs": [],
   "source": [
    "# Load dataset\n",
    "df = pd.read_csv('../data/ssma.csv')\n"
   ]
  },
  {
   "cell_type": "code",
   "execution_count": 3,
   "id": "eb4028c6",
   "metadata": {},
   "outputs": [
    {
     "data": {
      "text/html": [
       "<div>\n",
       "<style scoped>\n",
       "    .dataframe tbody tr th:only-of-type {\n",
       "        vertical-align: middle;\n",
       "    }\n",
       "\n",
       "    .dataframe tbody tr th {\n",
       "        vertical-align: top;\n",
       "    }\n",
       "\n",
       "    .dataframe thead th {\n",
       "        text-align: right;\n",
       "    }\n",
       "</style>\n",
       "<table border=\"1\" class=\"dataframe\">\n",
       "  <thead>\n",
       "    <tr style=\"text-align: right;\">\n",
       "      <th></th>\n",
       "      <th>Student_ID</th>\n",
       "      <th>Age</th>\n",
       "      <th>Gender</th>\n",
       "      <th>Academic_Level</th>\n",
       "      <th>Country</th>\n",
       "      <th>Avg_Daily_Usage_Hours</th>\n",
       "      <th>Most_Used_Platform</th>\n",
       "      <th>Affects_Academic_Performance</th>\n",
       "      <th>Sleep_Hours_Per_Night</th>\n",
       "      <th>Mental_Health_Score</th>\n",
       "      <th>Relationship_Status</th>\n",
       "      <th>Conflicts_Over_Social_Media</th>\n",
       "      <th>Addicted_Score</th>\n",
       "    </tr>\n",
       "  </thead>\n",
       "  <tbody>\n",
       "    <tr>\n",
       "      <th>0</th>\n",
       "      <td>1</td>\n",
       "      <td>19</td>\n",
       "      <td>Female</td>\n",
       "      <td>Undergraduate</td>\n",
       "      <td>Bangladesh</td>\n",
       "      <td>5.20</td>\n",
       "      <td>Instagram</td>\n",
       "      <td>Yes</td>\n",
       "      <td>6.50</td>\n",
       "      <td>6</td>\n",
       "      <td>In Relationship</td>\n",
       "      <td>3</td>\n",
       "      <td>8</td>\n",
       "    </tr>\n",
       "    <tr>\n",
       "      <th>1</th>\n",
       "      <td>2</td>\n",
       "      <td>22</td>\n",
       "      <td>Male</td>\n",
       "      <td>Graduate</td>\n",
       "      <td>India</td>\n",
       "      <td>2.10</td>\n",
       "      <td>Twitter</td>\n",
       "      <td>No</td>\n",
       "      <td>7.50</td>\n",
       "      <td>8</td>\n",
       "      <td>Single</td>\n",
       "      <td>0</td>\n",
       "      <td>3</td>\n",
       "    </tr>\n",
       "    <tr>\n",
       "      <th>2</th>\n",
       "      <td>3</td>\n",
       "      <td>20</td>\n",
       "      <td>Female</td>\n",
       "      <td>Undergraduate</td>\n",
       "      <td>USA</td>\n",
       "      <td>6.00</td>\n",
       "      <td>TikTok</td>\n",
       "      <td>Yes</td>\n",
       "      <td>5.00</td>\n",
       "      <td>5</td>\n",
       "      <td>Complicated</td>\n",
       "      <td>4</td>\n",
       "      <td>9</td>\n",
       "    </tr>\n",
       "    <tr>\n",
       "      <th>3</th>\n",
       "      <td>4</td>\n",
       "      <td>18</td>\n",
       "      <td>Male</td>\n",
       "      <td>High School</td>\n",
       "      <td>UK</td>\n",
       "      <td>3.00</td>\n",
       "      <td>YouTube</td>\n",
       "      <td>No</td>\n",
       "      <td>7.00</td>\n",
       "      <td>7</td>\n",
       "      <td>Single</td>\n",
       "      <td>1</td>\n",
       "      <td>4</td>\n",
       "    </tr>\n",
       "    <tr>\n",
       "      <th>4</th>\n",
       "      <td>5</td>\n",
       "      <td>21</td>\n",
       "      <td>Male</td>\n",
       "      <td>Graduate</td>\n",
       "      <td>Canada</td>\n",
       "      <td>4.50</td>\n",
       "      <td>Facebook</td>\n",
       "      <td>Yes</td>\n",
       "      <td>6.00</td>\n",
       "      <td>6</td>\n",
       "      <td>In Relationship</td>\n",
       "      <td>2</td>\n",
       "      <td>7</td>\n",
       "    </tr>\n",
       "  </tbody>\n",
       "</table>\n",
       "</div>"
      ],
      "text/plain": [
       "   Student_ID  Age  Gender Academic_Level     Country  Avg_Daily_Usage_Hours  \\\n",
       "0           1   19  Female  Undergraduate  Bangladesh                   5.20   \n",
       "1           2   22    Male       Graduate       India                   2.10   \n",
       "2           3   20  Female  Undergraduate         USA                   6.00   \n",
       "3           4   18    Male    High School          UK                   3.00   \n",
       "4           5   21    Male       Graduate      Canada                   4.50   \n",
       "\n",
       "  Most_Used_Platform Affects_Academic_Performance  Sleep_Hours_Per_Night  \\\n",
       "0          Instagram                          Yes                   6.50   \n",
       "1            Twitter                           No                   7.50   \n",
       "2             TikTok                          Yes                   5.00   \n",
       "3            YouTube                           No                   7.00   \n",
       "4           Facebook                          Yes                   6.00   \n",
       "\n",
       "   Mental_Health_Score Relationship_Status  Conflicts_Over_Social_Media  \\\n",
       "0                    6     In Relationship                            3   \n",
       "1                    8              Single                            0   \n",
       "2                    5         Complicated                            4   \n",
       "3                    7              Single                            1   \n",
       "4                    6     In Relationship                            2   \n",
       "\n",
       "   Addicted_Score  \n",
       "0               8  \n",
       "1               3  \n",
       "2               9  \n",
       "3               4  \n",
       "4               7  "
      ]
     },
     "execution_count": 3,
     "metadata": {},
     "output_type": "execute_result"
    }
   ],
   "source": [
    "df.head()"
   ]
  },
  {
   "cell_type": "code",
   "execution_count": 4,
   "id": "de183f8c",
   "metadata": {},
   "outputs": [
    {
     "data": {
      "text/plain": [
       "(705, 13)"
      ]
     },
     "execution_count": 4,
     "metadata": {},
     "output_type": "execute_result"
    }
   ],
   "source": [
    "df.shape"
   ]
  },
  {
   "cell_type": "markdown",
   "id": "2bb8cefa",
   "metadata": {},
   "source": [
    "## Data Preprocessing"
   ]
  },
  {
   "cell_type": "code",
   "execution_count": 5,
   "id": "59a8f61d",
   "metadata": {},
   "outputs": [],
   "source": [
    "# Dropping the Student_ID column\n",
    "df.drop(['Student_ID'], axis = 1, inplace = True)"
   ]
  },
  {
   "cell_type": "markdown",
   "id": "dee0b74c",
   "metadata": {},
   "source": [
    "#### Encoding - Gender"
   ]
  },
  {
   "cell_type": "code",
   "execution_count": 6,
   "id": "0ead487a",
   "metadata": {},
   "outputs": [
    {
     "data": {
      "text/plain": [
       "array(['Female', 'Male'], dtype=object)"
      ]
     },
     "execution_count": 6,
     "metadata": {},
     "output_type": "execute_result"
    }
   ],
   "source": [
    "df['Gender'].unique()"
   ]
  },
  {
   "cell_type": "code",
   "execution_count": 7,
   "id": "7a22a507",
   "metadata": {},
   "outputs": [],
   "source": [
    "df['Gender'] = df['Gender'].apply(lambda x: 0 if x== 'Female' else 1)\n",
    "#df['Gender'].head()"
   ]
  },
  {
   "cell_type": "markdown",
   "id": "007c4224",
   "metadata": {},
   "source": [
    "#### Encoding - Affects_Academic_Performance"
   ]
  },
  {
   "cell_type": "code",
   "execution_count": 8,
   "id": "27467cb9",
   "metadata": {},
   "outputs": [
    {
     "data": {
      "text/plain": [
       "array(['Yes', 'No'], dtype=object)"
      ]
     },
     "execution_count": 8,
     "metadata": {},
     "output_type": "execute_result"
    }
   ],
   "source": [
    "df['Affects_Academic_Performance'].unique()"
   ]
  },
  {
   "cell_type": "code",
   "execution_count": 9,
   "id": "ec808632",
   "metadata": {},
   "outputs": [],
   "source": [
    "df['Affects_Academic_Performance'] = df['Affects_Academic_Performance'].apply(lambda x: 0 if x== 'No' else 1)"
   ]
  },
  {
   "cell_type": "markdown",
   "id": "50a87871",
   "metadata": {},
   "source": [
    "#### Encoding - Academic_Level"
   ]
  },
  {
   "cell_type": "code",
   "execution_count": 10,
   "id": "5a13d293",
   "metadata": {},
   "outputs": [
    {
     "data": {
      "text/plain": [
       "array(['Undergraduate', 'Graduate', 'High School'], dtype=object)"
      ]
     },
     "execution_count": 10,
     "metadata": {},
     "output_type": "execute_result"
    }
   ],
   "source": [
    "df['Academic_Level'].unique()"
   ]
  },
  {
   "cell_type": "code",
   "execution_count": 11,
   "id": "c0c3cc3e",
   "metadata": {},
   "outputs": [],
   "source": [
    "academic_level_dummies = pd.get_dummies(df['Academic_Level'], drop_first = True, dtype='int')"
   ]
  },
  {
   "cell_type": "code",
   "execution_count": 12,
   "id": "7914824b",
   "metadata": {},
   "outputs": [],
   "source": [
    "df = pd.concat([academic_level_dummies, df], axis = 1)\n",
    "df.drop(['Academic_Level'], axis = 1, inplace = True)"
   ]
  },
  {
   "cell_type": "markdown",
   "id": "85e61d6e",
   "metadata": {},
   "source": [
    "#### Encoding - Relationship Status"
   ]
  },
  {
   "cell_type": "code",
   "execution_count": 13,
   "id": "903403c3",
   "metadata": {},
   "outputs": [
    {
     "data": {
      "text/plain": [
       "array(['In Relationship', 'Single', 'Complicated'], dtype=object)"
      ]
     },
     "execution_count": 13,
     "metadata": {},
     "output_type": "execute_result"
    }
   ],
   "source": [
    "df['Relationship_Status'].unique()"
   ]
  },
  {
   "cell_type": "code",
   "execution_count": 14,
   "id": "66c54ec8",
   "metadata": {},
   "outputs": [],
   "source": [
    "relationship_status_dummies = pd.get_dummies(df['Relationship_Status'], drop_first = True, dtype='int')"
   ]
  },
  {
   "cell_type": "code",
   "execution_count": 15,
   "id": "ca842375",
   "metadata": {},
   "outputs": [],
   "source": [
    "df = pd.concat([relationship_status_dummies, df], axis = 1)\n",
    "df.drop(['Relationship_Status'], axis = 1, inplace = True)"
   ]
  },
  {
   "cell_type": "markdown",
   "id": "d82180c7",
   "metadata": {},
   "source": [
    "#### Encoding - Most_Used_Platform"
   ]
  },
  {
   "cell_type": "code",
   "execution_count": 16,
   "id": "9d48b6b0",
   "metadata": {},
   "outputs": [
    {
     "data": {
      "text/plain": [
       "array(['Instagram', 'Twitter', 'TikTok', 'YouTube', 'Facebook',\n",
       "       'LinkedIn', 'Snapchat', 'LINE', 'KakaoTalk', 'VKontakte',\n",
       "       'WhatsApp', 'WeChat'], dtype=object)"
      ]
     },
     "execution_count": 16,
     "metadata": {},
     "output_type": "execute_result"
    }
   ],
   "source": [
    "df['Most_Used_Platform'].unique()"
   ]
  },
  {
   "cell_type": "code",
   "execution_count": 17,
   "id": "0024b1d3",
   "metadata": {},
   "outputs": [],
   "source": [
    "# Using OneHotEncoder from sklearn\n",
    "from sklearn.preprocessing import OneHotEncoder\n",
    "\n",
    "# Create the encoder\n",
    "encoder = OneHotEncoder(sparse_output=False)\n",
    "\n",
    "# Reshape the column to 2D array as required by the encoder\n",
    "platform_encoded = encoder.fit_transform(df[['Most_Used_Platform']])\n",
    "\n",
    "# Create a DataFrame with the encoded values\n",
    "platform_encoded_df = pd.DataFrame(\n",
    "    platform_encoded,\n",
    "    columns=[f'Platform_{platform}' for platform in encoder.categories_[0]]\n",
    ")\n",
    "\n",
    "# If you want to add these encoded columns back to your original dataframe\n",
    "df_encoded = pd.concat([platform_encoded_df, df], axis=1)\n",
    "df.drop(['Most_Used_Platform'], axis = 1, inplace = True)\n"
   ]
  },
  {
   "cell_type": "markdown",
   "id": "c0db07f1",
   "metadata": {},
   "source": [
    "#### Encoding - Country"
   ]
  },
  {
   "cell_type": "code",
   "execution_count": 18,
   "id": "1ae9c636",
   "metadata": {},
   "outputs": [
    {
     "data": {
      "text/plain": [
       "110"
      ]
     },
     "execution_count": 18,
     "metadata": {},
     "output_type": "execute_result"
    }
   ],
   "source": [
    "#df['Country'].unique()\n",
    "df['Country'].nunique() # showing below over 100 countries"
   ]
  },
  {
   "cell_type": "code",
   "execution_count": 19,
   "id": "47b9f046",
   "metadata": {},
   "outputs": [],
   "source": [
    "from sklearn.preprocessing import OneHotEncoder\n",
    "\n",
    "# Create the encoder\n",
    "country_encoder = OneHotEncoder(sparse_output=False)\n",
    "\n",
    "# Fit and transform the 'Country' column\n",
    "country_encoded = country_encoder.fit_transform(df[['Country']])\n",
    "\n",
    "# Create a DataFrame with the encoded values\n",
    "country_encoded_df = pd.DataFrame(\n",
    "    country_encoded,\n",
    "    columns=[f'Country_{country}' for country in country_encoder.categories_[0]]\n",
    ")\n",
    "\n",
    "# Concatenate with the original DataFrame\n",
    "df_encoded = pd.concat([country_encoded_df, df], axis=1)\n",
    "df_encoded.drop(['Country'], axis = 1, inplace = True)\n",
    "\n"
   ]
  },
  {
   "cell_type": "code",
   "execution_count": 20,
   "id": "791e3b02",
   "metadata": {},
   "outputs": [
    {
     "data": {
      "text/plain": [
       "(705, 122)"
      ]
     },
     "execution_count": 20,
     "metadata": {},
     "output_type": "execute_result"
    }
   ],
   "source": [
    "df_encoded.shape  #Shape here is 705 rows and 122 columns"
   ]
  },
  {
   "cell_type": "code",
   "execution_count": 21,
   "id": "fba05c00",
   "metadata": {},
   "outputs": [
    {
     "data": {
      "text/html": [
       "<div>\n",
       "<style scoped>\n",
       "    .dataframe tbody tr th:only-of-type {\n",
       "        vertical-align: middle;\n",
       "    }\n",
       "\n",
       "    .dataframe tbody tr th {\n",
       "        vertical-align: top;\n",
       "    }\n",
       "\n",
       "    .dataframe thead th {\n",
       "        text-align: right;\n",
       "    }\n",
       "</style>\n",
       "<table border=\"1\" class=\"dataframe\">\n",
       "  <thead>\n",
       "    <tr style=\"text-align: right;\">\n",
       "      <th></th>\n",
       "      <th>Country_Afghanistan</th>\n",
       "      <th>Country_Albania</th>\n",
       "      <th>Country_Andorra</th>\n",
       "      <th>Country_Argentina</th>\n",
       "      <th>Country_Armenia</th>\n",
       "      <th>Country_Australia</th>\n",
       "      <th>Country_Austria</th>\n",
       "      <th>Country_Azerbaijan</th>\n",
       "      <th>Country_Bahamas</th>\n",
       "      <th>Country_Bahrain</th>\n",
       "      <th>...</th>\n",
       "      <th>High School</th>\n",
       "      <th>Undergraduate</th>\n",
       "      <th>Age</th>\n",
       "      <th>Gender</th>\n",
       "      <th>Avg_Daily_Usage_Hours</th>\n",
       "      <th>Affects_Academic_Performance</th>\n",
       "      <th>Sleep_Hours_Per_Night</th>\n",
       "      <th>Mental_Health_Score</th>\n",
       "      <th>Conflicts_Over_Social_Media</th>\n",
       "      <th>Addicted_Score</th>\n",
       "    </tr>\n",
       "  </thead>\n",
       "  <tbody>\n",
       "    <tr>\n",
       "      <th>0</th>\n",
       "      <td>0.00</td>\n",
       "      <td>0.00</td>\n",
       "      <td>0.00</td>\n",
       "      <td>0.00</td>\n",
       "      <td>0.00</td>\n",
       "      <td>0.00</td>\n",
       "      <td>0.00</td>\n",
       "      <td>0.00</td>\n",
       "      <td>0.00</td>\n",
       "      <td>0.00</td>\n",
       "      <td>...</td>\n",
       "      <td>0</td>\n",
       "      <td>1</td>\n",
       "      <td>19</td>\n",
       "      <td>0</td>\n",
       "      <td>5.20</td>\n",
       "      <td>1</td>\n",
       "      <td>6.50</td>\n",
       "      <td>6</td>\n",
       "      <td>3</td>\n",
       "      <td>8</td>\n",
       "    </tr>\n",
       "    <tr>\n",
       "      <th>1</th>\n",
       "      <td>0.00</td>\n",
       "      <td>0.00</td>\n",
       "      <td>0.00</td>\n",
       "      <td>0.00</td>\n",
       "      <td>0.00</td>\n",
       "      <td>0.00</td>\n",
       "      <td>0.00</td>\n",
       "      <td>0.00</td>\n",
       "      <td>0.00</td>\n",
       "      <td>0.00</td>\n",
       "      <td>...</td>\n",
       "      <td>0</td>\n",
       "      <td>0</td>\n",
       "      <td>22</td>\n",
       "      <td>1</td>\n",
       "      <td>2.10</td>\n",
       "      <td>0</td>\n",
       "      <td>7.50</td>\n",
       "      <td>8</td>\n",
       "      <td>0</td>\n",
       "      <td>3</td>\n",
       "    </tr>\n",
       "    <tr>\n",
       "      <th>2</th>\n",
       "      <td>0.00</td>\n",
       "      <td>0.00</td>\n",
       "      <td>0.00</td>\n",
       "      <td>0.00</td>\n",
       "      <td>0.00</td>\n",
       "      <td>0.00</td>\n",
       "      <td>0.00</td>\n",
       "      <td>0.00</td>\n",
       "      <td>0.00</td>\n",
       "      <td>0.00</td>\n",
       "      <td>...</td>\n",
       "      <td>0</td>\n",
       "      <td>1</td>\n",
       "      <td>20</td>\n",
       "      <td>0</td>\n",
       "      <td>6.00</td>\n",
       "      <td>1</td>\n",
       "      <td>5.00</td>\n",
       "      <td>5</td>\n",
       "      <td>4</td>\n",
       "      <td>9</td>\n",
       "    </tr>\n",
       "    <tr>\n",
       "      <th>3</th>\n",
       "      <td>0.00</td>\n",
       "      <td>0.00</td>\n",
       "      <td>0.00</td>\n",
       "      <td>0.00</td>\n",
       "      <td>0.00</td>\n",
       "      <td>0.00</td>\n",
       "      <td>0.00</td>\n",
       "      <td>0.00</td>\n",
       "      <td>0.00</td>\n",
       "      <td>0.00</td>\n",
       "      <td>...</td>\n",
       "      <td>1</td>\n",
       "      <td>0</td>\n",
       "      <td>18</td>\n",
       "      <td>1</td>\n",
       "      <td>3.00</td>\n",
       "      <td>0</td>\n",
       "      <td>7.00</td>\n",
       "      <td>7</td>\n",
       "      <td>1</td>\n",
       "      <td>4</td>\n",
       "    </tr>\n",
       "    <tr>\n",
       "      <th>4</th>\n",
       "      <td>0.00</td>\n",
       "      <td>0.00</td>\n",
       "      <td>0.00</td>\n",
       "      <td>0.00</td>\n",
       "      <td>0.00</td>\n",
       "      <td>0.00</td>\n",
       "      <td>0.00</td>\n",
       "      <td>0.00</td>\n",
       "      <td>0.00</td>\n",
       "      <td>0.00</td>\n",
       "      <td>...</td>\n",
       "      <td>0</td>\n",
       "      <td>0</td>\n",
       "      <td>21</td>\n",
       "      <td>1</td>\n",
       "      <td>4.50</td>\n",
       "      <td>1</td>\n",
       "      <td>6.00</td>\n",
       "      <td>6</td>\n",
       "      <td>2</td>\n",
       "      <td>7</td>\n",
       "    </tr>\n",
       "  </tbody>\n",
       "</table>\n",
       "<p>5 rows × 122 columns</p>\n",
       "</div>"
      ],
      "text/plain": [
       "   Country_Afghanistan  Country_Albania  Country_Andorra  Country_Argentina  \\\n",
       "0                 0.00             0.00             0.00               0.00   \n",
       "1                 0.00             0.00             0.00               0.00   \n",
       "2                 0.00             0.00             0.00               0.00   \n",
       "3                 0.00             0.00             0.00               0.00   \n",
       "4                 0.00             0.00             0.00               0.00   \n",
       "\n",
       "   Country_Armenia  Country_Australia  Country_Austria  Country_Azerbaijan  \\\n",
       "0             0.00               0.00             0.00                0.00   \n",
       "1             0.00               0.00             0.00                0.00   \n",
       "2             0.00               0.00             0.00                0.00   \n",
       "3             0.00               0.00             0.00                0.00   \n",
       "4             0.00               0.00             0.00                0.00   \n",
       "\n",
       "   Country_Bahamas  Country_Bahrain  ...  High School  Undergraduate  Age  \\\n",
       "0             0.00             0.00  ...            0              1   19   \n",
       "1             0.00             0.00  ...            0              0   22   \n",
       "2             0.00             0.00  ...            0              1   20   \n",
       "3             0.00             0.00  ...            1              0   18   \n",
       "4             0.00             0.00  ...            0              0   21   \n",
       "\n",
       "   Gender  Avg_Daily_Usage_Hours  Affects_Academic_Performance  \\\n",
       "0       0                   5.20                             1   \n",
       "1       1                   2.10                             0   \n",
       "2       0                   6.00                             1   \n",
       "3       1                   3.00                             0   \n",
       "4       1                   4.50                             1   \n",
       "\n",
       "   Sleep_Hours_Per_Night  Mental_Health_Score  Conflicts_Over_Social_Media  \\\n",
       "0                   6.50                    6                            3   \n",
       "1                   7.50                    8                            0   \n",
       "2                   5.00                    5                            4   \n",
       "3                   7.00                    7                            1   \n",
       "4                   6.00                    6                            2   \n",
       "\n",
       "   Addicted_Score  \n",
       "0               8  \n",
       "1               3  \n",
       "2               9  \n",
       "3               4  \n",
       "4               7  \n",
       "\n",
       "[5 rows x 122 columns]"
      ]
     },
     "execution_count": 21,
     "metadata": {},
     "output_type": "execute_result"
    }
   ],
   "source": [
    "df_encoded.head()"
   ]
  },
  {
   "cell_type": "markdown",
   "id": "126a115a",
   "metadata": {},
   "source": [
    "The encoded dataframe 'df_encoded' whole still having 705 observations now has 122 columns as result of the encoding"
   ]
  },
  {
   "cell_type": "code",
   "execution_count": 22,
   "metadata": {},
   "outputs": [
    {
     "data": {
      "text/plain": [
       "(705, 122)"
      ]
     },
     "execution_count": 22,
     "metadata": {},
     "output_type": "execute_result"
    }
   ],
   "source": [
    "df_encoded.shape  #Shape here is 705 rows and 122 columns"
   ]
  },
  {
   "cell_type": "markdown",
   "id": "77ffab0f",
   "metadata": {},
   "source": [
    "## Creating the Training Set and the Test Set"
   ]
  },
  {
   "cell_type": "markdown",
   "id": "ef9cc189",
   "metadata": {},
   "source": [
    "#### Getting the inputs and output"
   ]
  },
  {
   "cell_type": "code",
   "execution_count": 23,
   "id": "950acc3d",
   "metadata": {},
   "outputs": [],
   "source": [
    "X = df_encoded.iloc[:, :-1].values\n",
    "y = df_encoded.iloc[:, -1].values"
   ]
  },
  {
   "cell_type": "markdown",
   "id": "71717da5",
   "metadata": {},
   "source": [
    "#### Getting the Train & Test Sets"
   ]
  },
  {
   "cell_type": "code",
   "execution_count": 24,
   "id": "6ecf4421",
   "metadata": {},
   "outputs": [],
   "source": [
    "from sklearn.model_selection import train_test_split\n",
    "X_train, X_test, y_train, y_test = train_test_split(X, y, test_size = 0.2, random_state = 0)"
   ]
  },
  {
   "cell_type": "code",
   "execution_count": 25,
   "metadata": {},
   "outputs": [
    {
     "data": {
      "text/plain": [
       "(705, 122)"
      ]
     },
     "execution_count": 25,
     "metadata": {},
     "output_type": "execute_result"
    }
   ],
   "source": [
    "df_encoded.shape  #Shape here is 705 rows and 122 columns"
   ]
  },
  {
   "cell_type": "markdown",
   "id": "8d2799de",
   "metadata": {},
   "source": [
    "### Compairing and Looking for right Model"
   ]
  },
  {
   "cell_type": "code",
   "execution_count": 26,
   "id": "1503dcf9",
   "metadata": {},
   "outputs": [
    {
     "name": "stdout",
     "output_type": "stream",
     "text": [
      "\n",
      "Training Logistic Regression...\n",
      "Logistic Regression completed in 1.08 seconds\n",
      "\n",
      "Training Random Forest...\n",
      "Random Forest completed in 0.29 seconds\n",
      "\n",
      "Training Gradient Boosting...\n",
      "Gradient Boosting completed in 1.95 seconds\n",
      "\n",
      "Training SVM...\n",
      "SVM completed in 0.16 seconds\n",
      "\n",
      "Training KNN...\n",
      "KNN completed in 2.04 seconds\n",
      "\n",
      "Model Comparison Results:\n",
      "                     Accuracy  Precision  Recall  F1 Score  Time\n",
      "Random Forest            0.96       0.96    0.96      0.96  0.29\n",
      "Logistic Regression      0.95       0.95    0.95      0.95  1.08\n",
      "Gradient Boosting        0.95       0.95    0.95      0.95  1.95\n",
      "KNN                      0.95       0.96    0.95      0.95  2.04\n",
      "SVM                      0.62       0.44    0.62      0.51  0.16\n",
      "\n",
      "Class Mapping:\n",
      "0: 2\n",
      "1: 3\n",
      "2: 4\n",
      "3: 5\n",
      "4: 6\n",
      "5: 7\n",
      "6: 8\n",
      "7: 9\n"
     ]
    }
   ],
   "source": [
    "# Encode the target variable\n",
    "from sklearn.preprocessing import LabelEncoder\n",
    "\n",
    "# Create and fit the label encoder\n",
    "label_encoder = LabelEncoder()\n",
    "y_encoded = label_encoder.fit_transform(y)\n",
    "\n",
    "# Split the data with encoded target\n",
    "X_train, X_test, y_train, y_test = train_test_split(X, y_encoded, test_size=0.2, random_state=0)\n",
    "\n",
    "# Custom Model Comparison\n",
    "from sklearn.linear_model import LogisticRegression\n",
    "from xgboost import XGBRegressor\n",
    "from sklearn.ensemble import RandomForestClassifier, GradientBoostingClassifier\n",
    "from sklearn.svm import SVC\n",
    "from sklearn.neighbors import KNeighborsClassifier\n",
    "from sklearn.metrics import accuracy_score, precision_score, recall_score, f1_score\n",
    "import time\n",
    "\n",
    "# Define models to compare\n",
    "models = {\n",
    "    'Logistic Regression': LogisticRegression(max_iter=1000),\n",
    "     #xgboost.XGBRegressor(max_depth = 2, learning_rate = 0.1, n_estimators = 100)\n",
    "    #'XGB Regressor': XGBRegressor(n_estimators = 100),\n",
    "    'Random Forest': RandomForestClassifier(n_estimators=100),\n",
    "    'Gradient Boosting': GradientBoostingClassifier(n_estimators=100),\n",
    "    'SVM': SVC(probability=True),\n",
    "    'KNN': KNeighborsClassifier(n_neighbors=5)\n",
    "}\n",
    "\n",
    "# Dictionary to store results\n",
    "results = {}\n",
    "\n",
    "# Train and evaluate each model\n",
    "for name, model in models.items():\n",
    "    print(f\"\\nTraining {name}...\")\n",
    "    start_time = time.time()\n",
    "    \n",
    "    # Train the model\n",
    "    model.fit(X_train, y_train)\n",
    "    \n",
    "    # Make predictions\n",
    "    y_pred = model.predict(X_test)\n",
    "    \n",
    "    # Calculate metrics\n",
    "    accuracy = accuracy_score(y_test, y_pred)\n",
    "    precision = precision_score(y_test, y_pred, average='weighted')\n",
    "    recall = recall_score(y_test, y_pred, average='weighted')\n",
    "    f1 = f1_score(y_test, y_pred, average='weighted')\n",
    "    \n",
    "    # Store results\n",
    "    results[name] = {\n",
    "        'Accuracy': accuracy,\n",
    "        'Precision': precision,\n",
    "        'Recall': recall,\n",
    "        'F1 Score': f1,\n",
    "        'Time': time.time() - start_time\n",
    "    }\n",
    "    \n",
    "    print(f\"{name} completed in {results[name]['Time']:.2f} seconds\")\n",
    "\n",
    "# Convert results to DataFrame for better visualization\n",
    "results_df = pd.DataFrame(results).T\n",
    "results_df = results_df.sort_values('Accuracy', ascending=False)\n",
    "\n",
    "# Display results\n",
    "print(\"\\nModel Comparison Results:\")\n",
    "print(results_df)\n",
    "\n",
    "# Display class mapping\n",
    "print(\"\\nClass Mapping:\")\n",
    "for i, class_name in enumerate(label_encoder.classes_):\n",
    "    print(f\"{i}: {class_name}\")"
   ]
  },
  {
   "cell_type": "markdown",
   "id": "09eec54e",
   "metadata": {},
   "source": [
    "### Building and Training the model"
   ]
  },
  {
   "cell_type": "code",
   "execution_count": 27,
   "id": "a69b224e",
   "metadata": {},
   "outputs": [],
   "source": [
    "#X"
   ]
  },
  {
   "cell_type": "code",
   "execution_count": 28,
   "id": "54802532",
   "metadata": {},
   "outputs": [],
   "source": [
    "#y"
   ]
  },
  {
   "cell_type": "markdown",
   "id": "09e41989",
   "metadata": {},
   "source": [
    "Experiment 1: Train Logistic Regression Classifier"
   ]
  },
  {
   "cell_type": "code",
   "execution_count": 29,
   "id": "b836db06",
   "metadata": {},
   "outputs": [
    {
     "name": "stdout",
     "output_type": "stream",
     "text": [
      "              precision    recall  f1-score   support\n",
      "\n",
      "           1       0.75      0.75      0.75         4\n",
      "           2       0.95      1.00      0.98        21\n",
      "           3       0.95      0.95      0.95        22\n",
      "           4       1.00      0.90      0.95        10\n",
      "           5       1.00      0.98      0.99        50\n",
      "           6       0.86      1.00      0.93        25\n",
      "           7       1.00      0.67      0.80         9\n",
      "\n",
      "    accuracy                           0.95       141\n",
      "   macro avg       0.93      0.89      0.91       141\n",
      "weighted avg       0.95      0.95      0.95       141\n",
      "\n"
     ]
    }
   ],
   "source": [
    "from sklearn.metrics import classification_report\n",
    "\n",
    "params = {\n",
    "    \"solver\": \"lbfgs\",\n",
    "    \"max_iter\": 1000,\n",
    "    \"multi_class\": \"auto\",\n",
    "    \"random_state\": 8888,\n",
    "}\n",
    "\n",
    "log_reg = LogisticRegression(**params)\n",
    "log_reg.fit(X_train, y_train)\n",
    "y_pred_log_reg = log_reg.predict(X_test)\n",
    "\n",
    "\n",
    "report = classification_report(y_test, y_pred_log_reg)\n",
    "print(report)"
   ]
  },
  {
   "cell_type": "code",
   "execution_count": 30,
   "id": "9747844f",
   "metadata": {},
   "outputs": [
    {
     "data": {
      "text/plain": [
       "{'1': {'precision': 0.75, 'recall': 0.75, 'f1-score': 0.75, 'support': 4.0},\n",
       " '2': {'precision': 0.9545454545454546,\n",
       "  'recall': 1.0,\n",
       "  'f1-score': 0.9767441860465116,\n",
       "  'support': 21.0},\n",
       " '3': {'precision': 0.9545454545454546,\n",
       "  'recall': 0.9545454545454546,\n",
       "  'f1-score': 0.9545454545454546,\n",
       "  'support': 22.0},\n",
       " '4': {'precision': 1.0,\n",
       "  'recall': 0.9,\n",
       "  'f1-score': 0.9473684210526315,\n",
       "  'support': 10.0},\n",
       " '5': {'precision': 1.0,\n",
       "  'recall': 0.98,\n",
       "  'f1-score': 0.98989898989899,\n",
       "  'support': 50.0},\n",
       " '6': {'precision': 0.8620689655172413,\n",
       "  'recall': 1.0,\n",
       "  'f1-score': 0.9259259259259259,\n",
       "  'support': 25.0},\n",
       " '7': {'precision': 1.0,\n",
       "  'recall': 0.6666666666666666,\n",
       "  'f1-score': 0.8,\n",
       "  'support': 9.0},\n",
       " 'accuracy': 0.950354609929078,\n",
       " 'macro avg': {'precision': 0.9315942678011643,\n",
       "  'recall': 0.893030303030303,\n",
       "  'f1-score': 0.9063547110670732,\n",
       "  'support': 141.0},\n",
       " 'weighted avg': {'precision': 0.9545899197403233,\n",
       "  'recall': 0.950354609929078,\n",
       "  'f1-score': 0.9491376578766006,\n",
       "  'support': 141.0}}"
      ]
     },
     "execution_count": 30,
     "metadata": {},
     "output_type": "execute_result"
    }
   ],
   "source": [
    "report_dict = classification_report(y_test, y_pred_log_reg, output_dict=True)\n",
    "report_dict"
   ]
  },
  {
   "cell_type": "code",
   "execution_count": 31,
   "id": "41dd6029",
   "metadata": {},
   "outputs": [],
   "source": [
    "import mlflow"
   ]
  },
  {
   "cell_type": "code",
   "execution_count": 33,
   "id": "ca11f4ff",
   "metadata": {},
   "outputs": [
    {
     "name": "stderr",
     "output_type": "stream",
     "text": [
      "2025/06/25 20:22:32 WARNING mlflow.models.model: Model logged without a signature and input example. Please set `input_example` parameter when logging the model to auto infer the model signature.\n"
     ]
    },
    {
     "name": "stdout",
     "output_type": "stream",
     "text": [
      "🏃 View run receptive-gnat-185 at: http://127.0.0.1:5000/#/experiments/355431485210658056/runs/15a3bc10c88b4ad2b9382d94fb0d92f8\n",
      "🧪 View experiment at: http://127.0.0.1:5000/#/experiments/355431485210658056\n"
     ]
    }
   ],
   "source": [
    "mlflow.set_experiment('first_trial_experiment')\n",
    "# mlflow.set_tracking_uri('file:./mlruns') # http://127.0.0.1:5000\n",
    "mlflow.set_tracking_uri(uri='http://127.0.0.1:5000/') # mlflow.set_tracking_uri(uri=\"http://127.0.0.1:5000/\")\n",
    "\n",
    "with mlflow.start_run():\n",
    "    mlflow.log_params(params)\n",
    "    mlflow.log_metrics({\n",
    "        'accuracy': report_dict['accuracy'],\n",
    "        'recall_class_1': report_dict['1']['recall'],\n",
    "        'recall_class_2': report_dict['2']['recall'],\n",
    "        'f1_score_macro': report_dict['macro avg']['f1-score']\n",
    "    })\n",
    "    mlflow.sklearn.log_model(log_reg, \"log_reg\")\n",
    "\n",
    "   # mlflow.xgboost.log_model(model, \"xgboost\")\n"
   ]
  },
  {
   "cell_type": "code",
   "execution_count": 34,
   "id": "2582dd2d",
   "metadata": {},
   "outputs": [],
   "source": [
    "# import xgboost\n",
    "# model = xgboost.XGBRegressor(max_depth = 2, learning_rate = 0.1, n_estimators = 100)\n",
    "# model.fit(X_train, y_train)"
   ]
  },
  {
   "cell_type": "markdown",
   "id": "7bf60ccc",
   "metadata": {},
   "source": [
    "#### Alternative Approach to Encoding"
   ]
  },
  {
   "cell_type": "code",
   "execution_count": 35,
   "id": "18566102",
   "metadata": {},
   "outputs": [],
   "source": [
    "# from sklearn.preprocessing import OrdinalEncoder, OneHotEncoder\n",
    "# from sklearn.compose import ColumnTransformer\n",
    "\n",
    "# # Define transformers\n",
    "# preprocessor = ColumnTransformer(\n",
    "#     transformers=[\n",
    "#         ('binary', OrdinalEncoder(), ['Gender', 'Affects_Academic_Performance']),\n",
    "#         ('ordinal', OrdinalEncoder(categories=[['High School', 'Undergraduate', 'Graduate']]), ['Academic_Level']),\n",
    "#         ('onehot', OneHotEncoder(), ['Relationship_Status'])\n",
    "#     ])\n",
    "\n",
    "# # Apply preprocessing\n",
    "# X_transformed = preprocessor.fit_transform(X)\n"
   ]
  }
 ],
 "metadata": {
  "kernelspec": {
   "display_name": "venv",
   "language": "python",
   "name": "python3"
  },
  "language_info": {
   "codemirror_mode": {
    "name": "ipython",
    "version": 3
   },
   "file_extension": ".py",
   "mimetype": "text/x-python",
   "name": "python",
   "nbconvert_exporter": "python",
   "pygments_lexer": "ipython3",
   "version": "3.9.5"
  }
 },
 "nbformat": 4,
 "nbformat_minor": 5
}
