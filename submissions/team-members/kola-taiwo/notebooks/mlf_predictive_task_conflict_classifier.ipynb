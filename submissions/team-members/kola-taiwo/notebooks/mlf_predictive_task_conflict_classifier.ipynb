{
 "cells": [
  {
   "cell_type": "code",
   "execution_count": null,
   "metadata": {},
   "outputs": [],
   "source": [
    "import pandas as pd\n",
    "from sklearn.preprocessing import OneHotEncoder, StandardScaler\n",
    "from sklearn.compose import ColumnTransformer\n",
    "from sklearn.pipeline import Pipeline\n",
    "\n",
    "\n",
    "\n",
    "# Import required libraries\n",
    "import mlflow\n",
    "import mlflow.sklearn\n",
    "import mlflow.xgboost\n",
    "import mlflow.lightgbm\n",
    "from sklearn.ensemble import RandomForestClassifier\n",
    "from sklearn.linear_model import LogisticRegression\n",
    "from sklearn.svm import SVC\n",
    "import xgboost as xgb\n",
    "import lightgbm as lgb\n",
    "from sklearn.metrics import accuracy_score, precision_score, recall_score, f1_score, roc_auc_score\n",
    "import numpy as np\n"
   ]
  },
  {
   "cell_type": "code",
   "execution_count": 2,
   "metadata": {},
   "outputs": [],
   "source": [
    "class ConflictClassifier:\n",
    "    def __init__(self):\n",
    "        self.models = {}\n",
    "        self.best_model = None\n",
    "        self.best_score = 0\n",
    "    \n",
    "    def initialize_models(self):\n",
    "        \"\"\"Initialize all classification models\"\"\"\n",
    "        self.models = {\n",
    "            'random_forest': RandomForestClassifier(\n",
    "                n_estimators=100,\n",
    "                max_depth=10,\n",
    "                random_state=42,\n",
    "                n_jobs=-1\n",
    "            ),\n",
    "            'logistic_regression': LogisticRegression(\n",
    "                random_state=42,\n",
    "                max_iter=1000\n",
    "            ),\n",
    "            'svm': SVC(\n",
    "                kernel='rbf',\n",
    "                probability=True,\n",
    "                random_state=42\n",
    "            ),\n",
    "            'xgboost': xgb.XGBClassifier(\n",
    "                n_estimators=100,\n",
    "                max_depth=6,\n",
    "                learning_rate=0.1,\n",
    "                random_state=42,\n",
    "                eval_metric='logloss'\n",
    "            ),\n",
    "            'lightgbm': lgb.LGBMClassifier(\n",
    "                n_estimators=100,\n",
    "                max_depth=6,\n",
    "                learning_rate=0.1,\n",
    "                random_state=42,\n",
    "                verbose=-1\n",
    "            )\n",
    "        }\n",
    "    \n",
    "    def evaluate_model(self, model, X_test, y_test):\n",
    "        \"\"\"Evaluate model performance\"\"\"\n",
    "        y_pred = model.predict(X_test)\n",
    "        y_pred_proba = model.predict_proba(X_test)[:, 1]\n",
    "        \n",
    "        metrics = {\n",
    "            'accuracy': accuracy_score(y_test, y_pred),\n",
    "            'precision': precision_score(y_test, y_pred),\n",
    "            'recall': recall_score(y_test, y_pred),\n",
    "            'f1_score': f1_score(y_test, y_pred),\n",
    "            'roc_auc': roc_auc_score(y_test, y_pred_proba)\n",
    "        }\n",
    "        \n",
    "        return metrics\n",
    "    \n",
    "    def train_and_evaluate(self, X_train, X_test, y_train, y_test, experiment_name=\"conflict_classification_v2\"):\n",
    "        \"\"\"Train and evaluate all models with MLflow tracking\"\"\"\n",
    "        self.initialize_models()\n",
    "        \n",
    "        \n",
    "        \n",
    "        mlflow.set_tracking_uri(uri=\"http://127.0.0.1:5000/\")\n",
    "        #mlflow.set_tracking_uri(\"file:./mlruns\")\n",
    "        mlflow.set_experiment(\"conflict_classification_v2\")\n",
    "       # with mlflow.start_run(run_name=model_name):\n",
    "        with mlflow.start_run():\n",
    "            #mlflow.log_param(\"param1\", 5)\n",
    "            #mlflow.log_metric(\"metric1\", 0.85)\n",
    "        \n",
    "        \n",
    "        \n",
    "            mlflow.set_experiment(experiment_name)\n",
    "        \n",
    "        results = {}\n",
    "        \n",
    "        for model_name, model in self.models.items():\n",
    "            with mlflow.start_run(run_name=model_name):\n",
    "                mlflow.set_tag(\"mlflow.runName\", model_name)\n",
    "                mlflow.log_param(\"model_name\", model_name)\n",
    "                # Train model\n",
    "                model.fit(X_train, y_train)\n",
    "                \n",
    "                # Evaluate model\n",
    "                metrics = self.evaluate_model(model, X_test, y_test)\n",
    "                results[model_name] = metrics\n",
    "                \n",
    "                # Log parameters\n",
    "                if hasattr(model, 'get_params'):\n",
    "                    params = model.get_params()\n",
    "                    mlflow.log_params(params)\n",
    "                \n",
    "                # Log metrics\n",
    "                mlflow.log_metrics(metrics)\n",
    "                \n",
    "                # Log model\n",
    "                if model_name in ['xgboost']:\n",
    "                    mlflow.xgboost.log_model(model, \"model\")\n",
    "                elif model_name in ['lightgbm']:\n",
    "                    mlflow.lightgbm.log_model(model, \"model\")\n",
    "                else:\n",
    "                    #mlflow.sklearn.log_model(model, \"model\")\n",
    "                    mlflow.sklearn.log_model(model, \"model\")\n",
    "                    run_id = mlflow.active_run().info.run_id\n",
    "                    model_uri = f\"runs:/{run_id}/model\"\n",
    "                    mlflow.register_model(model_uri, \"conflict_classifier\")\n",
    "                \n",
    "                # Track best model\n",
    "                if metrics['f1_score'] > self.best_score:\n",
    "                    self.best_score = metrics['f1_score']\n",
    "                    self.best_model = model\n",
    "                \n",
    "                print(f\"{model_name} - F1 Score: {metrics['f1_score']:.4f}, ROC-AUC: {metrics['roc_auc']:.4f}\")\n",
    "        \n",
    "        return results\n",
    "    \n",
    "    def get_feature_importance(self, feature_names):\n",
    "        \"\"\"Get feature importance from the best model\"\"\"\n",
    "        if self.best_model is None:\n",
    "            return None\n",
    "        \n",
    "        if hasattr(self.best_model, 'feature_importances_'):\n",
    "            importance = self.best_model.feature_importances_\n",
    "            feature_importance = dict(zip(feature_names, importance))\n",
    "            return sorted(feature_importance.items(), key=lambda x: x[1], reverse=True)\n",
    "        \n",
    "        return None"
   ]
  },
  {
   "cell_type": "code",
   "execution_count": 3,
   "metadata": {},
   "outputs": [],
   "source": [
    "# Load dataset\n",
    "df = pd.read_csv('../data/ssma.csv')"
   ]
  },
  {
   "cell_type": "code",
   "execution_count": 4,
   "metadata": {},
   "outputs": [
    {
     "data": {
      "text/plain": [
       "(   Student_ID  Age  Gender Academic_Level     Country  Avg_Daily_Usage_Hours  \\\n",
       " 0           1   19  Female  Undergraduate  Bangladesh                    5.2   \n",
       " 1           2   22    Male       Graduate       India                    2.1   \n",
       " 2           3   20  Female  Undergraduate         USA                    6.0   \n",
       " 3           4   18    Male    High School          UK                    3.0   \n",
       " 4           5   21    Male       Graduate      Canada                    4.5   \n",
       " \n",
       "   Most_Used_Platform Affects_Academic_Performance  Sleep_Hours_Per_Night  \\\n",
       " 0          Instagram                          Yes                    6.5   \n",
       " 1            Twitter                           No                    7.5   \n",
       " 2             TikTok                          Yes                    5.0   \n",
       " 3            YouTube                           No                    7.0   \n",
       " 4           Facebook                          Yes                    6.0   \n",
       " \n",
       "    Mental_Health_Score Relationship_Status  Conflicts_Over_Social_Media  \\\n",
       " 0                    6     In Relationship                            3   \n",
       " 1                    8              Single                            0   \n",
       " 2                    5         Complicated                            4   \n",
       " 3                    7              Single                            1   \n",
       " 4                    6     In Relationship                            2   \n",
       " \n",
       "    Addicted_Score  \n",
       " 0               8  \n",
       " 1               3  \n",
       " 2               9  \n",
       " 3               4  \n",
       " 4               7  ,\n",
       " (705, 13))"
      ]
     },
     "execution_count": 4,
     "metadata": {},
     "output_type": "execute_result"
    }
   ],
   "source": [
    "df.head(), df.shape"
   ]
  },
  {
   "cell_type": "code",
   "execution_count": 5,
   "metadata": {},
   "outputs": [
    {
     "name": "stdout",
     "output_type": "stream",
     "text": [
      "<class 'pandas.core.frame.DataFrame'>\n",
      "RangeIndex: 705 entries, 0 to 704\n",
      "Data columns (total 13 columns):\n",
      " #   Column                        Non-Null Count  Dtype  \n",
      "---  ------                        --------------  -----  \n",
      " 0   Student_ID                    705 non-null    int64  \n",
      " 1   Age                           705 non-null    int64  \n",
      " 2   Gender                        705 non-null    object \n",
      " 3   Academic_Level                705 non-null    object \n",
      " 4   Country                       705 non-null    object \n",
      " 5   Avg_Daily_Usage_Hours         705 non-null    float64\n",
      " 6   Most_Used_Platform            705 non-null    object \n",
      " 7   Affects_Academic_Performance  705 non-null    object \n",
      " 8   Sleep_Hours_Per_Night         705 non-null    float64\n",
      " 9   Mental_Health_Score           705 non-null    int64  \n",
      " 10  Relationship_Status           705 non-null    object \n",
      " 11  Conflicts_Over_Social_Media   705 non-null    int64  \n",
      " 12  Addicted_Score                705 non-null    int64  \n",
      "dtypes: float64(2), int64(5), object(6)\n",
      "memory usage: 71.7+ KB\n"
     ]
    }
   ],
   "source": [
    "df.info()"
   ]
  },
  {
   "cell_type": "code",
   "execution_count": 6,
   "metadata": {},
   "outputs": [],
   "source": [
    "def preprocess_data(df):\n",
    "    \n",
    "    # Drop Student ID if not required\n",
    "    df = df.drop(columns=['Student_ID'])\n",
    "    \n",
    "    # Encode binary categorical variables\n",
    "    df['Gender'] = df['Gender'].map({'Male': 0, 'Female': 1})\n",
    "    df['Affects_Academic_Performance'] = df['Affects_Academic_Performance'].map({'Yes': 1, 'No': 0})\n",
    "    \n",
    "    # Use target encoding for high-cardinality categorical variables\n",
    "    from sklearn.preprocessing import LabelEncoder\n",
    "    \n",
    "    # For Country, use target encoding instead of one-hot encoding\n",
    "    country_encoder = LabelEncoder()\n",
    "    df['Country_encoded'] = country_encoder.fit_transform(df['Country'])\n",
    "    \n",
    "    # For other categorical variables, use one-hot encoding\n",
    "    categorical_vars = ['Academic_Level', 'Most_Used_Platform', 'Relationship_Status']\n",
    "    \n",
    "    # Numerical variables\n",
    "    numerical_vars = [\n",
    "        'Age', 'Avg_Daily_Usage_Hours', 'Sleep_Hours_Per_Night', \n",
    "        'Mental_Health_Score', 'Country_encoded'\n",
    "    ]\n",
    "    \n",
    "    # Define transformers\n",
    "    numeric_transformer = StandardScaler()\n",
    "    categorical_transformer = OneHotEncoder(handle_unknown='ignore')\n",
    "    \n",
    "    # Preprocessing pipeline\n",
    "    preprocessor = ColumnTransformer(\n",
    "        transformers=[\n",
    "            ('num', numeric_transformer, numerical_vars),\n",
    "            ('cat', categorical_transformer, categorical_vars)\n",
    "        ])\n",
    "    \n",
    "    X = df.drop(columns=['Conflicts_Over_Social_Media', 'Addicted_Score', 'Country'])\n",
    "     #Converting  multiclass conflict to binary and defining threshold for high vs low conflicts\n",
    "    conflict_threshold = 2  # threshold can be adjusted as required\n",
    "    df['Conflicts_Over_Social_Media_Binary'] = (df['Conflicts_Over_Social_Media'] >= conflict_threshold).astype(int)\n",
    "    \n",
    "    # Using binary target instead of multiclass\n",
    "    y_conflict = df['Conflicts_Over_Social_Media_Binary']  # Binary: 0 (Low) vs 1 (High)\n",
    "    y_addiction = df['Addicted_Score']\n",
    "    # y_conflict = df['Conflicts_Over_Social_Media']\n",
    "    # y_addiction = df['Addicted_Score']\n",
    "    \n",
    "    X_processed = preprocessor.fit_transform(X)\n",
    "    \n",
    "    return X_processed, y_conflict, y_addiction, preprocessor"
   ]
  },
  {
   "cell_type": "code",
   "execution_count": 7,
   "metadata": {},
   "outputs": [],
   "source": [
    "#print(X_processed.shape)"
   ]
  },
  {
   "cell_type": "code",
   "execution_count": 8,
   "metadata": {},
   "outputs": [],
   "source": [
    "numerical_vars = ['Age', 'Avg_Daily_Usage_Hours', 'Sleep_Hours_Per_Night', 'Mental_Health_Score']\n",
    "categorical_vars = ['Academic_Level', 'Most_Used_Platform', 'Relationship_Status']\n",
    "\n",
    "\n",
    "def get_feature_names(preprocessor, numerical_vars, categorical_vars):\n",
    "    # Get names for numeric features\n",
    "    num_features = numerical_vars\n",
    "    # Get names for one-hot encoded categorical features\n",
    "    cat_features = list(\n",
    "        preprocessor.named_transformers_['cat'].get_feature_names_out(categorical_vars)\n",
    "    )\n",
    "    return num_features + cat_features"
   ]
  },
  {
   "cell_type": "code",
   "execution_count": 9,
   "metadata": {},
   "outputs": [
    {
     "name": "stdout",
     "output_type": "stream",
     "text": [
      "Number of features in data: 23\n",
      "Number of feature names: 22\n",
      "Feature names: ['Age', 'Avg_Daily_Usage_Hours', 'Sleep_Hours_Per_Night', 'Mental_Health_Score', 'Academic_Level_Graduate', 'Academic_Level_High School', 'Academic_Level_Undergraduate', 'Most_Used_Platform_Facebook', 'Most_Used_Platform_Instagram', 'Most_Used_Platform_KakaoTalk', 'Most_Used_Platform_LINE', 'Most_Used_Platform_LinkedIn', 'Most_Used_Platform_Snapchat', 'Most_Used_Platform_TikTok', 'Most_Used_Platform_Twitter', 'Most_Used_Platform_VKontakte', 'Most_Used_Platform_WeChat', 'Most_Used_Platform_WhatsApp', 'Most_Used_Platform_YouTube', 'Relationship_Status_Complicated', 'Relationship_Status_In Relationship', 'Relationship_Status_Single']\n"
     ]
    }
   ],
   "source": [
    "#X_processed, y_conflict, y_addiction = preprocess_data(df)\n",
    "X_processed, y_conflict, y_addiction, preprocessor = preprocess_data(df)\n",
    "feature_names = get_feature_names(preprocessor, numerical_vars, categorical_vars)\n",
    "\n",
    "\n",
    "# Verify the lengths match\n",
    "print(f\"Number of features in data: {X_processed.shape[1]}\")\n",
    "print(f\"Number of feature names: {len(feature_names)}\")\n",
    "print(f\"Feature names: {feature_names}\")\n"
   ]
  },
  {
   "cell_type": "code",
   "execution_count": 10,
   "metadata": {},
   "outputs": [
    {
     "name": "stdout",
     "output_type": "stream",
     "text": [
      "Selected features:\n",
      "1. Age\n",
      "2. Avg_Daily_Usage_Hours\n",
      "3. Sleep_Hours_Per_Night\n",
      "4. Mental_Health_Score\n",
      "5. Academic_Level_Graduate\n",
      "6. Academic_Level_High School\n",
      "7. Most_Used_Platform_Facebook\n",
      "8. Most_Used_Platform_KakaoTalk\n",
      "9. Most_Used_Platform_LinkedIn\n",
      "10. Most_Used_Platform_Snapchat\n",
      "11. Most_Used_Platform_Twitter\n",
      "12. Most_Used_Platform_YouTube\n",
      "13. Relationship_Status_Complicated\n",
      "14. Relationship_Status_Single\n"
     ]
    },
    {
     "name": "stderr",
     "output_type": "stream",
     "text": [
      "2025/07/06 22:29:15 INFO mlflow.tracking.fluent: Experiment with name 'conflict_classification_v2' does not exist. Creating a new experiment.\n"
     ]
    },
    {
     "name": "stdout",
     "output_type": "stream",
     "text": [
      "🏃 View run youthful-lynx-933 at: http://127.0.0.1:5000/#/experiments/819568212325305301/runs/dac5a0bb875f4f7daf76f37a12c839a8\n",
      "🧪 View experiment at: http://127.0.0.1:5000/#/experiments/819568212325305301\n"
     ]
    },
    {
     "name": "stderr",
     "output_type": "stream",
     "text": [
      "2025/07/06 22:29:25 WARNING mlflow.models.model: Model logged without a signature and input example. Please set `input_example` parameter when logging the model to auto infer the model signature.\n",
      "Registered model 'conflict_classifier' already exists. Creating a new version of this model...\n",
      "2025/07/06 22:29:26 INFO mlflow.store.model_registry.abstract_store: Waiting up to 300 seconds for model version to finish creation. Model name: conflict_classifier, version 7\n",
      "Created version '7' of model 'conflict_classifier'.\n"
     ]
    },
    {
     "name": "stdout",
     "output_type": "stream",
     "text": [
      "random_forest - F1 Score: 0.9774, ROC-AUC: 0.9824\n",
      "🏃 View run random_forest at: http://127.0.0.1:5000/#/experiments/819568212325305301/runs/9adab918445042fbb30bd445c414f4c4\n",
      "🧪 View experiment at: http://127.0.0.1:5000/#/experiments/819568212325305301\n"
     ]
    },
    {
     "name": "stderr",
     "output_type": "stream",
     "text": [
      "2025/07/06 22:29:30 WARNING mlflow.models.model: Model logged without a signature and input example. Please set `input_example` parameter when logging the model to auto infer the model signature.\n",
      "Registered model 'conflict_classifier' already exists. Creating a new version of this model...\n",
      "2025/07/06 22:29:30 INFO mlflow.store.model_registry.abstract_store: Waiting up to 300 seconds for model version to finish creation. Model name: conflict_classifier, version 8\n",
      "Created version '8' of model 'conflict_classifier'.\n"
     ]
    },
    {
     "name": "stdout",
     "output_type": "stream",
     "text": [
      "logistic_regression - F1 Score: 0.9773, ROC-AUC: 0.9809\n",
      "🏃 View run logistic_regression at: http://127.0.0.1:5000/#/experiments/819568212325305301/runs/eeecd902c4cc4352bf17d520d96010a7\n",
      "🧪 View experiment at: http://127.0.0.1:5000/#/experiments/819568212325305301\n"
     ]
    },
    {
     "name": "stderr",
     "output_type": "stream",
     "text": [
      "2025/07/06 22:29:34 WARNING mlflow.models.model: Model logged without a signature and input example. Please set `input_example` parameter when logging the model to auto infer the model signature.\n",
      "Registered model 'conflict_classifier' already exists. Creating a new version of this model...\n",
      "2025/07/06 22:29:35 INFO mlflow.store.model_registry.abstract_store: Waiting up to 300 seconds for model version to finish creation. Model name: conflict_classifier, version 9\n",
      "Created version '9' of model 'conflict_classifier'.\n"
     ]
    },
    {
     "name": "stdout",
     "output_type": "stream",
     "text": [
      "svm - F1 Score: 0.9736, ROC-AUC: 0.9687\n",
      "🏃 View run svm at: http://127.0.0.1:5000/#/experiments/819568212325305301/runs/ea0247bb7f9843f7ab80e90a01087f88\n",
      "🧪 View experiment at: http://127.0.0.1:5000/#/experiments/819568212325305301\n"
     ]
    },
    {
     "name": "stderr",
     "output_type": "stream",
     "text": [
      "c:\\Users\\kola_\\Documents\\projects\\SDS-CP029-social-sphere\\venv\\lib\\site-packages\\xgboost\\core.py:158: UserWarning: [22:29:35] WARNING: C:\\buildkite-agent\\builds\\buildkite-windows-cpu-autoscaling-group-i-08cbc0333d8d4aae1-1\\xgboost\\xgboost-ci-windows\\src\\c_api\\c_api.cc:1374: Saving model in the UBJSON format as default.  You can use file extension: `json`, `ubj` or `deprecated` to choose between formats.\n",
      "  warnings.warn(smsg, UserWarning)\n",
      "2025/07/06 22:29:40 WARNING mlflow.models.model: Model logged without a signature and input example. Please set `input_example` parameter when logging the model to auto infer the model signature.\n"
     ]
    },
    {
     "name": "stdout",
     "output_type": "stream",
     "text": [
      "xgboost - F1 Score: 0.9736, ROC-AUC: 0.9916\n",
      "🏃 View run xgboost at: http://127.0.0.1:5000/#/experiments/819568212325305301/runs/8b14348997e64eb8b16dd84f9f30213b\n",
      "🧪 View experiment at: http://127.0.0.1:5000/#/experiments/819568212325305301\n"
     ]
    },
    {
     "name": "stderr",
     "output_type": "stream",
     "text": [
      "c:\\Users\\kola_\\Documents\\projects\\SDS-CP029-social-sphere\\venv\\lib\\site-packages\\sklearn\\utils\\validation.py:2739: UserWarning: X does not have valid feature names, but LGBMClassifier was fitted with feature names\n",
      "  warnings.warn(\n",
      "c:\\Users\\kola_\\Documents\\projects\\SDS-CP029-social-sphere\\venv\\lib\\site-packages\\sklearn\\utils\\validation.py:2739: UserWarning: X does not have valid feature names, but LGBMClassifier was fitted with feature names\n",
      "  warnings.warn(\n",
      "2025/07/06 22:29:47 WARNING mlflow.models.model: Model logged without a signature and input example. Please set `input_example` parameter when logging the model to auto infer the model signature.\n"
     ]
    },
    {
     "name": "stdout",
     "output_type": "stream",
     "text": [
      "lightgbm - F1 Score: 0.9848, ROC-AUC: 0.9939\n",
      "🏃 View run lightgbm at: http://127.0.0.1:5000/#/experiments/819568212325305301/runs/0447a11b24f443bbba35cc113ad5b839\n",
      "🧪 View experiment at: http://127.0.0.1:5000/#/experiments/819568212325305301\n",
      "\n",
      "Feature Importances (Selected Features):\n",
      "Academic_Level_Graduate: 357.0000\n",
      "Avg_Daily_Usage_Hours: 311.0000\n",
      "Sleep_Hours_Per_Night: 295.0000\n",
      "Mental_Health_Score: 154.0000\n",
      "Age: 136.0000\n",
      "Most_Used_Platform_Facebook: 26.0000\n",
      "Relationship_Status_Single: 22.0000\n",
      "Most_Used_Platform_KakaoTalk: 21.0000\n",
      "Most_Used_Platform_Twitter: 3.0000\n",
      "Most_Used_Platform_YouTube: 1.0000\n",
      "Academic_Level_High School: 0.0000\n",
      "Most_Used_Platform_LinkedIn: 0.0000\n",
      "Most_Used_Platform_Snapchat: 0.0000\n",
      "Relationship_Status_Complicated: 0.0000\n"
     ]
    }
   ],
   "source": [
    "# Load your data\n",
    "from sklearn.model_selection import train_test_split\n",
    "from sklearn.feature_selection import SelectKBest, f_classif\n",
    "from sklearn.preprocessing import LabelEncoder\n",
    "import numpy as np\n",
    "\n",
    "# Use your actual data instead of synthetic data\n",
    "X_processed, y_conflict, y_addiction, preprocessor = preprocess_data(df)\n",
    "\n",
    "# Split the actual data\n",
    "X_train, X_test, y_train, y_test = train_test_split(\n",
    "    X_processed, y_conflict, test_size=0.2, random_state=42, stratify=y_conflict\n",
    ")\n",
    "\n",
    "# Feature selection to reduce dimensionality and focus on most relevant features\n",
    "selector = SelectKBest(score_func=f_classif, k=15)  # Select top 15 features\n",
    "X_train_selected = selector.fit_transform(X_train, y_train)\n",
    "X_test_selected = selector.transform(X_test)\n",
    "\n",
    "# Get selected feature names\n",
    "selected_features_mask = selector.get_support()\n",
    "selected_feature_names = [feature_names[i] for i in range(len(feature_names)) if selected_features_mask[i]]\n",
    "\n",
    "print(\"Selected features:\")\n",
    "for i, feature in enumerate(selected_feature_names):\n",
    "    print(f\"{i+1}. {feature}\")\n",
    "\n",
    "# Initialize and run classifier with selected features\n",
    "classifier = ConflictClassifier()\n",
    "results = classifier.train_and_evaluate(X_train_selected, X_test_selected, y_train, y_test)\n",
    "\n",
    "# Get feature importances for selected features\n",
    "if classifier.best_model is not None:\n",
    "    feature_importance = classifier.get_feature_importance(selected_feature_names)\n",
    "    print(\"\\nFeature Importances (Selected Features):\")\n",
    "    for feature, importance in feature_importance:\n",
    "        print(f\"{feature}: {importance:.4f}\")"
   ]
  },
  {
   "cell_type": "code",
   "execution_count": 11,
   "metadata": {},
   "outputs": [
    {
     "name": "stdout",
     "output_type": "stream",
     "text": [
      "Requirement already satisfied: shap in c:\\users\\kola_\\documents\\projects\\sds-cp029-social-sphere\\venv\\lib\\site-packages (0.48.0)\n",
      "Requirement already satisfied: numpy in c:\\users\\kola_\\documents\\projects\\sds-cp029-social-sphere\\venv\\lib\\site-packages (from shap) (2.0.2)\n",
      "Requirement already satisfied: scipy in c:\\users\\kola_\\documents\\projects\\sds-cp029-social-sphere\\venv\\lib\\site-packages (from shap) (1.13.1)\n",
      "Requirement already satisfied: scikit-learn in c:\\users\\kola_\\documents\\projects\\sds-cp029-social-sphere\\venv\\lib\\site-packages (from shap) (1.6.1)\n",
      "Requirement already satisfied: pandas in c:\\users\\kola_\\documents\\projects\\sds-cp029-social-sphere\\venv\\lib\\site-packages (from shap) (2.2.3)\n",
      "Requirement already satisfied: tqdm>=4.27.0 in c:\\users\\kola_\\documents\\projects\\sds-cp029-social-sphere\\venv\\lib\\site-packages (from shap) (4.67.1)\n",
      "Requirement already satisfied: packaging>20.9 in c:\\users\\kola_\\documents\\projects\\sds-cp029-social-sphere\\venv\\lib\\site-packages (from shap) (24.2)\n",
      "Requirement already satisfied: slicer==0.0.8 in c:\\users\\kola_\\documents\\projects\\sds-cp029-social-sphere\\venv\\lib\\site-packages (from shap) (0.0.8)\n",
      "Requirement already satisfied: numba>=0.54 in c:\\users\\kola_\\documents\\projects\\sds-cp029-social-sphere\\venv\\lib\\site-packages (from shap) (0.60.0)\n",
      "Requirement already satisfied: cloudpickle in c:\\users\\kola_\\documents\\projects\\sds-cp029-social-sphere\\venv\\lib\\site-packages (from shap) (3.1.1)\n",
      "Requirement already satisfied: typing-extensions in c:\\users\\kola_\\documents\\projects\\sds-cp029-social-sphere\\venv\\lib\\site-packages (from shap) (4.14.0)\n",
      "Requirement already satisfied: llvmlite<0.44,>=0.43.0dev0 in c:\\users\\kola_\\documents\\projects\\sds-cp029-social-sphere\\venv\\lib\\site-packages (from numba>=0.54->shap) (0.43.0)\n",
      "Requirement already satisfied: colorama in c:\\users\\kola_\\documents\\projects\\sds-cp029-social-sphere\\venv\\lib\\site-packages (from tqdm>=4.27.0->shap) (0.4.6)\n",
      "Requirement already satisfied: python-dateutil>=2.8.2 in c:\\users\\kola_\\documents\\projects\\sds-cp029-social-sphere\\venv\\lib\\site-packages (from pandas->shap) (2.9.0.post0)\n",
      "Requirement already satisfied: pytz>=2020.1 in c:\\users\\kola_\\documents\\projects\\sds-cp029-social-sphere\\venv\\lib\\site-packages (from pandas->shap) (2025.2)\n",
      "Requirement already satisfied: tzdata>=2022.7 in c:\\users\\kola_\\documents\\projects\\sds-cp029-social-sphere\\venv\\lib\\site-packages (from pandas->shap) (2025.2)\n",
      "Requirement already satisfied: six>=1.5 in c:\\users\\kola_\\documents\\projects\\sds-cp029-social-sphere\\venv\\lib\\site-packages (from python-dateutil>=2.8.2->pandas->shap) (1.17.0)\n",
      "Requirement already satisfied: joblib>=1.2.0 in c:\\users\\kola_\\documents\\projects\\sds-cp029-social-sphere\\venv\\lib\\site-packages (from scikit-learn->shap) (1.5.1)\n",
      "Requirement already satisfied: threadpoolctl>=3.1.0 in c:\\users\\kola_\\documents\\projects\\sds-cp029-social-sphere\\venv\\lib\\site-packages (from scikit-learn->shap) (3.6.0)\n",
      "Note: you may need to restart the kernel to use updated packages.\n"
     ]
    }
   ],
   "source": [
    "%pip install shap"
   ]
  },
  {
   "cell_type": "code",
   "execution_count": 12,
   "metadata": {},
   "outputs": [
    {
     "name": "stdout",
     "output_type": "stream",
     "text": [
      "X_test_selected shape: (141, 15)\n",
      "selected_feature_names length: 14\n",
      "selected_feature_names: ['Age', 'Avg_Daily_Usage_Hours', 'Sleep_Hours_Per_Night', 'Mental_Health_Score', 'Academic_Level_Graduate', 'Academic_Level_High School', 'Most_Used_Platform_Facebook', 'Most_Used_Platform_KakaoTalk', 'Most_Used_Platform_LinkedIn', 'Most_Used_Platform_Snapchat', 'Most_Used_Platform_Twitter', 'Most_Used_Platform_YouTube', 'Relationship_Status_Complicated', 'Relationship_Status_Single']\n",
      "Feature count mismatch: 14 names vs 15 features\n"
     ]
    },
    {
     "name": "stderr",
     "output_type": "stream",
     "text": [
      "c:\\Users\\kola_\\Documents\\projects\\SDS-CP029-social-sphere\\venv\\lib\\site-packages\\shap\\explainers\\_tree.py:583: UserWarning: LightGBM binary classifier with TreeExplainer shap values output has changed to a list of ndarray\n",
      "  warnings.warn(\n"
     ]
    },
    {
     "data": {
      "image/png": "[encoded data removed]",
      "text/plain": [
       "<Figure size 800x750 with 2 Axes>"
      ]
     },
     "metadata": {},
     "output_type": "display_data"
    }
   ],
   "source": [
    "import shap\n",
    "\n",
    "# Debug: Check dimensions\n",
    "print(f\"X_test_selected shape: {X_test_selected.shape}\")\n",
    "print(f\"selected_feature_names length: {len(selected_feature_names)}\")\n",
    "print(f\"selected_feature_names: {selected_feature_names}\")\n",
    "\n",
    "# 1. Create SHAP explainer\n",
    "explainer = shap.TreeExplainer(classifier.best_model)\n",
    "\n",
    "# 2. Calculate SHAP values\n",
    "shap_values = explainer.shap_values(X_test_selected)\n",
    "\n",
    "# 3. Visualize summary plot with proper feature names\n",
    "if len(selected_feature_names) == X_test_selected.shape[1]:\n",
    "    shap.summary_plot(shap_values, X_test_selected, feature_names=selected_feature_names)\n",
    "else:\n",
    "    print(f\"Feature count mismatch: {len(selected_feature_names)} names vs {X_test_selected.shape[1]} features\")\n",
    "    # Create generic feature names as fallback\n",
    "    generic_names = [f\"Feature_{i}\" for i in range(X_test_selected.shape[1])]\n",
    "    shap.summary_plot(shap_values, X_test_selected, feature_names=generic_names)"
   ]
  },
  {
   "cell_type": "code",
   "execution_count": null,
   "metadata": {},
   "outputs": [],
   "source": []
  }
 ],
 "metadata": {
  "kernelspec": {
   "display_name": "venv",
   "language": "python",
   "name": "python3"
  },
  "language_info": {
   "codemirror_mode": {
    "name": "ipython",
    "version": 3
   },
   "file_extension": ".py",
   "mimetype": "text/x-python",
   "name": "python",
   "nbconvert_exporter": "python",
   "pygments_lexer": "ipython3",
   "version": "3.9.5"
  }
 },
 "nbformat": 4,
 "nbformat_minor": 2
}
