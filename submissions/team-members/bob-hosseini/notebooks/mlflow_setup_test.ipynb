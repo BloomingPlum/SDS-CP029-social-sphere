{
 "cells": [
  {
   "cell_type": "markdown",
   "metadata": {},
   "source": [
    "# Mlflow setup test\n",
    "\n",
    "This notebook is used to test the mlflow setup with a dummy classification experiment."
   ]
  },
  {
   "cell_type": "code",
   "execution_count": 2,
   "metadata": {},
   "outputs": [
    {
     "data": {
      "text/html": [
       "<pre style=\"white-space:pre;overflow-x:auto;line-height:normal;font-family:Menlo,'DejaVu Sans Mono',consolas,'Courier New',monospace\">Initialized MLflow to track repo <span style=\"color: #008000; text-decoration-color: #008000\">\"bab-git/SDS-social-sphere\"</span>\n",
       "</pre>\n"
      ],
      "text/plain": [
       "Initialized MLflow to track repo \u001b[32m\"bab-git/SDS-social-sphere\"\u001b[0m\n"
      ]
     },
     "metadata": {},
     "output_type": "display_data"
    },
    {
     "data": {
      "text/html": [
       "<pre style=\"white-space:pre;overflow-x:auto;line-height:normal;font-family:Menlo,'DejaVu Sans Mono',consolas,'Courier New',monospace\">Repository bab-git/SDS-social-sphere initialized!\n",
       "</pre>\n"
      ],
      "text/plain": [
       "Repository bab-git/SDS-social-sphere initialized!\n"
      ]
     },
     "metadata": {},
     "output_type": "display_data"
    },
    {
     "name": "stdout",
     "output_type": "stream",
     "text": [
      "f15e997b9299f1ec88303326e6e9474869c628e8\n",
      "bab-git\n",
      "SDS-social-sphere\n"
     ]
    }
   ],
   "source": [
    "import mlflow\n",
    "import dagshub\n",
    "from mlflow.tracking import MlflowClient\n",
    "import os\n",
    "\n",
    "from dotenv import load_dotenv, find_dotenv\n",
    "\n",
    "# Automatically find and load .env file from any parent directory\n",
    "load_dotenv(find_dotenv())\n",
    "\n",
    "DAGSHUB_USER_NAME = os.getenv(\"DAGSHUB_USER_NAME\")\n",
    "DAGSHUB_TOKEN = os.getenv(\"DAGSHUB_TOKEN\")\n",
    "# tracking_uri = os.getenv(\"MLFLOW_TRACKING_URI\")\n",
    "DAGSHUB_REPO = os.getenv(\"DAGSHUB_REPO\")\n",
    "\n",
    "\n",
    "# ✅ Set credentials and tracking URI\n",
    "# os.environ[\"MLFLOW_TRACKING_USERNAME\"] = DAGSHUB_USER_NAME\n",
    "os.environ[\"MLFLOW_TRACKING_PASSWORD\"] = DAGSHUB_TOKEN\n",
    "# os.environ['MLFLOW_TRACKING_URI']=f\"https://dagshub.com/{DAGSHUB_USER_NAME}/{DAGSHUB_REPO}.mlflow\"\n",
    "# tracking_uri = os.environ['MLFLOW_TRACKING_URI']\n",
    "# mlflow.set_tracking_uri(tracking_uri)\n",
    "\n",
    "# mlflow.set_experiment(\"socialsphere_classification\")\n",
    "\n",
    "# Initialize DagsHub tracking\n",
    "dagshub.init(repo_owner=DAGSHUB_USER_NAME, repo_name=DAGSHUB_REPO, mlflow=True)\n",
    "\n",
    "# Set tracking URI to local directory\n",
    "# mlflow.set_tracking_uri(\"file:../mlruns\")  # Adjust path as needed if notebook is nested\n",
    "\n",
    "# Set experiment\n",
    "# mlflow.set_experiment(\"Test_Classification2\")\n",
    "\n",
    "# Create or get experiment\n",
    "experiment_name = \"Classification_Conflicts\"\n",
    "mlflow.set_experiment(experiment_name)\n",
    "# DAGSHUB_TOKEN\n",
    "print(DAGSHUB_TOKEN)\n",
    "print(DAGSHUB_USER_NAME)\n",
    "print(DAGSHUB_REPO)\n",
    "# print(tracking_uri)"
   ]
  },
  {
   "cell_type": "code",
   "execution_count": null,
   "metadata": {},
   "outputs": [
    {
     "name": "stderr",
     "output_type": "stream",
     "text": [
      "/opt/anaconda3/envs/c29env/lib/python3.12/site-packages/mlflow/types/utils.py:452: UserWarning: Hint: Inferred schema contains integer column(s). Integer columns in Python cannot represent missing values. If your input data contains missing values at inference time, it will be encoded as floats and will cause a schema enforcement error. The best way to avoid this problem is to infer the model schema based on a realistic data sample (training dataset) that includes missing values. Alternatively, you can declare integer columns as doubles (float64) whenever these columns may have missing values. See `Handling Integers With Missing Values <https://www.mlflow.org/docs/latest/models.html#handling-integers-with-missing-values>`_ for more details.\n",
      "  warnings.warn(\n"
     ]
    },
    {
     "name": "stdout",
     "output_type": "stream",
     "text": [
      "🏃 View run charming-yak-137 at: https://dagshub.com/bab-git/SDS-social-sphere.mlflow/#/experiments/2/runs/6f6ace86cfda4e73af2e5625c7107754\n",
      "🧪 View experiment at: https://dagshub.com/bab-git/SDS-social-sphere.mlflow/#/experiments/2\n"
     ]
    }
   ],
   "source": [
    "from sklearn.dummy import DummyClassifier\n",
    "from sklearn.model_selection import train_test_split\n",
    "from sklearn.metrics import accuracy_score\n",
    "import pandas as pd\n",
    "import mlflow.sklearn\n",
    "import shutil\n",
    "\n",
    "# dagshub.init('bab-git', 'SDS-social-sphere')\n",
    "# mlflow.set_tracking_uri('https://dagshub.com/bab-git/SDS-social-sphere.mlflow')\n",
    "# mlflow.sklearn.autolog()\n",
    "\n",
    "# Minimal dummy data\n",
    "X = pd.DataFrame({\"feature1\": [1, 0, 1, 0], \"feature2\": [0, 1, 1, 0]})\n",
    "y = [1, 0, 1, 0]\n",
    "\n",
    "X_train, X_test, y_train, y_test = train_test_split(X, y, test_size=0.5, random_state=42)\n",
    "\n",
    "from mlflow.models.signature import infer_signature\n",
    "\n",
    "\n",
    "\n",
    "with mlflow.start_run():\n",
    "    clf = DummyClassifier(strategy=\"most_frequent\")\n",
    "    clf.fit(X_train, y_train)\n",
    "    preds = clf.predict(X_test)\n",
    "    acc = accuracy_score(y_test, preds)\n",
    "\n",
    "    signature = infer_signature(X_test, preds)\n",
    "    \n",
    "    mlflow.log_param(\"strategy\", \"most_frequent\")\n",
    "    mlflow.log_metric(\"accuracy\", acc)\n",
    "\n",
    "    # 1) save locally\n",
    "    shutil.rmtree(\"tmp_model\", ignore_errors=True)\n",
    "    # mlflow.sklearn.save_model(clf, path=\"tmp_model\")\n",
    "    # 2) push as artifacts\n",
    "    # mlflow.log_artifacts(\"tmp_model\", artifact_path=\"my_model\")\n",
    "\n",
    "    mlflow.sklearn.log_model(\n",
    "        clf, \n",
    "        artifact_path=\"dummy_model\", \n",
    "        signature=signature,\n",
    "        input_example=X_test.iloc[0:1]\n",
    "        )\n"
   ]
  }
 ],
 "metadata": {
  "kernelspec": {
   "display_name": "c29env",
   "language": "python",
   "name": "python3"
  },
  "language_info": {
   "codemirror_mode": {
    "name": "ipython",
    "version": 3
   },
   "file_extension": ".py",
   "mimetype": "text/x-python",
   "name": "python",
   "nbconvert_exporter": "python",
   "pygments_lexer": "ipython3",
   "version": "3.12.0"
  }
 },
 "nbformat": 4,
 "nbformat_minor": 2
}
