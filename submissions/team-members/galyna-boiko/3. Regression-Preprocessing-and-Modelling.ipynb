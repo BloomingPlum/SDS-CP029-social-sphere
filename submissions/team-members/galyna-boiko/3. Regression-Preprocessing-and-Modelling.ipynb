{
 "cells": [
  {
   "cell_type": "code",
   "execution_count": 17,
   "id": "38dc88b7",
   "metadata": {},
   "outputs": [],
   "source": [
    "# Data manipulation and visualization\n",
    "import pandas as pd\n",
    "import numpy as np\n",
    "import matplotlib.pyplot as plt\n",
    "import seaborn as sns\n",
    "import joblib\n",
    "\n",
    "# MLflow\n",
    "import mlflow\n",
    "from mlflow.models.signature import infer_signature\n",
    "from mlflow.tracking import MlflowClient\n",
    "import inspect\n",
    "\n",
    "from sklearn.model_selection import train_test_split\n",
    "from sklearn.linear_model import LinearRegression\n",
    "\n",
    "from sklearn.metrics import (\n",
    "    accuracy_score, f1_score, precision_score, recall_score,\n",
    "    confusion_matrix, ConfusionMatrixDisplay, mean_absolute_error,\n",
    "    mean_squared_error\n",
    ")\n",
    "import matplotlib.pyplot as plt\n",
    "import mlflow\n",
    "import warnings\n",
    "import inspect\n",
    "from mlflow.models.signature import infer_signature\n",
    "import numpy as np\n",
    "import pandas as pd\n",
    "\n",
    "from mord import LogisticAT\n",
    "from sklearn.pipeline import Pipeline\n",
    "from sklearn.preprocessing import StandardScaler, OneHotEncoder\n",
    "from category_encoders import TargetEncoder\n",
    "from sklearn.compose import ColumnTransformer\n",
    "from sklearn.metrics import mean_absolute_error, mean_squared_error\n",
    "from xgboost import XGBRegressor\n",
    "\n",
    "from mord import LogisticAT \n",
    "from utils import log_linear_model_run \n",
    "\n",
    "from sklearn.metrics import mean_absolute_error, mean_squared_error"
   ]
  },
  {
   "cell_type": "code",
   "execution_count": 2,
   "id": "ecad4865",
   "metadata": {},
   "outputs": [],
   "source": [
    "warnings.filterwarnings(\n",
    "    \"ignore\",\n",
    "    message=\".*Inferred schema contains integer column.*\",\n",
    "    category=UserWarning,\n",
    "    module=\"mlflow.types.utils\"\n",
    ")"
   ]
  },
  {
   "cell_type": "code",
   "execution_count": 3,
   "id": "7afe0436",
   "metadata": {},
   "outputs": [
    {
     "name": "stdout",
     "output_type": "stream",
     "text": [
      "file:///C:/Users/Galyna/mlruns\n"
     ]
    }
   ],
   "source": [
    "mlflow.set_tracking_uri(\"file:///C:/Users/Galyna/mlruns\")\n",
    "print(mlflow.get_tracking_uri())"
   ]
  },
  {
   "cell_type": "code",
   "execution_count": 4,
   "id": "8cec495a",
   "metadata": {},
   "outputs": [],
   "source": [
    "df = pd.read_csv('data.csv') "
   ]
  },
  {
   "cell_type": "code",
   "execution_count": 5,
   "id": "5bd12c69",
   "metadata": {},
   "outputs": [
    {
     "data": {
      "text/html": [
       "<div>\n",
       "<style scoped>\n",
       "    .dataframe tbody tr th:only-of-type {\n",
       "        vertical-align: middle;\n",
       "    }\n",
       "\n",
       "    .dataframe tbody tr th {\n",
       "        vertical-align: top;\n",
       "    }\n",
       "\n",
       "    .dataframe thead th {\n",
       "        text-align: right;\n",
       "    }\n",
       "</style>\n",
       "<table border=\"1\" class=\"dataframe\">\n",
       "  <thead>\n",
       "    <tr style=\"text-align: right;\">\n",
       "      <th></th>\n",
       "      <th>Student_ID</th>\n",
       "      <th>Age</th>\n",
       "      <th>Gender</th>\n",
       "      <th>Academic_Level</th>\n",
       "      <th>Country</th>\n",
       "      <th>Avg_Daily_Usage_Hours</th>\n",
       "      <th>Most_Used_Platform</th>\n",
       "      <th>Affects_Academic_Performance</th>\n",
       "      <th>Sleep_Hours_Per_Night</th>\n",
       "      <th>Mental_Health_Score</th>\n",
       "      <th>Relationship_Status</th>\n",
       "      <th>Conflicts_Over_Social_Media</th>\n",
       "      <th>Addicted_Score</th>\n",
       "    </tr>\n",
       "  </thead>\n",
       "  <tbody>\n",
       "    <tr>\n",
       "      <th>0</th>\n",
       "      <td>1</td>\n",
       "      <td>19</td>\n",
       "      <td>Female</td>\n",
       "      <td>Undergraduate</td>\n",
       "      <td>Bangladesh</td>\n",
       "      <td>5.2</td>\n",
       "      <td>Instagram</td>\n",
       "      <td>Yes</td>\n",
       "      <td>6.5</td>\n",
       "      <td>6</td>\n",
       "      <td>In Relationship</td>\n",
       "      <td>3</td>\n",
       "      <td>8</td>\n",
       "    </tr>\n",
       "    <tr>\n",
       "      <th>1</th>\n",
       "      <td>2</td>\n",
       "      <td>22</td>\n",
       "      <td>Male</td>\n",
       "      <td>Graduate</td>\n",
       "      <td>India</td>\n",
       "      <td>2.1</td>\n",
       "      <td>Twitter</td>\n",
       "      <td>No</td>\n",
       "      <td>7.5</td>\n",
       "      <td>8</td>\n",
       "      <td>Single</td>\n",
       "      <td>0</td>\n",
       "      <td>3</td>\n",
       "    </tr>\n",
       "    <tr>\n",
       "      <th>2</th>\n",
       "      <td>3</td>\n",
       "      <td>20</td>\n",
       "      <td>Female</td>\n",
       "      <td>Undergraduate</td>\n",
       "      <td>USA</td>\n",
       "      <td>6.0</td>\n",
       "      <td>TikTok</td>\n",
       "      <td>Yes</td>\n",
       "      <td>5.0</td>\n",
       "      <td>5</td>\n",
       "      <td>Complicated</td>\n",
       "      <td>4</td>\n",
       "      <td>9</td>\n",
       "    </tr>\n",
       "    <tr>\n",
       "      <th>3</th>\n",
       "      <td>4</td>\n",
       "      <td>18</td>\n",
       "      <td>Male</td>\n",
       "      <td>High School</td>\n",
       "      <td>UK</td>\n",
       "      <td>3.0</td>\n",
       "      <td>YouTube</td>\n",
       "      <td>No</td>\n",
       "      <td>7.0</td>\n",
       "      <td>7</td>\n",
       "      <td>Single</td>\n",
       "      <td>1</td>\n",
       "      <td>4</td>\n",
       "    </tr>\n",
       "    <tr>\n",
       "      <th>4</th>\n",
       "      <td>5</td>\n",
       "      <td>21</td>\n",
       "      <td>Male</td>\n",
       "      <td>Graduate</td>\n",
       "      <td>Canada</td>\n",
       "      <td>4.5</td>\n",
       "      <td>Facebook</td>\n",
       "      <td>Yes</td>\n",
       "      <td>6.0</td>\n",
       "      <td>6</td>\n",
       "      <td>In Relationship</td>\n",
       "      <td>2</td>\n",
       "      <td>7</td>\n",
       "    </tr>\n",
       "  </tbody>\n",
       "</table>\n",
       "</div>"
      ],
      "text/plain": [
       "   Student_ID  Age  Gender Academic_Level     Country  Avg_Daily_Usage_Hours  \\\n",
       "0           1   19  Female  Undergraduate  Bangladesh                    5.2   \n",
       "1           2   22    Male       Graduate       India                    2.1   \n",
       "2           3   20  Female  Undergraduate         USA                    6.0   \n",
       "3           4   18    Male    High School          UK                    3.0   \n",
       "4           5   21    Male       Graduate      Canada                    4.5   \n",
       "\n",
       "  Most_Used_Platform Affects_Academic_Performance  Sleep_Hours_Per_Night  \\\n",
       "0          Instagram                          Yes                    6.5   \n",
       "1            Twitter                           No                    7.5   \n",
       "2             TikTok                          Yes                    5.0   \n",
       "3            YouTube                           No                    7.0   \n",
       "4           Facebook                          Yes                    6.0   \n",
       "\n",
       "   Mental_Health_Score Relationship_Status  Conflicts_Over_Social_Media  \\\n",
       "0                    6     In Relationship                            3   \n",
       "1                    8              Single                            0   \n",
       "2                    5         Complicated                            4   \n",
       "3                    7              Single                            1   \n",
       "4                    6     In Relationship                            2   \n",
       "\n",
       "   Addicted_Score  \n",
       "0               8  \n",
       "1               3  \n",
       "2               9  \n",
       "3               4  \n",
       "4               7  "
      ]
     },
     "execution_count": 5,
     "metadata": {},
     "output_type": "execute_result"
    }
   ],
   "source": [
    "df.head()"
   ]
  },
  {
   "cell_type": "code",
   "execution_count": 6,
   "id": "6ecf2ac0",
   "metadata": {},
   "outputs": [],
   "source": [
    "df = pd.read_csv('data.csv') "
   ]
  },
  {
   "cell_type": "code",
   "execution_count": 7,
   "id": "8e8a59cd",
   "metadata": {},
   "outputs": [
    {
     "name": "stdout",
     "output_type": "stream",
     "text": [
      "['Age', 'Avg_Daily_Usage_Hours', 'Sleep_Hours_Per_Night', 'Mental_Health_Score']\n",
      "['Gender', 'Academic_Level', 'Most_Used_Platform', 'Affects_Academic_Performance', 'Relationship_Status']\n"
     ]
    }
   ],
   "source": [
    "exclude_cols = ['Student_ID', 'Conflicts_Over_Social_Media', 'Country', 'Addicted_Score'] \n",
    "numeric_cols = df.select_dtypes(include='number').columns\n",
    "numeric_cols = [col for col in numeric_cols if col not in exclude_cols]\n",
    "print(numeric_cols)\n",
    "\n",
    "categoric_cols = df.select_dtypes(include='object').columns\n",
    "categoric_cols = [col for col in categoric_cols if col not in exclude_cols]\n",
    "print(categoric_cols)"
   ]
  },
  {
   "cell_type": "code",
   "execution_count": 8,
   "id": "f5fa7c0b",
   "metadata": {},
   "outputs": [],
   "source": [
    "numeric_pipe  = Pipeline([('std_scaler', StandardScaler())])\n",
    "categorical_ohe_pipe = Pipeline([('onehot', OneHotEncoder(handle_unknown='ignore'))])\n",
    "country_te_pipe = Pipeline([('target_enc', TargetEncoder())])"
   ]
  },
  {
   "cell_type": "code",
   "execution_count": 9,
   "id": "aeb909b0",
   "metadata": {},
   "outputs": [],
   "source": [
    "# Define preprocessing and pipeline\n",
    "preprocessor = ColumnTransformer([\n",
    "    ('numeric',          numeric_pipe,      numeric_cols),\n",
    "    ('categorical_ohe',  categorical_ohe_pipe, categoric_cols),\n",
    "    ('country_te',       country_te_pipe,   ['Country'])\n",
    "])"
   ]
  },
  {
   "cell_type": "code",
   "execution_count": 10,
   "id": "3de693ed",
   "metadata": {},
   "outputs": [],
   "source": [
    "train_df, val_df = train_test_split(df, test_size=0.2, random_state=42)"
   ]
  },
  {
   "cell_type": "code",
   "execution_count": 11,
   "id": "01ca2d13",
   "metadata": {},
   "outputs": [],
   "source": [
    "input_cols = numeric_cols + categoric_cols + ['Country']\n",
    "target_col = 'Addicted_Score'\n",
    "train_inputs, train_targets = train_df[input_cols].copy(), train_df[target_col].copy()\n",
    "val_inputs, val_targets = val_df[input_cols].copy(), val_df[target_col].copy()"
   ]
  },
  {
   "cell_type": "markdown",
   "id": "9a9aed71",
   "metadata": {},
   "source": [
    "### Linear Regression"
   ]
  },
  {
   "cell_type": "code",
   "execution_count": 12,
   "id": "d5e8331c",
   "metadata": {},
   "outputs": [],
   "source": [
    "lin_reg_model = Pipeline(steps=[\n",
    "    ('preprocessor', preprocessor),\n",
    "    ('classifier', LinearRegression()) \n",
    "])"
   ]
  },
  {
   "cell_type": "code",
   "execution_count": 13,
   "id": "d57880ed",
   "metadata": {},
   "outputs": [],
   "source": [
    "lin_reg_model.fit(train_inputs, train_targets)\n",
    "\n",
    "# predict + round\n",
    "train_preds = np.clip(np.round(lin_reg_model.predict(train_inputs)), 2, 9).astype(int)\n",
    "val_preds   = np.clip(np.round(lin_reg_model.predict(val_inputs)),   2, 9).astype(int)"
   ]
  },
  {
   "cell_type": "code",
   "execution_count": 14,
   "id": "bb019224",
   "metadata": {},
   "outputs": [],
   "source": [
    "params_lr = {\n",
    "    \"model_type\": \"LinearRegression\",\n",
    "    \"test_size\": 0.2,\n",
    "    \"random_state\": 42,\n",
    "    \"n_features\": train_inputs.shape[1]\n",
    "}"
   ]
  },
  {
   "cell_type": "code",
   "execution_count": 15,
   "id": "2607f78c",
   "metadata": {},
   "outputs": [
    {
     "data": {
      "application/vnd.jupyter.widget-view+json": {
       "model_id": "4fc2d503f30e4a96b7d95f035dadbc62",
       "version_major": 2,
       "version_minor": 0
      },
      "text/plain": [
       "Downloading artifacts:   0%|          | 0/7 [00:00<?, ?it/s]"
      ]
     },
     "metadata": {},
     "output_type": "display_data"
    },
    {
     "name": "stdout",
     "output_type": "stream",
     "text": [
      "Logged metrics: {'mae_train': 0.21539439219389878, 'mse_train': 0.08732494982479505, 'rmse_train': 0.295507952219217, 'r2_train': 0.9653111547421126, 'adjusted_r2_train': 0.9646838700177385, 'mae_val': 0.21980320466839018, 'mse_val': 0.08726070140386609, 'rmse_val': 0.29539922376991123, 'r2_val': 0.9651276432296723, 'adjusted_r2_val': 0.9624451542473393}\n"
     ]
    },
    {
     "name": "stderr",
     "output_type": "stream",
     "text": [
      "Registered model 'LinearRegression_v1' already exists. Creating a new version of this model...\n",
      "Created version '9' of model 'LinearRegression_v1'.\n"
     ]
    }
   ],
   "source": [
    "metrics = log_linear_model_run(\n",
    "    model=lin_reg_model,\n",
    "    params=params_lr,\n",
    "    train_X=train_inputs,\n",
    "    train_y=train_targets,\n",
    "    val_X=val_inputs,\n",
    "    val_y=val_targets,\n",
    "    model_name=\"LinearRegression_v1\",\n",
    "    experiment_name=\"Regression models\"\n",
    ")\n",
    "\n",
    "print(\"Logged metrics:\", metrics)"
   ]
  },
  {
   "cell_type": "code",
   "execution_count": 18,
   "id": "271cd03a",
   "metadata": {},
   "outputs": [
    {
     "data": {
      "text/plain": [
       "['addiction_score_lin_reg.joblib']"
      ]
     },
     "execution_count": 18,
     "metadata": {},
     "output_type": "execute_result"
    }
   ],
   "source": [
    "joblib.dump(lin_reg_model, \"addiction_score_lin_reg.joblib\")"
   ]
  },
  {
   "cell_type": "code",
   "execution_count": 20,
   "id": "eef02534",
   "metadata": {},
   "outputs": [
    {
     "data": {
      "image/png": "[encoded data removed]",
      "text/plain": [
       "<Figure size 640x480 with 2 Axes>"
      ]
     },
     "metadata": {},
     "output_type": "display_data"
    }
   ],
   "source": [
    "# Generate confusion matrix\n",
    "cm_linreg = confusion_matrix(val_targets, val_preds, labels=np.arange(2, 10))\n",
    "\n",
    "# Plot\n",
    "disp = ConfusionMatrixDisplay(confusion_matrix=cm_linreg, display_labels=np.arange(2, 10))\n",
    "disp.plot(cmap=\"Greens\", values_format='d')  # or '0.2f' for percentages if normalized\n",
    "plt.title(\"Confusion Matrix – Linear Regression (Rounded & Clipped)\")\n",
    "plt.show()"
   ]
  },
  {
   "cell_type": "markdown",
   "id": "ecb7c62e",
   "metadata": {},
   "source": [
    "### XGBoost"
   ]
  },
  {
   "cell_type": "code",
   "execution_count": 21,
   "id": "608bf488",
   "metadata": {},
   "outputs": [],
   "source": [
    "xgb_reg_model = Pipeline(steps=[\n",
    "    (\"preprocessor\", preprocessor),          # ← keeps all your scaling / encoding\n",
    "    (\"regressor\", XGBRegressor(              # ← new name & new estimator\n",
    "        n_estimators=500,        # trees (try 300–1000)\n",
    "        learning_rate=0.05,      # shrinkage\n",
    "        max_depth=6,             # tree depth\n",
    "        subsample=0.8,           # row sampling\n",
    "        colsample_bytree=0.8,    # column sampling\n",
    "        objective=\"reg:squarederror\",\n",
    "        random_state=42,\n",
    "        n_jobs=-1                # use all CPU cores\n",
    "    ))\n",
    "])"
   ]
  },
  {
   "cell_type": "code",
   "execution_count": 22,
   "id": "4a5de001",
   "metadata": {},
   "outputs": [],
   "source": [
    "xgb_reg_model.fit(train_inputs, train_targets)\n",
    "\n",
    "train_preds_xgb = np.clip(np.round(xgb_reg_model.predict(train_inputs)), 2, 9).astype(int)\n",
    "val_preds_xgb   = np.clip(np.round(xgb_reg_model.predict(val_inputs)),   2, 9).astype(int)"
   ]
  },
  {
   "cell_type": "code",
   "execution_count": 23,
   "id": "c05586b7",
   "metadata": {},
   "outputs": [
    {
     "data": {
      "image/png": "[encoded data removed]",
      "text/plain": [
       "<Figure size 640x480 with 2 Axes>"
      ]
     },
     "metadata": {},
     "output_type": "display_data"
    }
   ],
   "source": [
    "# Step 2: Generate confusion matrix for validation set\n",
    "cm_xgb = confusion_matrix(val_targets, val_preds_xgb, labels=np.arange(2, 10))\n",
    "\n",
    "# Step 3: Plot\n",
    "disp = ConfusionMatrixDisplay(confusion_matrix=cm_xgb, display_labels=np.arange(2, 10))\n",
    "disp.plot(cmap=\"Purples\", values_format='d')\n",
    "plt.title(\"Confusion Matrix – XGBoost Regressor (Rounded & Clipped)\")\n",
    "plt.show()"
   ]
  },
  {
   "cell_type": "code",
   "execution_count": 24,
   "id": "24b69bbb",
   "metadata": {},
   "outputs": [],
   "source": [
    "params_xgb_reg = {\n",
    "    \"model_type\": \"XGBoost Regression\",\n",
    "    \"test_size\": 0.2,\n",
    "    \"random_state\": 42,\n",
    "    \"n_features\": train_inputs.shape[1]\n",
    "}"
   ]
  },
  {
   "cell_type": "code",
   "execution_count": 25,
   "id": "7accea39",
   "metadata": {},
   "outputs": [
    {
     "data": {
      "application/vnd.jupyter.widget-view+json": {
       "model_id": "d87af0444a51442b8aa2244c22916eef",
       "version_major": 2,
       "version_minor": 0
      },
      "text/plain": [
       "Downloading artifacts:   0%|          | 0/7 [00:00<?, ?it/s]"
      ]
     },
     "metadata": {},
     "output_type": "display_data"
    },
    {
     "name": "stdout",
     "output_type": "stream",
     "text": [
      "Logged metrics: {'mae_train': 0.0050391461700201035, 'mse_train': 5.7062326959567145e-05, 'rmse_train': 0.007553961011255429, 'r2_train': 0.9999773502349854, 'adjusted_r2_train': 0.9999769406551479, 'mae_val': 0.08965243399143219, 'mse_val': 0.041623082011938095, 'rmse_val': 0.2040173571339902, 'r2_val': 0.9833660125732422, 'adjusted_r2_val': 0.9820864750788763}\n"
     ]
    },
    {
     "name": "stderr",
     "output_type": "stream",
     "text": [
      "Registered model 'XGBoost_Regression_v1' already exists. Creating a new version of this model...\n",
      "Created version '5' of model 'XGBoost_Regression_v1'.\n"
     ]
    }
   ],
   "source": [
    "metrics = log_linear_model_run(\n",
    "    model=xgb_reg_model,\n",
    "    params=params_xgb_reg,\n",
    "    train_X=train_inputs,\n",
    "    train_y=train_targets,\n",
    "    val_X=val_inputs,\n",
    "    val_y=val_targets,\n",
    "    model_name=\"XGBoost_Regression_v1\",\n",
    "    experiment_name=\"Regression models\"\n",
    ")\n",
    "\n",
    "print(\"Logged metrics:\", metrics)"
   ]
  },
  {
   "cell_type": "markdown",
   "id": "de838525",
   "metadata": {},
   "source": [
    "### Ordinal Regression (Classification)"
   ]
  },
  {
   "cell_type": "code",
   "execution_count": 26,
   "id": "0d351b3e",
   "metadata": {},
   "outputs": [],
   "source": [
    "ord_reg_model = Pipeline(steps=[\n",
    "    ('preprocessor', preprocessor),\n",
    "    ('classifier', LogisticAT()) \n",
    "])"
   ]
  },
  {
   "cell_type": "code",
   "execution_count": 27,
   "id": "7267e061",
   "metadata": {},
   "outputs": [],
   "source": [
    "ord_reg_model.fit(train_inputs, train_targets)\n",
    "\n",
    "train_preds_ord = ord_reg_model.predict(train_inputs)\n",
    "val_preds_ord   = ord_reg_model.predict(val_inputs)"
   ]
  },
  {
   "cell_type": "code",
   "execution_count": 28,
   "id": "a499d897",
   "metadata": {},
   "outputs": [
    {
     "name": "stdout",
     "output_type": "stream",
     "text": [
      "Train  MAE:  0.110   |  RMSE: 0.332\n",
      "Valid. MAE:  0.113   |  RMSE: 0.337\n"
     ]
    }
   ],
   "source": [
    "# -------- Train set --------\n",
    "mae_train  = mean_absolute_error(train_targets, train_preds)\n",
    "rmse_train = np.sqrt(mean_squared_error(train_targets, train_preds)) \n",
    "\n",
    "# -------- Validation set --------\n",
    "mae_val  = mean_absolute_error(val_targets, val_preds)\n",
    "rmse_val   = np.sqrt(mean_squared_error(val_targets, val_preds))\n",
    "\n",
    "print(f\"Train  MAE:  {mae_train:.3f}   |  RMSE: {rmse_train:.3f}\")\n",
    "print(f\"Valid. MAE:  {mae_val:.3f}   |  RMSE: {rmse_val:.3f}\")"
   ]
  },
  {
   "cell_type": "code",
   "execution_count": 29,
   "id": "63ec33a6",
   "metadata": {},
   "outputs": [
    {
     "data": {
      "image/png": "[encoded data removed]",
      "text/plain": [
       "<Figure size 640x480 with 2 Axes>"
      ]
     },
     "metadata": {},
     "output_type": "display_data"
    }
   ],
   "source": [
    "# Confusion matrix on validation set\n",
    "cm_ord = confusion_matrix(val_targets, val_preds_ord, labels=np.arange(2, 10))\n",
    "\n",
    "# Display\n",
    "disp = ConfusionMatrixDisplay(confusion_matrix=cm_ord, display_labels=np.arange(2, 10))\n",
    "disp.plot(cmap=\"Blues\", values_format='d')\n",
    "plt.title(\"Confusion Matrix - Ordinal Logistic Regression\")\n",
    "plt.show()"
   ]
  }
 ],
 "metadata": {
  "kernelspec": {
   "display_name": "ml2025",
   "language": "python",
   "name": "python3"
  },
  "language_info": {
   "codemirror_mode": {
    "name": "ipython",
    "version": 3
   },
   "file_extension": ".py",
   "mimetype": "text/x-python",
   "name": "python",
   "nbconvert_exporter": "python",
   "pygments_lexer": "ipython3",
   "version": "3.12.9"
  }
 },
 "nbformat": 4,
 "nbformat_minor": 5
}
