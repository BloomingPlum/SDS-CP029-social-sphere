{
 "cells": [
  {
   "cell_type": "markdown",
   "id": "dd0a7481",
   "metadata": {},
   "source": [
    "## Data Loading and Initial Setup\n",
    "\n",
    "Here we import all necessary libraries and set up our development environment:\n",
    "- Data manipulation: pandas, numpy\n",
    "- Visualization: matplotlib, seaborn\n",
    "- Machine learning: scikit-learn, XGBoost\n",
    "- Model tracking: MLflow\n",
    "\n",
    "We'll use these libraries throughout the notebook for data processing, model training, and evaluation."
   ]
  },
  {
   "cell_type": "code",
   "execution_count": 33,
   "id": "9d1e26ba",
   "metadata": {},
   "outputs": [],
   "source": [
    "# Data manipulation and visualization\n",
    "import pandas as pd\n",
    "import numpy as np\n",
    "import matplotlib.pyplot as plt\n",
    "import seaborn as sns\n",
    "from numpy import unique\n",
    "\n",
    "# MLflow\n",
    "import mlflow\n",
    "from mlflow.models.signature import infer_signature\n",
    "from mlflow.tracking import MlflowClient\n",
    "import inspect\n",
    "\n",
    "# Scikit-learn preprocessing and pipeline\n",
    "from sklearn.preprocessing import StandardScaler, OneHotEncoder\n",
    "from sklearn.pipeline import Pipeline\n",
    "from sklearn.compose import ColumnTransformer\n",
    "from sklearn.model_selection import train_test_split\n",
    "\n",
    "# Models\n",
    "from sklearn.linear_model import LogisticRegression\n",
    "from xgboost import XGBClassifier\n",
    "from sklearn.svm import LinearSVC\n",
    "from sklearn.multiclass import OneVsRestClassifier\n",
    "from sklearn.svm import SVC\n",
    "\n",
    "# Metrics\n",
    "from sklearn.metrics import (\n",
    "    accuracy_score, roc_auc_score, confusion_matrix, \n",
    "    ConfusionMatrixDisplay, roc_curve, auc,\n",
    "    precision_score, recall_score, f1_score\n",
    ")\n",
    "\n",
    "# Logging configuration\n",
    "import logging\n",
    "logging.getLogger(\"mlflow.models.model\").setLevel(logging.ERROR)\n",
    "\n",
    "# Warnings management\n",
    "import warnings\n",
    "\n"
   ]
  },
  {
   "cell_type": "code",
   "execution_count": 2,
   "id": "babe9256",
   "metadata": {},
   "outputs": [
    {
     "name": "stdout",
     "output_type": "stream",
     "text": [
      "file:///C:/Users/Galyna/mlruns\n"
     ]
    }
   ],
   "source": [
    "mlflow.set_tracking_uri(\"file:///C:/Users/Galyna/mlruns\")\n",
    "print(mlflow.get_tracking_uri())"
   ]
  },
  {
   "cell_type": "code",
   "execution_count": 3,
   "id": "e6986f34",
   "metadata": {},
   "outputs": [
    {
     "name": "stderr",
     "output_type": "stream",
     "text": [
      "2025/06/29 12:57:07 INFO mlflow.tracking.fluent: Experiment with name 'Social Media Project Binary Classification' does not exist. Creating a new experiment.\n"
     ]
    }
   ],
   "source": [
    "mlflow.set_experiment(\"Social Media Project Binary Classification\")\n",
    "mlflow.set_experiment_tag(\"scikit-learn\", \"lr\")"
   ]
  },
  {
   "cell_type": "code",
   "execution_count": 4,
   "id": "40e06cab",
   "metadata": {},
   "outputs": [],
   "source": [
    "mlflow.set_tag(\"dataset\", \"social_sphere_v1\")  "
   ]
  },
  {
   "cell_type": "code",
   "execution_count": 5,
   "id": "5e195784",
   "metadata": {},
   "outputs": [],
   "source": [
    "def log_model_run(\n",
    "    model,                       # fitted estimator or pipeline\n",
    "    params: dict,                # dict of hyper-parameters\n",
    "    train_X, train_y,            # training data\n",
    "    val_X,   val_y,              # validation data\n",
    "    model_name: str = \"Model\",   # readable name for the run\n",
    "    pos_label: int = 1,          # positive class\n",
    "    experiment_name: str | None = None,   # optional: switch experiment\n",
    "):\n",
    "    \"\"\"\n",
    "    Generic MLflow run logger for binary-classification estimators that expose\n",
    "    predict() and *optionally* predict_proba() / decision_function().\n",
    "    \"\"\"\n",
    "    warnings.filterwarnings(\"ignore\", message=\".*Inferred schema contains integer column.*\")\n",
    "\n",
    "    # ------------------------------------------------------------------ #\n",
    "    # 0) MLflow bookkeeping                                              #\n",
    "    # ------------------------------------------------------------------ #\n",
    "    if experiment_name:\n",
    "        mlflow.set_experiment(experiment_name)\n",
    "\n",
    "    with mlflow.start_run(run_name=model_name):\n",
    "        # ----------------------- Hyper-parameters ---------------------- #\n",
    "        mlflow.log_params(params)\n",
    "\n",
    "        # ----------------------- Dataset lineage ---------------------- #\n",
    "        mlflow.log_input(\n",
    "            mlflow.data.from_pandas(train_X, name=\"train_v1\"), context=\"training\"\n",
    "        )\n",
    "        mlflow.log_input(\n",
    "            mlflow.data.from_pandas(val_X,   name=\"val_v1\"),   context=\"validation\"\n",
    "        )\n",
    "\n",
    "        # ----------------------- Predictions -------------------------- #\n",
    "        train_preds = model.predict(train_X)\n",
    "        val_preds   = model.predict(val_X)\n",
    "\n",
    "        # --- Probabilities or decision scores (needed for ROC/AUC) ---- #\n",
    "        if hasattr(model, \"predict_proba\"):\n",
    "            train_scores = model.predict_proba(train_X)[:, 1]   # pos class prob\n",
    "            val_scores   = model.predict_proba(val_X)[:, 1]\n",
    "        elif hasattr(model, \"decision_function\"):\n",
    "            train_scores = model.decision_function(train_X)\n",
    "            val_scores   = model.decision_function(val_X)\n",
    "        else:   # fall-back: cannot compute ROC/AUC\n",
    "            train_scores = val_scores = None\n",
    "\n",
    "        # ----------------------- Metrics ------------------------------ #\n",
    "        is_binary = len(set(train_y)) == 2\n",
    "        avg_type = 'binary' if is_binary else 'macro'\n",
    "\n",
    "        metrics = {\n",
    "            \"accuracy_train\":  accuracy_score(train_y, train_preds),\n",
    "            \"precision_train\": precision_score(train_y, train_preds, average=avg_type, pos_label=pos_label if is_binary else None),\n",
    "            \"recall_train\":    recall_score(train_y, train_preds,   average=avg_type, pos_label=pos_label if is_binary else None),\n",
    "            \"f1_train\":        f1_score(train_y, train_preds,       average=avg_type, pos_label=pos_label if is_binary else None),\n",
    "            \"accuracy_val\":    accuracy_score(val_y, val_preds),\n",
    "            \"precision_val\":   precision_score(val_y, val_preds,   average=avg_type, pos_label=pos_label if is_binary else None),\n",
    "            \"recall_val\":      recall_score(val_y, val_preds,       average=avg_type, pos_label=pos_label if is_binary else None),\n",
    "            \"f1_val\":          f1_score(val_y, val_preds,           average=avg_type, pos_label=pos_label if is_binary else None),\n",
    "        }\n",
    "\n",
    "        if is_binary and train_scores is not None:\n",
    "            metrics[\"roc_auc_train\"] = roc_auc_score(train_y, train_scores)\n",
    "            metrics[\"roc_auc_val\"]   = roc_auc_score(val_y,   val_scores)\n",
    "\n",
    "        mlflow.log_metrics(metrics)\n",
    "\n",
    "        # -------------------- Confusion matrices ---------------------- #\n",
    "        for split, y_true, y_pred in [\n",
    "            (\"train\", train_y, train_preds),\n",
    "            (\"val\",   val_y,   val_preds)\n",
    "        ]:\n",
    "            cm = confusion_matrix(y_true, y_pred, labels=sorted(unique(train_y)))\n",
    "\n",
    "            fig, ax = plt.subplots()\n",
    "            ConfusionMatrixDisplay(confusion_matrix=cm).plot(ax=ax, cmap=\"Purples\")\n",
    "            ax.set_title(f\"Confusion Matrix – {split.capitalize()}\")\n",
    "\n",
    "            mlflow.log_figure(fig, f\"plots/conf_matrix_{split}.png\")\n",
    "            plt.close(fig)\n",
    "\n",
    "        # -------------------- ROC curves (if available) --------------- #\n",
    "        if train_scores is not None and is_binary:\n",
    "            for split, y_true, y_score, auc in [\n",
    "                (\"train\", train_y, train_scores, metrics[\"roc_auc_train\"]),\n",
    "                (\"val\",   val_y,   val_scores,   metrics[\"roc_auc_val\"])\n",
    "            ]:\n",
    "                fpr, tpr, _ = roc_curve(y_true, y_score, pos_label=pos_label)\n",
    "\n",
    "                fig, ax = plt.subplots()\n",
    "                ax.plot(fpr, tpr, label=f\"AUC = {auc:.3f}\")\n",
    "                ax.plot([0, 1], [0, 1], \"k--\")\n",
    "                ax.set_xlabel(\"False Positive Rate\")\n",
    "                ax.set_ylabel(\"True Positive Rate\")\n",
    "                ax.set_title(f\"ROC Curve – {split.capitalize()}\")\n",
    "                ax.legend()\n",
    "\n",
    "                mlflow.log_figure(fig, f\"plots/roc_curve_{split}.png\")\n",
    "                plt.close(fig)\n",
    "\n",
    "        # -------------------- Model itself ---------------------------- #\n",
    "        # Detect the correct MLflow flavour (simple heuristic)\n",
    "        if \"sklearn\" in inspect.getmodule(model).__name__:\n",
    "            mlflow.sklearn.log_model(\n",
    "                model,\n",
    "                name=f\"{model_name.lower().replace(' ', '_')}_pipeline\",\n",
    "                input_example=val_X.iloc[:1].copy(),\n",
    "                signature=infer_signature(train_X, train_preds),\n",
    "                registered_model_name=model_name\n",
    "            )\n",
    "        else:\n",
    "            # fall-back = log as generic pyfunc\n",
    "            mlflow.pyfunc.log_model(\n",
    "                name=f\"{model_name.lower().replace(' ', '_')}_model\",\n",
    "                python_model=model,\n",
    "                registered_model_name=model_name\n",
    "            )\n",
    "\n",
    "        # --------------- return metrics for convenience --------------- #\n",
    "        return metrics"
   ]
  },
  {
   "cell_type": "code",
   "execution_count": 6,
   "id": "7f7fd4ce",
   "metadata": {},
   "outputs": [],
   "source": [
    "df = pd.read_csv('data.csv') "
   ]
  },
  {
   "cell_type": "markdown",
   "id": "81dcbeb5",
   "metadata": {},
   "source": [
    "## Feature Engineering and Preprocessing\n",
    "\n",
    "In this section, we:\n",
    "1. Create a binary target variable for conflicts over social media (High/Low)\n",
    "2. Handle country information by grouping less frequent countries\n",
    "3. Separate features into numeric and categorical columns\n",
    "4. Set up preprocessing pipelines for both types of features:\n",
    "   - Numeric features: StandardScaler\n",
    "   - Categorical features: OneHotEncoder\n",
    "\n",
    "We'll exclude certain columns that shouldn't be used as features (e.g., IDs and target-related columns)."
   ]
  },
  {
   "cell_type": "code",
   "execution_count": 7,
   "id": "9ee96b39",
   "metadata": {},
   "outputs": [],
   "source": [
    "df[\"Conflicts_Over_Social_Media_Binary\"] = df[\"Conflicts_Over_Social_Media\"].apply(lambda x: 0 if x <= 2 else 1).astype(int)\n"
   ]
  },
  {
   "cell_type": "code",
   "execution_count": 8,
   "id": "513ad2dc",
   "metadata": {},
   "outputs": [
    {
     "data": {
      "text/plain": [
       "Text(0, 0.5, 'Count')"
      ]
     },
     "execution_count": 8,
     "metadata": {},
     "output_type": "execute_result"
    },
    {
     "data": {
      "image/png": "[encoded data removed]",
      "text/plain": [
       "<Figure size 640x480 with 1 Axes>"
      ]
     },
     "metadata": {},
     "output_type": "display_data"
    }
   ],
   "source": [
    "df[\"Conflicts_Over_Social_Media_Binary\"].value_counts().plot(kind='bar', title='Conflicts Over Social Media Binary Distribution')\n",
    "plt.xlabel('Conflicts Over Social Media Binary')\n",
    "plt.ylabel('Count')"
   ]
  },
  {
   "cell_type": "code",
   "execution_count": 9,
   "id": "26dbbea9",
   "metadata": {},
   "outputs": [],
   "source": [
    "country_counts = df['Country'].value_counts()\n",
    "df['country_grouped'] = df['Country'].apply(lambda x: x if country_counts[x] > 1 else 'Other')"
   ]
  },
  {
   "cell_type": "code",
   "execution_count": 10,
   "id": "a8fab687",
   "metadata": {},
   "outputs": [
    {
     "data": {
      "text/html": [
       "<div>\n",
       "<style scoped>\n",
       "    .dataframe tbody tr th:only-of-type {\n",
       "        vertical-align: middle;\n",
       "    }\n",
       "\n",
       "    .dataframe tbody tr th {\n",
       "        vertical-align: top;\n",
       "    }\n",
       "\n",
       "    .dataframe thead th {\n",
       "        text-align: right;\n",
       "    }\n",
       "</style>\n",
       "<table border=\"1\" class=\"dataframe\">\n",
       "  <thead>\n",
       "    <tr style=\"text-align: right;\">\n",
       "      <th></th>\n",
       "      <th>Student_ID</th>\n",
       "      <th>Age</th>\n",
       "      <th>Gender</th>\n",
       "      <th>Academic_Level</th>\n",
       "      <th>Country</th>\n",
       "      <th>Avg_Daily_Usage_Hours</th>\n",
       "      <th>Most_Used_Platform</th>\n",
       "      <th>Affects_Academic_Performance</th>\n",
       "      <th>Sleep_Hours_Per_Night</th>\n",
       "      <th>Mental_Health_Score</th>\n",
       "      <th>Relationship_Status</th>\n",
       "      <th>Conflicts_Over_Social_Media</th>\n",
       "      <th>Addicted_Score</th>\n",
       "      <th>Conflicts_Over_Social_Media_Binary</th>\n",
       "      <th>country_grouped</th>\n",
       "    </tr>\n",
       "  </thead>\n",
       "  <tbody>\n",
       "    <tr>\n",
       "      <th>0</th>\n",
       "      <td>1</td>\n",
       "      <td>19</td>\n",
       "      <td>Female</td>\n",
       "      <td>Undergraduate</td>\n",
       "      <td>Bangladesh</td>\n",
       "      <td>5.2</td>\n",
       "      <td>Instagram</td>\n",
       "      <td>Yes</td>\n",
       "      <td>6.5</td>\n",
       "      <td>6</td>\n",
       "      <td>In Relationship</td>\n",
       "      <td>3</td>\n",
       "      <td>8</td>\n",
       "      <td>1</td>\n",
       "      <td>Bangladesh</td>\n",
       "    </tr>\n",
       "    <tr>\n",
       "      <th>1</th>\n",
       "      <td>2</td>\n",
       "      <td>22</td>\n",
       "      <td>Male</td>\n",
       "      <td>Graduate</td>\n",
       "      <td>India</td>\n",
       "      <td>2.1</td>\n",
       "      <td>Twitter</td>\n",
       "      <td>No</td>\n",
       "      <td>7.5</td>\n",
       "      <td>8</td>\n",
       "      <td>Single</td>\n",
       "      <td>0</td>\n",
       "      <td>3</td>\n",
       "      <td>0</td>\n",
       "      <td>India</td>\n",
       "    </tr>\n",
       "    <tr>\n",
       "      <th>2</th>\n",
       "      <td>3</td>\n",
       "      <td>20</td>\n",
       "      <td>Female</td>\n",
       "      <td>Undergraduate</td>\n",
       "      <td>USA</td>\n",
       "      <td>6.0</td>\n",
       "      <td>TikTok</td>\n",
       "      <td>Yes</td>\n",
       "      <td>5.0</td>\n",
       "      <td>5</td>\n",
       "      <td>Complicated</td>\n",
       "      <td>4</td>\n",
       "      <td>9</td>\n",
       "      <td>1</td>\n",
       "      <td>USA</td>\n",
       "    </tr>\n",
       "    <tr>\n",
       "      <th>3</th>\n",
       "      <td>4</td>\n",
       "      <td>18</td>\n",
       "      <td>Male</td>\n",
       "      <td>High School</td>\n",
       "      <td>UK</td>\n",
       "      <td>3.0</td>\n",
       "      <td>YouTube</td>\n",
       "      <td>No</td>\n",
       "      <td>7.0</td>\n",
       "      <td>7</td>\n",
       "      <td>Single</td>\n",
       "      <td>1</td>\n",
       "      <td>4</td>\n",
       "      <td>0</td>\n",
       "      <td>UK</td>\n",
       "    </tr>\n",
       "    <tr>\n",
       "      <th>4</th>\n",
       "      <td>5</td>\n",
       "      <td>21</td>\n",
       "      <td>Male</td>\n",
       "      <td>Graduate</td>\n",
       "      <td>Canada</td>\n",
       "      <td>4.5</td>\n",
       "      <td>Facebook</td>\n",
       "      <td>Yes</td>\n",
       "      <td>6.0</td>\n",
       "      <td>6</td>\n",
       "      <td>In Relationship</td>\n",
       "      <td>2</td>\n",
       "      <td>7</td>\n",
       "      <td>0</td>\n",
       "      <td>Canada</td>\n",
       "    </tr>\n",
       "  </tbody>\n",
       "</table>\n",
       "</div>"
      ],
      "text/plain": [
       "   Student_ID  Age  Gender Academic_Level     Country  Avg_Daily_Usage_Hours  \\\n",
       "0           1   19  Female  Undergraduate  Bangladesh                    5.2   \n",
       "1           2   22    Male       Graduate       India                    2.1   \n",
       "2           3   20  Female  Undergraduate         USA                    6.0   \n",
       "3           4   18    Male    High School          UK                    3.0   \n",
       "4           5   21    Male       Graduate      Canada                    4.5   \n",
       "\n",
       "  Most_Used_Platform Affects_Academic_Performance  Sleep_Hours_Per_Night  \\\n",
       "0          Instagram                          Yes                    6.5   \n",
       "1            Twitter                           No                    7.5   \n",
       "2             TikTok                          Yes                    5.0   \n",
       "3            YouTube                           No                    7.0   \n",
       "4           Facebook                          Yes                    6.0   \n",
       "\n",
       "   Mental_Health_Score Relationship_Status  Conflicts_Over_Social_Media  \\\n",
       "0                    6     In Relationship                            3   \n",
       "1                    8              Single                            0   \n",
       "2                    5         Complicated                            4   \n",
       "3                    7              Single                            1   \n",
       "4                    6     In Relationship                            2   \n",
       "\n",
       "   Addicted_Score  Conflicts_Over_Social_Media_Binary country_grouped  \n",
       "0               8                                   1      Bangladesh  \n",
       "1               3                                   0           India  \n",
       "2               9                                   1             USA  \n",
       "3               4                                   0              UK  \n",
       "4               7                                   0          Canada  "
      ]
     },
     "execution_count": 10,
     "metadata": {},
     "output_type": "execute_result"
    }
   ],
   "source": [
    "df.head()"
   ]
  },
  {
   "cell_type": "code",
   "execution_count": 11,
   "id": "eec88946",
   "metadata": {},
   "outputs": [
    {
     "name": "stdout",
     "output_type": "stream",
     "text": [
      "['Age', 'Avg_Daily_Usage_Hours', 'Sleep_Hours_Per_Night', 'Mental_Health_Score']\n"
     ]
    }
   ],
   "source": [
    "exclude_cols = ['Student_ID', 'Conflicts_Over_Social_Media', 'Country', 'Conflicts_Over_Social_Media_Binary', 'Addicted_Score', 'Affects_Academic_Performance'] \n",
    "numeric_cols = df.select_dtypes(include='number').columns\n",
    "numeric_cols = [col for col in numeric_cols if col not in exclude_cols]\n",
    "print(numeric_cols)"
   ]
  },
  {
   "cell_type": "code",
   "execution_count": 12,
   "id": "18ec31ab",
   "metadata": {},
   "outputs": [
    {
     "name": "stdout",
     "output_type": "stream",
     "text": [
      "['Gender', 'Academic_Level', 'Most_Used_Platform', 'Relationship_Status', 'country_grouped']\n"
     ]
    }
   ],
   "source": [
    "categoric_cols = df.select_dtypes(include='object').columns\n",
    "categoric_cols = [col for col in categoric_cols if col not in exclude_cols]\n",
    "print(categoric_cols)"
   ]
  },
  {
   "cell_type": "code",
   "execution_count": 13,
   "id": "4e659d4f",
   "metadata": {},
   "outputs": [],
   "source": [
    "train_df, val_df = train_test_split(df, test_size=0.2, random_state=42, stratify=df['Conflicts_Over_Social_Media_Binary'])"
   ]
  },
  {
   "cell_type": "markdown",
   "id": "b69e452d",
   "metadata": {},
   "source": [
    "## Model Development\n",
    "\n",
    "### Data Split and Pipeline Setup\n",
    "We split our data into training and validation sets with a 80-20 split ratio. For the models, we:\n",
    "1. Create preprocessing pipelines that combine numeric and categorical transformers\n",
    "2. Set up model hyperparameters\n",
    "3. Create full pipelines that combine preprocessing and model training\n",
    "4. Train the models and make predictions\n",
    "\n",
    "We'll implement two models:\n",
    "1. Logistic Regression - as a baseline model\n",
    "2. XGBoost - as our main model"
   ]
  },
  {
   "cell_type": "code",
   "execution_count": 38,
   "id": "16d98a1b",
   "metadata": {},
   "outputs": [],
   "source": [
    "input_cols = numeric_cols + categoric_cols\n",
    "target_col = 'Conflicts_Over_Social_Media_Binary'\n",
    "train_inputs, train_targets = train_df[input_cols].copy(), train_df[target_col].copy()\n",
    "val_inputs, val_targets = val_df[input_cols].copy(), val_df[target_col].copy()"
   ]
  },
  {
   "cell_type": "code",
   "execution_count": 39,
   "id": "ccd3a7e9",
   "metadata": {},
   "outputs": [],
   "source": [
    "numeric_transformer = Pipeline(steps=[('scaler', StandardScaler())])"
   ]
  },
  {
   "cell_type": "code",
   "execution_count": 40,
   "id": "25db928c",
   "metadata": {},
   "outputs": [],
   "source": [
    "categorical_transformer = Pipeline(steps=[('onehot', OneHotEncoder(handle_unknown='ignore'))])"
   ]
  },
  {
   "cell_type": "code",
   "execution_count": 41,
   "id": "1a9f398c",
   "metadata": {},
   "outputs": [],
   "source": [
    "lr_params = {\n",
    "    \"solver\": \"liblinear\",\n",
    "    \"class_weight\":'balanced',\n",
    "    \"C\": 0.1, \n",
    "    \"max_iter\": 1000,\n",
    "    \"random_state\": 42,\n",
    "}"
   ]
  },
  {
   "cell_type": "code",
   "execution_count": 42,
   "id": "3eb43e37",
   "metadata": {},
   "outputs": [],
   "source": [
    "# Define preprocessing and pipeline\n",
    "preprocessor = ColumnTransformer(\n",
    "    transformers=[\n",
    "        ('num', numeric_transformer, numeric_cols),\n",
    "        ('cat', categorical_transformer, categoric_cols)]\n",
    ")\n",
    "\n",
    "# Create a more robust model with adjusted hyperparameters\n",
    "lr_pipeline = Pipeline(steps=[\n",
    "    ('preprocessor', preprocessor),\n",
    "    ('classifier', LogisticRegression(**lr_params)) \n",
    "])\n",
    "\n",
    "# Fit the model and get predictions to check class balance\n",
    "lr_pipeline.fit(train_inputs, train_targets)\n",
    "train_preds = lr_pipeline.predict(train_inputs)\n",
    "val_preds = lr_pipeline.predict(val_inputs)"
   ]
  },
  {
   "cell_type": "markdown",
   "id": "f37c1acc",
   "metadata": {},
   "source": [
    "##  Model Evaluation and MLflow Tracking"
   ]
  },
  {
   "cell_type": "markdown",
   "id": "3294636a",
   "metadata": {},
   "source": [
    "#### Logistic Regression"
   ]
  },
  {
   "cell_type": "code",
   "execution_count": 43,
   "id": "b6d7012e",
   "metadata": {},
   "outputs": [],
   "source": [
    "mlflow.end_run()"
   ]
  },
  {
   "cell_type": "code",
   "execution_count": 44,
   "id": "aaae3f8a",
   "metadata": {},
   "outputs": [
    {
     "data": {
      "application/vnd.jupyter.widget-view+json": {
       "model_id": "2d4ea9a96fee4c6ba2839043deb13a29",
       "version_major": 2,
       "version_minor": 0
      },
      "text/plain": [
       "Downloading artifacts:   0%|          | 0/7 [00:00<?, ?it/s]"
      ]
     },
     "metadata": {},
     "output_type": "display_data"
    },
    {
     "name": "stderr",
     "output_type": "stream",
     "text": [
      "Registered model 'Logistic Regression without Affects on Academic Performance' already exists. Creating a new version of this model...\n",
      "Created version '7' of model 'Logistic Regression without Affects on Academic Performance'.\n"
     ]
    },
    {
     "data": {
      "text/plain": [
       "{'accuracy_train': 0.9946808510638298,\n",
       " 'precision_train': 0.9944598337950139,\n",
       " 'recall_train': 0.9972222222222222,\n",
       " 'f1_train': 0.9958391123439667,\n",
       " 'accuracy_val': 0.9929078014184397,\n",
       " 'precision_val': 0.989010989010989,\n",
       " 'recall_val': 1.0,\n",
       " 'f1_val': 0.994475138121547,\n",
       " 'roc_auc_train': 0.997140522875817,\n",
       " 'roc_auc_val': 0.9910675381263616}"
      ]
     },
     "execution_count": 44,
     "metadata": {},
     "output_type": "execute_result"
    }
   ],
   "source": [
    "log_model_run(\n",
    "    model=lr_pipeline,\n",
    "    params=lr_params,\n",
    "    train_X=train_inputs, train_y=train_targets,\n",
    "    val_X=val_inputs,     val_y=val_targets,\n",
    "    model_name=\"Logistic Regression without Affects on Academic Performance\")"
   ]
  },
  {
   "cell_type": "markdown",
   "id": "cb6e4d21",
   "metadata": {},
   "source": [
    "#### XGBoost"
   ]
  },
  {
   "cell_type": "code",
   "execution_count": 45,
   "id": "6d278796",
   "metadata": {},
   "outputs": [],
   "source": [
    "cat_features = train_inputs.select_dtypes(include='object').columns\n",
    "train_inputs[cat_features] = train_inputs[cat_features].astype('category')\n",
    "val_inputs[cat_features] = val_inputs[cat_features].astype('category')"
   ]
  },
  {
   "cell_type": "code",
   "execution_count": 46,
   "id": "31cd5ef0",
   "metadata": {},
   "outputs": [
    {
     "data": {
      "application/vnd.jupyter.widget-view+json": {
       "model_id": "4afa7d4d7394497c894e5ed7f62d42d4",
       "version_major": 2,
       "version_minor": 0
      },
      "text/plain": [
       "Downloading artifacts:   0%|          | 0/7 [00:00<?, ?it/s]"
      ]
     },
     "metadata": {},
     "output_type": "display_data"
    },
    {
     "name": "stderr",
     "output_type": "stream",
     "text": [
      "Registered model 'XGBoost' already exists. Creating a new version of this model...\n",
      "Created version '13' of model 'XGBoost'.\n"
     ]
    },
    {
     "data": {
      "text/plain": [
       "{'accuracy_train': 0.9964539007092199,\n",
       " 'precision_train': 0.994475138121547,\n",
       " 'recall_train': 1.0,\n",
       " 'f1_train': 0.997229916897507,\n",
       " 'accuracy_val': 0.9929078014184397,\n",
       " 'precision_val': 0.989010989010989,\n",
       " 'recall_val': 1.0,\n",
       " 'f1_val': 0.994475138121547,\n",
       " 'roc_auc_train': 0.9994893790849674,\n",
       " 'roc_auc_val': 0.9979302832244008}"
      ]
     },
     "execution_count": 46,
     "metadata": {},
     "output_type": "execute_result"
    }
   ],
   "source": [
    "xgb_params = {\n",
    "    \"max_depth\": 3,\n",
    "    \"n_estimators\": 10,\n",
    "    \"enable_categorical\": True,\n",
    "    \"random_state\": 42\n",
    "}\n",
    "\n",
    "\n",
    "xgb = XGBClassifier(\n",
    "        ** xgb_params,\n",
    "     ).fit(train_inputs, train_targets)\n",
    "\n",
    "\n",
    "\n",
    "log_model_run(\n",
    "    model=xgb,\n",
    "    params=xgb_params,\n",
    "    train_X=train_inputs, train_y=train_targets,\n",
    "    val_X=val_inputs,     val_y=val_targets,\n",
    "    model_name=\"XGBoost\"\n",
    ")"
   ]
  },
  {
   "cell_type": "markdown",
   "id": "26b93c49",
   "metadata": {},
   "source": [
    "### Multiclass Classification. One versus Rest Classifier. "
   ]
  },
  {
   "cell_type": "markdown",
   "id": "fab7d242",
   "metadata": {},
   "source": [
    "##### Preprocessing"
   ]
  },
  {
   "cell_type": "code",
   "execution_count": 47,
   "id": "e357dce3",
   "metadata": {},
   "outputs": [
    {
     "name": "stdout",
     "output_type": "stream",
     "text": [
      "['Age', 'Avg_Daily_Usage_Hours', 'Sleep_Hours_Per_Night', 'Mental_Health_Score', 'Addicted_Score']\n"
     ]
    }
   ],
   "source": [
    "exclude_cols = ['Student_ID', 'Conflicts_Over_Social_Media', 'Country', 'Conflicts_Over_Social_Media_Binary'] \n",
    "numeric_cols = df.select_dtypes(include='number').columns\n",
    "numeric_cols = [col for col in numeric_cols if col not in exclude_cols]\n",
    "print(numeric_cols)"
   ]
  },
  {
   "cell_type": "code",
   "execution_count": 48,
   "id": "ffe1f603",
   "metadata": {},
   "outputs": [
    {
     "name": "stdout",
     "output_type": "stream",
     "text": [
      "['Gender', 'Academic_Level', 'Most_Used_Platform', 'Affects_Academic_Performance', 'Relationship_Status', 'country_grouped']\n"
     ]
    }
   ],
   "source": [
    "categoric_cols = df.select_dtypes(include='object').columns\n",
    "categoric_cols = [col for col in categoric_cols if col not in exclude_cols]\n",
    "print(categoric_cols)"
   ]
  },
  {
   "cell_type": "code",
   "execution_count": 49,
   "id": "72370da1",
   "metadata": {},
   "outputs": [],
   "source": [
    "train_df, val_df = train_test_split(df, test_size=0.2, random_state=42, stratify=df['Conflicts_Over_Social_Media'])"
   ]
  },
  {
   "cell_type": "code",
   "execution_count": 50,
   "id": "0ebdfd67",
   "metadata": {},
   "outputs": [],
   "source": [
    "input_cols = numeric_cols + categoric_cols\n",
    "target_col = 'Conflicts_Over_Social_Media'\n",
    "train_inputs, train_targets = train_df[input_cols].copy(), train_df[target_col].copy()\n",
    "val_inputs, val_targets = val_df[input_cols].copy(), val_df[target_col].copy()"
   ]
  },
  {
   "cell_type": "code",
   "execution_count": 51,
   "id": "1e4b3dee",
   "metadata": {},
   "outputs": [
    {
     "name": "stdout",
     "output_type": "stream",
     "text": [
      "['Age', 'Avg_Daily_Usage_Hours', 'Sleep_Hours_Per_Night', 'Mental_Health_Score', 'Addicted_Score', 'Gender', 'Academic_Level', 'Most_Used_Platform', 'Affects_Academic_Performance', 'Relationship_Status', 'country_grouped']\n"
     ]
    }
   ],
   "source": [
    "print(train_inputs.columns.tolist())"
   ]
  },
  {
   "cell_type": "code",
   "execution_count": 52,
   "id": "c7485524",
   "metadata": {},
   "outputs": [],
   "source": [
    "mlflow.set_experiment(\"Social Media Project Multiclass Classification\")\n",
    "mlflow.set_experiment_tag(\"scikit-learn\", \"ovr_svc\")"
   ]
  },
  {
   "cell_type": "code",
   "execution_count": 53,
   "id": "75c36aac",
   "metadata": {},
   "outputs": [
    {
     "name": "stderr",
     "output_type": "stream",
     "text": [
      "c:\\Users\\Galyna\\anaconda3\\envs\\ml2025\\Lib\\site-packages\\sklearn\\metrics\\_classification.py:1531: UndefinedMetricWarning: Precision is ill-defined and being set to 0.0 in labels with no predicted samples. Use `zero_division` parameter to control this behavior.\n",
      "  _warn_prf(average, modifier, f\"{metric.capitalize()} is\", len(result))\n"
     ]
    },
    {
     "data": {
      "application/vnd.jupyter.widget-view+json": {
       "model_id": "f62798e819b54ada9771e2d50a2f733b",
       "version_major": 2,
       "version_minor": 0
      },
      "text/plain": [
       "Downloading artifacts:   0%|          | 0/7 [00:00<?, ?it/s]"
      ]
     },
     "metadata": {},
     "output_type": "display_data"
    },
    {
     "name": "stderr",
     "output_type": "stream",
     "text": [
      "Registered model 'Multiclass LinearSVC One-vs-Rest' already exists. Creating a new version of this model...\n",
      "Created version '5' of model 'Multiclass LinearSVC One-vs-Rest'.\n"
     ]
    },
    {
     "data": {
      "text/plain": [
       "{'accuracy_train': 0.9769503546099291,\n",
       " 'precision_train': 0.9485799288430866,\n",
       " 'recall_train': 0.8806293855924155,\n",
       " 'f1_train': 0.9078855675061458,\n",
       " 'accuracy_val': 0.9716312056737588,\n",
       " 'precision_val': 0.8029754904467284,\n",
       " 'recall_val': 0.7551942186088527,\n",
       " 'f1_val': 0.7734817214033978}"
      ]
     },
     "execution_count": 53,
     "metadata": {},
     "output_type": "execute_result"
    }
   ],
   "source": [
    "# 1. Define transformers\n",
    "numeric_transformer = Pipeline(steps=[\n",
    "    ('scaler', StandardScaler())\n",
    "])\n",
    "\n",
    "categorical_transformer = Pipeline(steps=[\n",
    "    ('onehot', OneHotEncoder(handle_unknown='ignore'))\n",
    "])\n",
    "\n",
    "# 2. Define column transformer\n",
    "preprocessor = ColumnTransformer(transformers=[\n",
    "    ('num', numeric_transformer, numeric_cols),\n",
    "    ('cat', categorical_transformer, categoric_cols)\n",
    "])\n",
    "\n",
    "# 3. Define hyperparameters\n",
    "model_params = {\n",
    "    \"C\": 1.0,\n",
    "    \"class_weight\": \"balanced\",\n",
    "    \"max_iter\": 1000,\n",
    "    \"random_state\": 42\n",
    "}\n",
    "\n",
    "# 4. Initialize base classifier with params\n",
    "base_clf = LinearSVC(**model_params)\n",
    "ovr_clf = OneVsRestClassifier(base_clf)\n",
    "\n",
    "# 5. Build full pipeline\n",
    "ovr_pipeline = Pipeline(steps=[\n",
    "    ('preprocessor', preprocessor),\n",
    "    ('classifier', ovr_clf)\n",
    "])\n",
    "\n",
    "# 6. Fit and predict\n",
    "ovr_pipeline.fit(train_inputs, train_targets)\n",
    "train_preds = ovr_pipeline.predict(train_inputs)\n",
    "val_preds = ovr_pipeline.predict(val_inputs)\n",
    "\n",
    "# 7. Define logging params (optional extra metadata)\n",
    "log_params = {\n",
    "    **model_params,\n",
    "    \"model_type\": \"OneVsRestClassifier\",\n",
    "    \"base_model\": \"LinearSVC\"\n",
    "}\n",
    "log_model_run(\n",
    "    model=ovr_pipeline,\n",
    "    train_X=train_inputs,\n",
    "    train_y=train_targets,\n",
    "    val_X=val_inputs,\n",
    "    val_y=val_targets,\n",
    "    model_name=\"Multiclass LinearSVC One-vs-Rest\",\n",
    "    params=log_params\n",
    ")"
   ]
  },
  {
   "cell_type": "code",
   "execution_count": 54,
   "id": "38cea003",
   "metadata": {},
   "outputs": [],
   "source": [
    "mlflow.set_experiment_tag(\"scikit-learn\", \"LinearSVC\")"
   ]
  },
  {
   "cell_type": "code",
   "execution_count": 55,
   "id": "fde53a7a",
   "metadata": {},
   "outputs": [
    {
     "name": "stderr",
     "output_type": "stream",
     "text": [
      "c:\\Users\\Galyna\\anaconda3\\envs\\ml2025\\Lib\\site-packages\\sklearn\\metrics\\_classification.py:1531: UndefinedMetricWarning: Precision is ill-defined and being set to 0.0 in labels with no predicted samples. Use `zero_division` parameter to control this behavior.\n",
      "  _warn_prf(average, modifier, f\"{metric.capitalize()} is\", len(result))\n"
     ]
    },
    {
     "data": {
      "application/vnd.jupyter.widget-view+json": {
       "model_id": "f77660a6d0164de8bd08040ead898d69",
       "version_major": 2,
       "version_minor": 0
      },
      "text/plain": [
       "Downloading artifacts:   0%|          | 0/7 [00:00<?, ?it/s]"
      ]
     },
     "metadata": {},
     "output_type": "display_data"
    },
    {
     "name": "stderr",
     "output_type": "stream",
     "text": [
      "Registered model 'Multiclass LinearSVC One-vs-Rest' already exists. Creating a new version of this model...\n",
      "Created version '6' of model 'Multiclass LinearSVC One-vs-Rest'.\n"
     ]
    },
    {
     "data": {
      "text/plain": [
       "{'accuracy_train': 0.9840425531914894,\n",
       " 'precision_train': 0.9626651242232461,\n",
       " 'recall_train': 0.936184941147971,\n",
       " 'f1_train': 0.9428326433226538,\n",
       " 'accuracy_val': 0.9787234042553191,\n",
       " 'precision_val': 0.807605120076358,\n",
       " 'recall_val': 0.8107497741644082,\n",
       " 'f1_val': 0.8091624725771066}"
      ]
     },
     "execution_count": 55,
     "metadata": {},
     "output_type": "execute_result"
    }
   ],
   "source": [
    "# Define hyperparameters\n",
    "model_params = {\n",
    "    \"C\": 1.0,\n",
    "    \"class_weight\": \"balanced\",\n",
    "    \"max_iter\": 1000,\n",
    "    \"random_state\": 42\n",
    "}\n",
    "\n",
    "# Initialize LinearSVC directly\n",
    "svc_clf = LinearSVC(**model_params)\n",
    "\n",
    "# Build full pipeline\n",
    "svc_pipeline = Pipeline(steps=[\n",
    "    ('preprocessor', preprocessor),\n",
    "    ('classifier', svc_clf)\n",
    "])\n",
    "\n",
    "# Fit the pipeline\n",
    "svc_pipeline.fit(train_inputs, train_targets)\n",
    "\n",
    "# Define logging params\n",
    "log_params = {\n",
    "    **model_params,\n",
    "    \"model_type\": \"LinearSVC\",\n",
    "    \"multiclass_strategy\": \"ovr\"\n",
    "}\n",
    "\n",
    "# Log the model run\n",
    "log_model_run(\n",
    "    model=svc_pipeline,\n",
    "    train_X=train_inputs,\n",
    "    train_y=train_targets,\n",
    "    val_X=val_inputs,\n",
    "    val_y=val_targets,\n",
    "    model_name=\"Multiclass LinearSVC One-vs-Rest\",\n",
    "    params=log_params\n",
    ")"
   ]
  },
  {
   "cell_type": "code",
   "execution_count": 56,
   "id": "1e98e990",
   "metadata": {},
   "outputs": [],
   "source": [
    "mlflow.set_experiment_tag(\"scikit-learn\", \"log_reg_multinomial\")"
   ]
  },
  {
   "cell_type": "code",
   "execution_count": 57,
   "id": "00cf930b",
   "metadata": {},
   "outputs": [
    {
     "name": "stderr",
     "output_type": "stream",
     "text": [
      "c:\\Users\\Galyna\\anaconda3\\envs\\ml2025\\Lib\\site-packages\\sklearn\\linear_model\\_logistic.py:1247: FutureWarning: 'multi_class' was deprecated in version 1.5 and will be removed in 1.7. From then on, it will always use 'multinomial'. Leave it to its default value to avoid this warning.\n",
      "  warnings.warn(\n"
     ]
    },
    {
     "data": {
      "application/vnd.jupyter.widget-view+json": {
       "model_id": "079fa2af79f84b658f5a2d9cf7d76edd",
       "version_major": 2,
       "version_minor": 0
      },
      "text/plain": [
       "Downloading artifacts:   0%|          | 0/7 [00:00<?, ?it/s]"
      ]
     },
     "metadata": {},
     "output_type": "display_data"
    },
    {
     "name": "stderr",
     "output_type": "stream",
     "text": [
      "Registered model 'Multiclass LogisticRegression Multinomial' already exists. Creating a new version of this model...\n",
      "Created version '2' of model 'Multiclass LogisticRegression Multinomial'.\n"
     ]
    },
    {
     "data": {
      "text/plain": [
       "{'accuracy_train': 0.9804964539007093,\n",
       " 'precision_train': 0.9579912134525072,\n",
       " 'recall_train': 0.9884964661610893,\n",
       " 'f1_train': 0.9720536638663321,\n",
       " 'accuracy_val': 0.9716312056737588,\n",
       " 'precision_val': 0.959248508305112,\n",
       " 'recall_val': 0.9692863595302619,\n",
       " 'f1_val': 0.9637635756056809}"
      ]
     },
     "execution_count": 57,
     "metadata": {},
     "output_type": "execute_result"
    }
   ],
   "source": [
    "# Define hyperparameters\n",
    "model_params = {\n",
    "    \"C\": 1.0,\n",
    "    \"class_weight\": \"balanced\",\n",
    "    \"max_iter\": 1000,\n",
    "    \"random_state\": 42,\n",
    "    \"multi_class\": \"multinomial\"  # or \"ovr\"\n",
    "}\n",
    "\n",
    "# Initialize LogisticRegression\n",
    "lr_clf = LogisticRegression(**model_params)\n",
    "\n",
    "# 5Build full pipeline\n",
    "lr_pipeline = Pipeline(steps=[\n",
    "    ('preprocessor', preprocessor),\n",
    "    ('classifier', lr_clf)\n",
    "])\n",
    "\n",
    "# Fit the pipeline\n",
    "lr_pipeline.fit(train_inputs, train_targets)\n",
    "\n",
    "# 7Define logging params\n",
    "log_params = {\n",
    "    **model_params,\n",
    "    \"model_type\": \"LogisticRegression\"\n",
    "}\n",
    "\n",
    "# Log the model run\n",
    "log_model_run(\n",
    "    model=lr_pipeline,\n",
    "    train_X=train_inputs,\n",
    "    train_y=train_targets,\n",
    "    val_X=val_inputs,\n",
    "    val_y=val_targets,\n",
    "    model_name=\"Multiclass LogisticRegression Multinomial\",\n",
    "    params=log_params\n",
    ")"
   ]
  },
  {
   "cell_type": "markdown",
   "id": "bce8ffda",
   "metadata": {},
   "source": [
    "### Multiclass Classification. One versus One Classifier. "
   ]
  },
  {
   "cell_type": "code",
   "execution_count": 58,
   "id": "497877b6",
   "metadata": {},
   "outputs": [],
   "source": [
    "mlflow.set_experiment_tag(\"scikit-learn\", \"svc_ovo\")"
   ]
  },
  {
   "cell_type": "code",
   "execution_count": 59,
   "id": "b50a0ff5",
   "metadata": {},
   "outputs": [
    {
     "data": {
      "application/vnd.jupyter.widget-view+json": {
       "model_id": "7ff54646cb644bfda6148b63d6649104",
       "version_major": 2,
       "version_minor": 0
      },
      "text/plain": [
       "Downloading artifacts:   0%|          | 0/7 [00:00<?, ?it/s]"
      ]
     },
     "metadata": {},
     "output_type": "display_data"
    },
    {
     "name": "stderr",
     "output_type": "stream",
     "text": [
      "Registered model 'Multiclass SVC One-vs-One' already exists. Creating a new version of this model...\n",
      "Created version '2' of model 'Multiclass SVC One-vs-One'.\n"
     ]
    },
    {
     "data": {
      "text/plain": [
       "{'accuracy_train': 0.9804964539007093,\n",
       " 'precision_train': 0.9649757748162004,\n",
       " 'recall_train': 0.9890746046424668,\n",
       " 'f1_train': 0.9763051701495945,\n",
       " 'accuracy_val': 0.9929078014184397,\n",
       " 'precision_val': 0.9953703703703703,\n",
       " 'recall_val': 0.9959349593495935,\n",
       " 'f1_val': 0.9955949689909002}"
      ]
     },
     "execution_count": 59,
     "metadata": {},
     "output_type": "execute_result"
    }
   ],
   "source": [
    "# Define hyperparameters for SVC\n",
    "model_params = {\n",
    "    \"kernel\": \"linear\",  # Makes it equivalent to LinearSVC\n",
    "    \"C\": 1.0,\n",
    "    \"class_weight\": \"balanced\",\n",
    "    \"random_state\": 42,\n",
    "    \"decision_function_shape\": \"ovo\"  # One-vs-One\n",
    "}\n",
    "\n",
    "# Initialize SVC with one-vs-one\n",
    "svc_ovo_clf = SVC(**model_params)\n",
    "\n",
    "# Build full pipeline\n",
    "svc_ovo_pipeline = Pipeline(steps=[\n",
    "    ('preprocessor', preprocessor),\n",
    "    ('classifier', svc_ovo_clf)\n",
    "])\n",
    "\n",
    "# Fit the pipeline\n",
    "svc_ovo_pipeline.fit(train_inputs, train_targets)\n",
    "\n",
    "# Define logging params\n",
    "log_params = {\n",
    "    **model_params,\n",
    "    \"model_type\": \"SVC\",\n",
    "    \"multiclass_strategy\": \"ovo\"\n",
    "}\n",
    "\n",
    "# Log the model run\n",
    "log_model_run(\n",
    "    model=svc_ovo_pipeline,\n",
    "    train_X=train_inputs,\n",
    "    train_y=train_targets,\n",
    "    val_X=val_inputs,\n",
    "    val_y=val_targets,\n",
    "    model_name=\"Multiclass SVC One-vs-One\",\n",
    "    params=log_params\n",
    ")"
   ]
  }
 ],
 "metadata": {
  "kernelspec": {
   "display_name": "ml2025",
   "language": "python",
   "name": "python3"
  },
  "language_info": {
   "codemirror_mode": {
    "name": "ipython",
    "version": 3
   },
   "file_extension": ".py",
   "mimetype": "text/x-python",
   "name": "python",
   "nbconvert_exporter": "python",
   "pygments_lexer": "ipython3",
   "version": "3.12.9"
  }
 },
 "nbformat": 4,
 "nbformat_minor": 5
}
