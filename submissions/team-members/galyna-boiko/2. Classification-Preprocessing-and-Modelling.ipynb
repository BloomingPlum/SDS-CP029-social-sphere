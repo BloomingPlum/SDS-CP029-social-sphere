{
 "cells": [
  {
   "cell_type": "markdown",
   "id": "dd0a7481",
   "metadata": {},
   "source": [
    "## Data Loading and Initial Setup\n",
    "\n",
    "Here we import all necessary libraries and set up our development environment:\n",
    "- Data manipulation: pandas, numpy\n",
    "- Visualization: matplotlib, seaborn\n",
    "- Machine learning: scikit-learn, XGBoost\n",
    "- Model tracking: MLflow\n",
    "\n",
    "We'll use these libraries throughout the notebook for data processing, model training, and evaluation."
   ]
  },
  {
   "cell_type": "code",
   "execution_count": 18,
   "id": "9d1e26ba",
   "metadata": {},
   "outputs": [],
   "source": [
    "# Data manipulation and visualization\n",
    "import pandas as pd\n",
    "import numpy as np\n",
    "import matplotlib.pyplot as plt\n",
    "import seaborn as sns\n",
    "from numpy import unique\n",
    "\n",
    "# MLflow\n",
    "import mlflow\n",
    "from mlflow.models.signature import infer_signature\n",
    "from mlflow.tracking import MlflowClient\n",
    "import inspect\n",
    "\n",
    "# Scikit-learn preprocessing and pipeline\n",
    "from sklearn.preprocessing import StandardScaler, OneHotEncoder\n",
    "from category_encoders import TargetEncoder\n",
    "from sklearn.pipeline import Pipeline\n",
    "from sklearn.compose import ColumnTransformer\n",
    "from sklearn.model_selection import train_test_split\n",
    "\n",
    "# Models\n",
    "from sklearn.linear_model import LogisticRegression\n",
    "from xgboost import XGBClassifier\n",
    "from sklearn.svm import LinearSVC\n",
    "from sklearn.multiclass import OneVsRestClassifier\n",
    "from sklearn.svm import SVC\n",
    "\n",
    "# Metrics\n",
    "from sklearn.metrics import (\n",
    "    accuracy_score, roc_auc_score, confusion_matrix, \n",
    "    ConfusionMatrixDisplay, roc_curve, auc,\n",
    "    precision_score, recall_score, f1_score\n",
    ")\n",
    "\n",
    "from utils import log_class_model_run\n",
    "\n",
    "# Logging configuration\n",
    "import logging\n",
    "logging.getLogger(\"mlflow.models.model\").setLevel(logging.ERROR)\n",
    "\n",
    "# Warnings management\n",
    "import warnings\n",
    "import joblib"
   ]
  },
  {
   "cell_type": "code",
   "execution_count": 2,
   "id": "babe9256",
   "metadata": {},
   "outputs": [
    {
     "name": "stdout",
     "output_type": "stream",
     "text": [
      "file:///C:/Users/Galyna/mlruns\n"
     ]
    }
   ],
   "source": [
    "mlflow.set_tracking_uri(\"file:///C:/Users/Galyna/mlruns\")\n",
    "print(mlflow.get_tracking_uri())"
   ]
  },
  {
   "cell_type": "code",
   "execution_count": 3,
   "id": "e6986f34",
   "metadata": {},
   "outputs": [],
   "source": [
    "mlflow.set_experiment(\"Social Media Project Binary Classification\")\n",
    "mlflow.set_experiment_tag(\"scikit-learn\", \"lr\")"
   ]
  },
  {
   "cell_type": "code",
   "execution_count": 4,
   "id": "7f7fd4ce",
   "metadata": {},
   "outputs": [],
   "source": [
    "df = pd.read_csv('data.csv') "
   ]
  },
  {
   "cell_type": "markdown",
   "id": "81dcbeb5",
   "metadata": {},
   "source": [
    "## Feature Engineering and Preprocessing\n",
    "\n",
    "In this section, we:\n",
    "1. Create a binary target variable for conflicts over social media (High/Low)\n",
    "2.  Separate features into numeric and categorical columns\n",
    "3. Set up preprocessing pipelines for these types of features:\n",
    "   - Numeric features: StandardScaler\n",
    "   - Categorical features: OneHotEncoder\n",
    "   - Country: TargetEncoder"
   ]
  },
  {
   "cell_type": "code",
   "execution_count": 5,
   "id": "9ee96b39",
   "metadata": {},
   "outputs": [],
   "source": [
    "df[\"Conflicts_Over_Social_Media_Binary\"] = df[\"Conflicts_Over_Social_Media\"].apply(lambda x: 0 if x <= 2 else 1).astype(int)\n"
   ]
  },
  {
   "cell_type": "code",
   "execution_count": 6,
   "id": "513ad2dc",
   "metadata": {},
   "outputs": [
    {
     "data": {
      "text/plain": [
       "Text(0, 0.5, 'Count')"
      ]
     },
     "execution_count": 6,
     "metadata": {},
     "output_type": "execute_result"
    },
    {
     "data": {
      "image/png": "[encoded data removed]",
      "text/plain": [
       "<Figure size 640x480 with 1 Axes>"
      ]
     },
     "metadata": {},
     "output_type": "display_data"
    }
   ],
   "source": [
    "df[\"Conflicts_Over_Social_Media_Binary\"].value_counts().plot(kind='bar', title='Conflicts Over Social Media Binary Distribution')\n",
    "plt.xlabel('Conflicts Over Social Media Binary')\n",
    "plt.ylabel('Count')"
   ]
  },
  {
   "cell_type": "code",
   "execution_count": 7,
   "id": "a8fab687",
   "metadata": {},
   "outputs": [
    {
     "data": {
      "text/html": [
       "<div>\n",
       "<style scoped>\n",
       "    .dataframe tbody tr th:only-of-type {\n",
       "        vertical-align: middle;\n",
       "    }\n",
       "\n",
       "    .dataframe tbody tr th {\n",
       "        vertical-align: top;\n",
       "    }\n",
       "\n",
       "    .dataframe thead th {\n",
       "        text-align: right;\n",
       "    }\n",
       "</style>\n",
       "<table border=\"1\" class=\"dataframe\">\n",
       "  <thead>\n",
       "    <tr style=\"text-align: right;\">\n",
       "      <th></th>\n",
       "      <th>Student_ID</th>\n",
       "      <th>Age</th>\n",
       "      <th>Gender</th>\n",
       "      <th>Academic_Level</th>\n",
       "      <th>Country</th>\n",
       "      <th>Avg_Daily_Usage_Hours</th>\n",
       "      <th>Most_Used_Platform</th>\n",
       "      <th>Affects_Academic_Performance</th>\n",
       "      <th>Sleep_Hours_Per_Night</th>\n",
       "      <th>Mental_Health_Score</th>\n",
       "      <th>Relationship_Status</th>\n",
       "      <th>Conflicts_Over_Social_Media</th>\n",
       "      <th>Addicted_Score</th>\n",
       "      <th>Conflicts_Over_Social_Media_Binary</th>\n",
       "    </tr>\n",
       "  </thead>\n",
       "  <tbody>\n",
       "    <tr>\n",
       "      <th>0</th>\n",
       "      <td>1</td>\n",
       "      <td>19</td>\n",
       "      <td>Female</td>\n",
       "      <td>Undergraduate</td>\n",
       "      <td>Bangladesh</td>\n",
       "      <td>5.2</td>\n",
       "      <td>Instagram</td>\n",
       "      <td>Yes</td>\n",
       "      <td>6.5</td>\n",
       "      <td>6</td>\n",
       "      <td>In Relationship</td>\n",
       "      <td>3</td>\n",
       "      <td>8</td>\n",
       "      <td>1</td>\n",
       "    </tr>\n",
       "    <tr>\n",
       "      <th>1</th>\n",
       "      <td>2</td>\n",
       "      <td>22</td>\n",
       "      <td>Male</td>\n",
       "      <td>Graduate</td>\n",
       "      <td>India</td>\n",
       "      <td>2.1</td>\n",
       "      <td>Twitter</td>\n",
       "      <td>No</td>\n",
       "      <td>7.5</td>\n",
       "      <td>8</td>\n",
       "      <td>Single</td>\n",
       "      <td>0</td>\n",
       "      <td>3</td>\n",
       "      <td>0</td>\n",
       "    </tr>\n",
       "    <tr>\n",
       "      <th>2</th>\n",
       "      <td>3</td>\n",
       "      <td>20</td>\n",
       "      <td>Female</td>\n",
       "      <td>Undergraduate</td>\n",
       "      <td>USA</td>\n",
       "      <td>6.0</td>\n",
       "      <td>TikTok</td>\n",
       "      <td>Yes</td>\n",
       "      <td>5.0</td>\n",
       "      <td>5</td>\n",
       "      <td>Complicated</td>\n",
       "      <td>4</td>\n",
       "      <td>9</td>\n",
       "      <td>1</td>\n",
       "    </tr>\n",
       "    <tr>\n",
       "      <th>3</th>\n",
       "      <td>4</td>\n",
       "      <td>18</td>\n",
       "      <td>Male</td>\n",
       "      <td>High School</td>\n",
       "      <td>UK</td>\n",
       "      <td>3.0</td>\n",
       "      <td>YouTube</td>\n",
       "      <td>No</td>\n",
       "      <td>7.0</td>\n",
       "      <td>7</td>\n",
       "      <td>Single</td>\n",
       "      <td>1</td>\n",
       "      <td>4</td>\n",
       "      <td>0</td>\n",
       "    </tr>\n",
       "    <tr>\n",
       "      <th>4</th>\n",
       "      <td>5</td>\n",
       "      <td>21</td>\n",
       "      <td>Male</td>\n",
       "      <td>Graduate</td>\n",
       "      <td>Canada</td>\n",
       "      <td>4.5</td>\n",
       "      <td>Facebook</td>\n",
       "      <td>Yes</td>\n",
       "      <td>6.0</td>\n",
       "      <td>6</td>\n",
       "      <td>In Relationship</td>\n",
       "      <td>2</td>\n",
       "      <td>7</td>\n",
       "      <td>0</td>\n",
       "    </tr>\n",
       "  </tbody>\n",
       "</table>\n",
       "</div>"
      ],
      "text/plain": [
       "   Student_ID  Age  Gender Academic_Level     Country  Avg_Daily_Usage_Hours  \\\n",
       "0           1   19  Female  Undergraduate  Bangladesh                    5.2   \n",
       "1           2   22    Male       Graduate       India                    2.1   \n",
       "2           3   20  Female  Undergraduate         USA                    6.0   \n",
       "3           4   18    Male    High School          UK                    3.0   \n",
       "4           5   21    Male       Graduate      Canada                    4.5   \n",
       "\n",
       "  Most_Used_Platform Affects_Academic_Performance  Sleep_Hours_Per_Night  \\\n",
       "0          Instagram                          Yes                    6.5   \n",
       "1            Twitter                           No                    7.5   \n",
       "2             TikTok                          Yes                    5.0   \n",
       "3            YouTube                           No                    7.0   \n",
       "4           Facebook                          Yes                    6.0   \n",
       "\n",
       "   Mental_Health_Score Relationship_Status  Conflicts_Over_Social_Media  \\\n",
       "0                    6     In Relationship                            3   \n",
       "1                    8              Single                            0   \n",
       "2                    5         Complicated                            4   \n",
       "3                    7              Single                            1   \n",
       "4                    6     In Relationship                            2   \n",
       "\n",
       "   Addicted_Score  Conflicts_Over_Social_Media_Binary  \n",
       "0               8                                   1  \n",
       "1               3                                   0  \n",
       "2               9                                   1  \n",
       "3               4                                   0  \n",
       "4               7                                   0  "
      ]
     },
     "execution_count": 7,
     "metadata": {},
     "output_type": "execute_result"
    }
   ],
   "source": [
    "df.head()"
   ]
  },
  {
   "cell_type": "code",
   "execution_count": 8,
   "id": "eec88946",
   "metadata": {},
   "outputs": [
    {
     "name": "stdout",
     "output_type": "stream",
     "text": [
      "['Age', 'Avg_Daily_Usage_Hours', 'Sleep_Hours_Per_Night', 'Mental_Health_Score']\n",
      "['Gender', 'Academic_Level', 'Most_Used_Platform', 'Affects_Academic_Performance', 'Relationship_Status']\n"
     ]
    }
   ],
   "source": [
    "exclude_cols = ['Student_ID', 'Conflicts_Over_Social_Media', 'Country', 'Conflicts_Over_Social_Media_Binary', 'Addicted_Score'] \n",
    "numeric_cols = df.select_dtypes(include='number').columns\n",
    "numeric_cols = [col for col in numeric_cols if col not in exclude_cols]\n",
    "print(numeric_cols)\n",
    "\n",
    "categoric_cols = df.select_dtypes(include='object').columns\n",
    "categoric_cols = [col for col in categoric_cols if col not in exclude_cols]\n",
    "print(categoric_cols)"
   ]
  },
  {
   "cell_type": "markdown",
   "id": "b69e452d",
   "metadata": {},
   "source": [
    "## Model Development\n",
    "\n",
    "### Data Split and Pipeline Setup\n",
    "We split our data into training and validation sets with a 80-20 split ratio. For the models, we:\n",
    "1. Create preprocessing pipelines that combine numeric and categorical transformers\n",
    "2. Set up model hyperparameters\n",
    "3. Create full pipelines that combine preprocessing and model training\n",
    "4. Train the models and make predictions\n",
    "\n",
    "We'll implement two models:\n",
    "1. Logistic Regression - as a baseline model\n",
    "2. XGBoost - as our main model"
   ]
  },
  {
   "cell_type": "code",
   "execution_count": 9,
   "id": "ccd3a7e9",
   "metadata": {},
   "outputs": [],
   "source": [
    "numeric_pipe  = Pipeline([('std_scaler', StandardScaler())])\n",
    "categorical_ohe_pipe = Pipeline([('onehot', OneHotEncoder(handle_unknown='ignore'))])\n",
    "country_te_pipe = Pipeline([('target_enc', TargetEncoder())])"
   ]
  },
  {
   "cell_type": "code",
   "execution_count": 10,
   "id": "1a9f398c",
   "metadata": {},
   "outputs": [],
   "source": [
    "lr_params = {\n",
    "    \"solver\": \"liblinear\",\n",
    "    \"class_weight\":'balanced',\n",
    "    \"C\": 0.1, \n",
    "    \"max_iter\": 1000,\n",
    "    \"random_state\": 42,\n",
    "}"
   ]
  },
  {
   "cell_type": "code",
   "execution_count": 11,
   "id": "3eb43e37",
   "metadata": {},
   "outputs": [],
   "source": [
    "# Define preprocessing and pipeline\n",
    "preprocessor = ColumnTransformer([\n",
    "    ('numeric',          numeric_pipe,      numeric_cols),\n",
    "    ('categorical_ohe',  categorical_ohe_pipe, categoric_cols),\n",
    "    ('country_te',       country_te_pipe,   ['Country'])\n",
    "])\n",
    "\n",
    "lr_model = Pipeline(steps=[\n",
    "    ('preprocessor', preprocessor),\n",
    "    ('classifier', LogisticRegression(**lr_params)) \n",
    "])"
   ]
  },
  {
   "cell_type": "code",
   "execution_count": 12,
   "id": "4e659d4f",
   "metadata": {},
   "outputs": [],
   "source": [
    "train_df, val_df = train_test_split(df, test_size=0.2, random_state=42, stratify=df['Conflicts_Over_Social_Media_Binary'])"
   ]
  },
  {
   "cell_type": "code",
   "execution_count": 13,
   "id": "16d98a1b",
   "metadata": {},
   "outputs": [],
   "source": [
    "input_cols = numeric_cols + categoric_cols + ['Country']\n",
    "target_col = 'Conflicts_Over_Social_Media_Binary'\n",
    "train_inputs, train_targets = train_df[input_cols].copy(), train_df[target_col].copy()\n",
    "val_inputs, val_targets = val_df[input_cols].copy(), val_df[target_col].copy()"
   ]
  },
  {
   "cell_type": "code",
   "execution_count": 14,
   "id": "df4e432a",
   "metadata": {},
   "outputs": [],
   "source": [
    "# Fit the model and get predictions to check class balance\n",
    "lr_model.fit(train_inputs, train_targets)\n",
    "train_preds = lr_model.predict(train_inputs)\n",
    "val_preds = lr_model.predict(val_inputs)"
   ]
  },
  {
   "cell_type": "markdown",
   "id": "f37c1acc",
   "metadata": {},
   "source": [
    "##  Model Evaluation and MLflow Tracking"
   ]
  },
  {
   "cell_type": "markdown",
   "id": "3294636a",
   "metadata": {},
   "source": [
    "#### Logistic Regression"
   ]
  },
  {
   "cell_type": "code",
   "execution_count": 15,
   "id": "580730e3",
   "metadata": {},
   "outputs": [],
   "source": [
    "if mlflow.active_run():\n",
    "    mlflow.end_run()   "
   ]
  },
  {
   "cell_type": "code",
   "execution_count": 16,
   "id": "aaae3f8a",
   "metadata": {},
   "outputs": [
    {
     "data": {
      "application/vnd.jupyter.widget-view+json": {
       "model_id": "85e1579f283c467d8db732a6125cae31",
       "version_major": 2,
       "version_minor": 0
      },
      "text/plain": [
       "Downloading artifacts:   0%|          | 0/7 [00:00<?, ?it/s]"
      ]
     },
     "metadata": {},
     "output_type": "display_data"
    },
    {
     "name": "stderr",
     "output_type": "stream",
     "text": [
      "Registered model 'Logistic Regression Model' already exists. Creating a new version of this model...\n",
      "Created version '5' of model 'Logistic Regression Model'.\n"
     ]
    },
    {
     "data": {
      "text/plain": [
       "{'accuracy_train': 0.9929078014184397,\n",
       " 'precision_train': 0.9917127071823204,\n",
       " 'recall_train': 0.9972222222222222,\n",
       " 'f1_train': 0.9944598337950139,\n",
       " 'accuracy_val': 1.0,\n",
       " 'precision_val': 1.0,\n",
       " 'recall_val': 1.0,\n",
       " 'f1_val': 1.0,\n",
       " 'roc_auc_train': 0.9972358387799565,\n",
       " 'roc_auc_val': 1.0}"
      ]
     },
     "execution_count": 16,
     "metadata": {},
     "output_type": "execute_result"
    }
   ],
   "source": [
    "log_class_model_run(\n",
    "    model=lr_model,\n",
    "    params=lr_params,\n",
    "    train_X=train_inputs, train_y=train_targets,\n",
    "    val_X=val_inputs,     val_y=val_targets,\n",
    "    model_name=\"Logistic Regression Model\")"
   ]
  },
  {
   "cell_type": "markdown",
   "id": "cb6e4d21",
   "metadata": {},
   "source": [
    "#### XGBoost"
   ]
  },
  {
   "cell_type": "code",
   "execution_count": 17,
   "id": "6d278796",
   "metadata": {},
   "outputs": [],
   "source": [
    "cat_features = train_inputs.select_dtypes(include='object').columns\n",
    "train_inputs[cat_features] = train_inputs[cat_features].astype('category')\n",
    "val_inputs[cat_features] = val_inputs[cat_features].astype('category')"
   ]
  },
  {
   "cell_type": "code",
   "execution_count": 20,
   "id": "31cd5ef0",
   "metadata": {},
   "outputs": [
    {
     "data": {
      "application/vnd.jupyter.widget-view+json": {
       "model_id": "6436c9dd67594215807e1a9c53f27652",
       "version_major": 2,
       "version_minor": 0
      },
      "text/plain": [
       "Downloading artifacts:   0%|          | 0/7 [00:00<?, ?it/s]"
      ]
     },
     "metadata": {},
     "output_type": "display_data"
    },
    {
     "name": "stderr",
     "output_type": "stream",
     "text": [
      "Registered model 'XGBoost' already exists. Creating a new version of this model...\n",
      "Created version '18' of model 'XGBoost'.\n"
     ]
    },
    {
     "data": {
      "text/plain": [
       "{'accuracy_train': 0.9946808510638298,\n",
       " 'precision_train': 0.9917355371900827,\n",
       " 'recall_train': 1.0,\n",
       " 'f1_train': 0.995850622406639,\n",
       " 'accuracy_val': 1.0,\n",
       " 'precision_val': 1.0,\n",
       " 'recall_val': 1.0,\n",
       " 'f1_val': 1.0,\n",
       " 'roc_auc_train': 0.998134531590414,\n",
       " 'roc_auc_val': 1.0}"
      ]
     },
     "execution_count": 20,
     "metadata": {},
     "output_type": "execute_result"
    }
   ],
   "source": [
    "xgb_params = {\n",
    "    \"max_depth\": 3,\n",
    "    \"n_estimators\": 10,\n",
    "    \"enable_categorical\": True,\n",
    "    \"random_state\": 42\n",
    "}\n",
    "\n",
    "\n",
    "xgb = XGBClassifier(\n",
    "        ** xgb_params,\n",
    "     ).fit(train_inputs, train_targets)\n",
    "\n",
    "\n",
    "log_class_model_run(\n",
    "    model=xgb,\n",
    "    params=xgb_params,\n",
    "    train_X=train_inputs, train_y=train_targets,\n",
    "    val_X=val_inputs,     val_y=val_targets,\n",
    "    model_name=\"XGBoost\"\n",
    ")"
   ]
  },
  {
   "cell_type": "code",
   "execution_count": 25,
   "id": "3ff71705",
   "metadata": {},
   "outputs": [],
   "source": [
    "social_media = {\n",
    "    'model': xgb,  # Trained XGBoost model\n",
    "    'numeric_cols': numeric_cols,\n",
    "    'categoric_cols': categoric_cols,\n",
    "    'input_cols': train_inputs.columns.tolist(),  # All input columns, in order\n",
    "    'target_col': target_col,\n",
    "    'label_map': {0: 'Low', 1: 'High'},  # Map model output to human labels\n",
    "    'model_type': 'XGBoost',\n",
    "    'version': '2025-07-13',\n",
    "    'metrics': {\n",
    "        'accuracy': accuracy_score(val_targets, xgb.predict(val_inputs)),\n",
    "        'f1': f1_score(val_targets, xgb.predict(val_inputs)),\n",
    "        'roc_auc': roc_auc_score(val_targets, xgb.predict_proba(val_inputs)[:,1])\n",
    "    },\n",
    "    'class_names': ['Low', 'High'],\n",
    "    'input_example': train_inputs.iloc[0].to_dict(),  # Example input row\n",
    "    'description': 'XGBoost classifier for predicting social media conflict (High/Low) based on survey features.'\n",
    "}\n",
    "\n",
    "# In your Streamlit app, always convert categoric columns to 'category' dtype before prediction:\n",
    "# for col in social_media['categoric_cols']:\n",
    "#     user_input[col] = user_input[col].astype('category')"
   ]
  },
  {
   "cell_type": "code",
   "execution_count": null,
   "id": "da751664",
   "metadata": {},
   "outputs": [],
   "source": []
  },
  {
   "cell_type": "markdown",
   "id": "26b93c49",
   "metadata": {},
   "source": [
    "### Multiclass Classification. \n",
    "#### One versus Rest Classifier. "
   ]
  },
  {
   "cell_type": "code",
   "execution_count": 22,
   "id": "72370da1",
   "metadata": {},
   "outputs": [],
   "source": [
    "train_df, val_df = train_test_split(df, test_size=0.2, random_state=42, stratify=df['Conflicts_Over_Social_Media'])"
   ]
  },
  {
   "cell_type": "code",
   "execution_count": 23,
   "id": "c7485524",
   "metadata": {},
   "outputs": [
    {
     "data": {
      "text/plain": [
       "<Experiment: artifact_location='file:///C:/Users/Galyna/mlruns/830411302848788280', creation_time=1751132393946, experiment_id='830411302848788280', last_update_time=1751132393946, lifecycle_stage='active', name='Social Media Project Multiclass Classification', tags={'scikit-learn': 'log_reg_multinomial'}>"
      ]
     },
     "execution_count": 23,
     "metadata": {},
     "output_type": "execute_result"
    }
   ],
   "source": [
    "mlflow.set_experiment(\"Social Media Project Multiclass Classification\")"
   ]
  },
  {
   "cell_type": "code",
   "execution_count": 26,
   "id": "fde53a7a",
   "metadata": {},
   "outputs": [
    {
     "data": {
      "application/vnd.jupyter.widget-view+json": {
       "model_id": "ab5b55069e3b438c8f4497eb0cef08d7",
       "version_major": 2,
       "version_minor": 0
      },
      "text/plain": [
       "Downloading artifacts:   0%|          | 0/7 [00:00<?, ?it/s]"
      ]
     },
     "metadata": {},
     "output_type": "display_data"
    },
    {
     "name": "stderr",
     "output_type": "stream",
     "text": [
      "Registered model 'Multiclass LinearSVC One-vs-Rest' already exists. Creating a new version of this model...\n",
      "Created version '9' of model 'Multiclass LinearSVC One-vs-Rest'.\n"
     ]
    },
    {
     "data": {
      "text/plain": [
       "{'accuracy_train': 0.9946808510638298,\n",
       " 'precision_train': 0.9917355371900827,\n",
       " 'recall_train': 1.0,\n",
       " 'f1_train': 0.995850622406639,\n",
       " 'accuracy_val': 1.0,\n",
       " 'precision_val': 1.0,\n",
       " 'recall_val': 1.0,\n",
       " 'f1_val': 1.0,\n",
       " 'roc_auc_train': 0.9997957516339869,\n",
       " 'roc_auc_val': 1.0}"
      ]
     },
     "execution_count": 26,
     "metadata": {},
     "output_type": "execute_result"
    }
   ],
   "source": [
    "svc_params = {\n",
    "    \"C\": 1.0,\n",
    "    \"class_weight\": \"balanced\",\n",
    "    \"max_iter\": 1000,\n",
    "    \"random_state\": 42\n",
    "}\n",
    "\n",
    "\n",
    "# Initialize LinearSVC directly\n",
    "svc_clf = LinearSVC()\n",
    "\n",
    "# Build full pipeline\n",
    "svc_pipeline = Pipeline(steps=[\n",
    "    ('preprocessor', preprocessor),\n",
    "    ('classifier', svc_clf)\n",
    "])\n",
    "\n",
    "# Fit the pipeline\n",
    "svc_pipeline.fit(train_inputs, train_targets)\n",
    "\n",
    "# Define logging params\n",
    "log_params = {\n",
    "    **svc_params,\n",
    "    \"model_type\": \"LinearSVC\",\n",
    "    \"multiclass_strategy\": \"ovr\"\n",
    "}\n",
    "\n",
    "# Log the model run\n",
    "log_class_model_run(\n",
    "    model=svc_pipeline,\n",
    "    train_X=train_inputs,\n",
    "    train_y=train_targets,\n",
    "    val_X=val_inputs,\n",
    "    val_y=val_targets,\n",
    "    model_name=\"Multiclass LinearSVC One-vs-Rest\",\n",
    "    params=log_params\n",
    ")"
   ]
  },
  {
   "cell_type": "markdown",
   "id": "9c499cea",
   "metadata": {},
   "source": [
    "#### Softmax Classifier. "
   ]
  },
  {
   "cell_type": "code",
   "execution_count": 27,
   "id": "00cf930b",
   "metadata": {},
   "outputs": [
    {
     "name": "stderr",
     "output_type": "stream",
     "text": [
      "c:\\Users\\Galyna\\anaconda3\\envs\\ml2025\\Lib\\site-packages\\sklearn\\linear_model\\_logistic.py:1254: FutureWarning: 'multi_class' was deprecated in version 1.5 and will be removed in 1.7. From then on, binary problems will be fit as proper binary  logistic regression models (as if multi_class='ovr' were set). Leave it to its default value to avoid this warning.\n",
      "  warnings.warn(\n"
     ]
    },
    {
     "data": {
      "application/vnd.jupyter.widget-view+json": {
       "model_id": "6db9fdb0e6f142c1bdf9b09251a67539",
       "version_major": 2,
       "version_minor": 0
      },
      "text/plain": [
       "Downloading artifacts:   0%|          | 0/7 [00:00<?, ?it/s]"
      ]
     },
     "metadata": {},
     "output_type": "display_data"
    },
    {
     "name": "stderr",
     "output_type": "stream",
     "text": [
      "Registered model 'Multinomial Logistic Regression (Softmax)' already exists. Creating a new version of this model...\n",
      "Created version '2' of model 'Multinomial Logistic Regression (Softmax)'.\n"
     ]
    },
    {
     "data": {
      "text/plain": [
       "{'accuracy_train': 0.9946808510638298,\n",
       " 'precision_train': 0.9917355371900827,\n",
       " 'recall_train': 1.0,\n",
       " 'f1_train': 0.995850622406639,\n",
       " 'accuracy_val': 1.0,\n",
       " 'precision_val': 1.0,\n",
       " 'recall_val': 1.0,\n",
       " 'f1_val': 1.0,\n",
       " 'roc_auc_train': 0.9997276688453159,\n",
       " 'roc_auc_val': 1.0}"
      ]
     },
     "execution_count": 27,
     "metadata": {},
     "output_type": "execute_result"
    }
   ],
   "source": [
    "# Define hyperparameters\n",
    "lr_multinom_params = {\n",
    "    \"C\": 1.0,\n",
    "    \"class_weight\": \"balanced\",\n",
    "    \"max_iter\": 1000,\n",
    "    \"random_state\": 42,\n",
    "    \"multi_class\": \"multinomial\"  # or \"ovr\"\n",
    "}\n",
    "\n",
    "# Initialize LogisticRegression\n",
    "lr_clf = LogisticRegression(**lr_multinom_params)\n",
    "\n",
    "# 5Build full pipeline\n",
    "lr_pipeline = Pipeline(steps=[\n",
    "    ('preprocessor', preprocessor),\n",
    "    ('classifier', lr_clf)\n",
    "])\n",
    "\n",
    "# Fit the pipeline\n",
    "lr_pipeline.fit(train_inputs, train_targets)\n",
    "\n",
    "# 7Define logging params\n",
    "log_params = {\n",
    "    **lr_multinom_params,\n",
    "    \"model_type\": \"LogisticRegression\"\n",
    "}\n",
    "\n",
    "# Log the model run\n",
    "log_class_model_run(\n",
    "    model=lr_pipeline,\n",
    "    train_X=train_inputs,\n",
    "    train_y=train_targets,\n",
    "    val_X=val_inputs,\n",
    "    val_y=val_targets,\n",
    "    model_name=\"Multinomial Logistic Regression (Softmax)\",\n",
    "    params=log_params\n",
    ")"
   ]
  },
  {
   "cell_type": "markdown",
   "id": "bce8ffda",
   "metadata": {},
   "source": [
    "###  One versus One Classifier. "
   ]
  },
  {
   "cell_type": "code",
   "execution_count": 28,
   "id": "b50a0ff5",
   "metadata": {},
   "outputs": [
    {
     "data": {
      "application/vnd.jupyter.widget-view+json": {
       "model_id": "e303edfbd4814d988fa3f3c326c08a24",
       "version_major": 2,
       "version_minor": 0
      },
      "text/plain": [
       "Downloading artifacts:   0%|          | 0/7 [00:00<?, ?it/s]"
      ]
     },
     "metadata": {},
     "output_type": "display_data"
    },
    {
     "name": "stderr",
     "output_type": "stream",
     "text": [
      "Registered model 'Multiclass SVC One-vs-One' already exists. Creating a new version of this model...\n",
      "Created version '6' of model 'Multiclass SVC One-vs-One'.\n"
     ]
    },
    {
     "data": {
      "text/plain": [
       "{'accuracy_train': 0.9946808510638298,\n",
       " 'precision_train': 0.9917355371900827,\n",
       " 'recall_train': 1.0,\n",
       " 'f1_train': 0.995850622406639,\n",
       " 'accuracy_val': 1.0,\n",
       " 'precision_val': 1.0,\n",
       " 'recall_val': 1.0,\n",
       " 'f1_val': 1.0,\n",
       " 'roc_auc_train': 0.9983251633986928,\n",
       " 'roc_auc_val': 1.0}"
      ]
     },
     "execution_count": 28,
     "metadata": {},
     "output_type": "execute_result"
    }
   ],
   "source": [
    "# Define hyperparameters for SVC\n",
    "ovo_params = {\n",
    "    \"kernel\": \"linear\",  # Makes it equivalent to LinearSVC\n",
    "    \"C\": 1.0,\n",
    "    \"class_weight\": \"balanced\",\n",
    "    \"random_state\": 42,\n",
    "    \"decision_function_shape\": \"ovo\"  # One-vs-One\n",
    "}\n",
    "\n",
    "# Initialize SVC with one-vs-one\n",
    "svc_ovo_clf = SVC(**ovo_params)\n",
    "\n",
    "# Build full pipeline\n",
    "svc_ovo_pipeline = Pipeline(steps=[\n",
    "    ('preprocessor', preprocessor),\n",
    "    ('classifier', svc_ovo_clf)\n",
    "])\n",
    "\n",
    "# Fit the pipeline\n",
    "svc_ovo_pipeline.fit(train_inputs, train_targets)\n",
    "\n",
    "# Define logging params\n",
    "log_params = {\n",
    "    **ovo_params,\n",
    "    \"model_type\": \"SVC\",\n",
    "    \"multiclass_strategy\": \"ovo\"\n",
    "}\n",
    "\n",
    "# Log the model run\n",
    "log_class_model_run(\n",
    "    model=svc_ovo_pipeline,\n",
    "    train_X=train_inputs,\n",
    "    train_y=train_targets,\n",
    "    val_X=val_inputs,\n",
    "    val_y=val_targets,\n",
    "    model_name=\"Multiclass SVC One-vs-One\",\n",
    "    params=log_params\n",
    ")"
   ]
  }
 ],
 "metadata": {
  "kernelspec": {
   "display_name": "ml2025",
   "language": "python",
   "name": "python3"
  },
  "language_info": {
   "codemirror_mode": {
    "name": "ipython",
    "version": 3
   },
   "file_extension": ".py",
   "mimetype": "text/x-python",
   "name": "python",
   "nbconvert_exporter": "python",
   "pygments_lexer": "ipython3",
   "version": "3.12.9"
  }
 },
 "nbformat": 4,
 "nbformat_minor": 5
}
