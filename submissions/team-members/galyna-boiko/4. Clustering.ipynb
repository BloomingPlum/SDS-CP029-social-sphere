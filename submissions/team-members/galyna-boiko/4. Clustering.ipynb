{
 "cells": [
  {
   "cell_type": "code",
   "execution_count": 1,
   "id": "a5afd576",
   "metadata": {},
   "outputs": [],
   "source": [
    "import pandas as pd\n",
    "import numpy as np\n",
    "from sklearn.cluster import KMeans\n",
    "from sklearn.decomposition import PCA\n",
    "from sklearn.manifold import TSNE\n",
    "from sklearn.preprocessing import StandardScaler\n",
    "from sklearn.preprocessing import OneHotEncoder\n",
    "import plotly.express as px\n",
    "import matplotlib.pyplot as plt\n",
    "import plotly.express as px\n",
    "from sklearn.cluster import DBSCAN\n",
    "from sklearn import metrics\n",
    "from sklearn.datasets import make_blobs\n",
    "\n",
    "import seaborn as sns\n",
    "sns.set_theme()"
   ]
  },
  {
   "cell_type": "code",
   "execution_count": 2,
   "id": "b20d0225",
   "metadata": {},
   "outputs": [],
   "source": [
    "df = pd.read_csv('data.csv')\n",
    "df = df.drop(['Student_ID'], axis=1)"
   ]
  },
  {
   "cell_type": "code",
   "execution_count": 3,
   "id": "375060ef",
   "metadata": {},
   "outputs": [],
   "source": [
    "numeric_cols = df.select_dtypes(include=[np.number]).columns.tolist()\n",
    "categorical_cols = df.select_dtypes(exclude=[np.number]).columns.tolist()"
   ]
  },
  {
   "cell_type": "code",
   "execution_count": 4,
   "id": "3f9b0781",
   "metadata": {},
   "outputs": [
    {
     "name": "stdout",
     "output_type": "stream",
     "text": [
      "Numeric columns: ['Age', 'Avg_Daily_Usage_Hours', 'Sleep_Hours_Per_Night', 'Mental_Health_Score', 'Conflicts_Over_Social_Media', 'Addicted_Score']\n",
      "Categorical columns: ['Gender', 'Academic_Level', 'Country', 'Most_Used_Platform', 'Affects_Academic_Performance', 'Relationship_Status']\n"
     ]
    }
   ],
   "source": [
    "print(\"Numeric columns:\", numeric_cols)\n",
    "print(\"Categorical columns:\", categorical_cols)"
   ]
  },
  {
   "cell_type": "code",
   "execution_count": 5,
   "id": "76abd625",
   "metadata": {},
   "outputs": [],
   "source": [
    "encoder = OneHotEncoder(drop='first', sparse_output=False) \n",
    "encoded = encoder.fit_transform(df[categorical_cols])\n",
    "encoded_cols = encoder.get_feature_names_out(categorical_cols)\n",
    "df_encoded = pd.DataFrame(encoded, columns=encoded_cols, index=df.index)"
   ]
  },
  {
   "cell_type": "code",
   "execution_count": 6,
   "id": "99e16406",
   "metadata": {},
   "outputs": [],
   "source": [
    "scaler = StandardScaler()\n",
    "scaled_numeric = scaler.fit_transform(df[numeric_cols])\n",
    "df_scaled_numeric = pd.DataFrame(scaled_numeric, columns=numeric_cols, index=df.index)"
   ]
  },
  {
   "cell_type": "code",
   "execution_count": 7,
   "id": "2cf3e6c6",
   "metadata": {},
   "outputs": [],
   "source": [
    "X_preprocessed = pd.concat([df_scaled_numeric, df_encoded], axis=1)"
   ]
  },
  {
   "cell_type": "code",
   "execution_count": 8,
   "id": "da9746f9",
   "metadata": {},
   "outputs": [
    {
     "data": {
      "text/html": [
       "<div>\n",
       "<style scoped>\n",
       "    .dataframe tbody tr th:only-of-type {\n",
       "        vertical-align: middle;\n",
       "    }\n",
       "\n",
       "    .dataframe tbody tr th {\n",
       "        vertical-align: top;\n",
       "    }\n",
       "\n",
       "    .dataframe thead th {\n",
       "        text-align: right;\n",
       "    }\n",
       "</style>\n",
       "<table border=\"1\" class=\"dataframe\">\n",
       "  <thead>\n",
       "    <tr style=\"text-align: right;\">\n",
       "      <th></th>\n",
       "      <th>Age</th>\n",
       "      <th>Avg_Daily_Usage_Hours</th>\n",
       "      <th>Sleep_Hours_Per_Night</th>\n",
       "      <th>Mental_Health_Score</th>\n",
       "      <th>Conflicts_Over_Social_Media</th>\n",
       "      <th>Addicted_Score</th>\n",
       "      <th>Gender_Male</th>\n",
       "      <th>Academic_Level_High School</th>\n",
       "      <th>Academic_Level_Undergraduate</th>\n",
       "      <th>Country_Albania</th>\n",
       "      <th>...</th>\n",
       "      <th>Most_Used_Platform_Snapchat</th>\n",
       "      <th>Most_Used_Platform_TikTok</th>\n",
       "      <th>Most_Used_Platform_Twitter</th>\n",
       "      <th>Most_Used_Platform_VKontakte</th>\n",
       "      <th>Most_Used_Platform_WeChat</th>\n",
       "      <th>Most_Used_Platform_WhatsApp</th>\n",
       "      <th>Most_Used_Platform_YouTube</th>\n",
       "      <th>Affects_Academic_Performance_Yes</th>\n",
       "      <th>Relationship_Status_In Relationship</th>\n",
       "      <th>Relationship_Status_Single</th>\n",
       "    </tr>\n",
       "  </thead>\n",
       "  <tbody>\n",
       "    <tr>\n",
       "      <th>0</th>\n",
       "      <td>-1.186915</td>\n",
       "      <td>0.223857</td>\n",
       "      <td>-0.327638</td>\n",
       "      <td>-0.205520</td>\n",
       "      <td>0.157063</td>\n",
       "      <td>0.985550</td>\n",
       "      <td>0.0</td>\n",
       "      <td>0.0</td>\n",
       "      <td>1.0</td>\n",
       "      <td>0.0</td>\n",
       "      <td>...</td>\n",
       "      <td>0.0</td>\n",
       "      <td>0.0</td>\n",
       "      <td>0.0</td>\n",
       "      <td>0.0</td>\n",
       "      <td>0.0</td>\n",
       "      <td>0.0</td>\n",
       "      <td>0.0</td>\n",
       "      <td>1.0</td>\n",
       "      <td>1.0</td>\n",
       "      <td>0.0</td>\n",
       "    </tr>\n",
       "    <tr>\n",
       "      <th>1</th>\n",
       "      <td>0.958662</td>\n",
       "      <td>-2.243309</td>\n",
       "      <td>0.560423</td>\n",
       "      <td>1.605628</td>\n",
       "      <td>-2.976790</td>\n",
       "      <td>-2.166958</td>\n",
       "      <td>1.0</td>\n",
       "      <td>0.0</td>\n",
       "      <td>0.0</td>\n",
       "      <td>0.0</td>\n",
       "      <td>...</td>\n",
       "      <td>0.0</td>\n",
       "      <td>0.0</td>\n",
       "      <td>1.0</td>\n",
       "      <td>0.0</td>\n",
       "      <td>0.0</td>\n",
       "      <td>0.0</td>\n",
       "      <td>0.0</td>\n",
       "      <td>0.0</td>\n",
       "      <td>0.0</td>\n",
       "      <td>1.0</td>\n",
       "    </tr>\n",
       "    <tr>\n",
       "      <th>2</th>\n",
       "      <td>-0.471723</td>\n",
       "      <td>0.860545</td>\n",
       "      <td>-1.659730</td>\n",
       "      <td>-1.111095</td>\n",
       "      <td>1.201681</td>\n",
       "      <td>1.616052</td>\n",
       "      <td>0.0</td>\n",
       "      <td>0.0</td>\n",
       "      <td>1.0</td>\n",
       "      <td>0.0</td>\n",
       "      <td>...</td>\n",
       "      <td>0.0</td>\n",
       "      <td>1.0</td>\n",
       "      <td>0.0</td>\n",
       "      <td>0.0</td>\n",
       "      <td>0.0</td>\n",
       "      <td>0.0</td>\n",
       "      <td>0.0</td>\n",
       "      <td>1.0</td>\n",
       "      <td>0.0</td>\n",
       "      <td>0.0</td>\n",
       "    </tr>\n",
       "    <tr>\n",
       "      <th>3</th>\n",
       "      <td>-1.902108</td>\n",
       "      <td>-1.527035</td>\n",
       "      <td>0.116393</td>\n",
       "      <td>0.700054</td>\n",
       "      <td>-1.932172</td>\n",
       "      <td>-1.536456</td>\n",
       "      <td>1.0</td>\n",
       "      <td>1.0</td>\n",
       "      <td>0.0</td>\n",
       "      <td>0.0</td>\n",
       "      <td>...</td>\n",
       "      <td>0.0</td>\n",
       "      <td>0.0</td>\n",
       "      <td>0.0</td>\n",
       "      <td>0.0</td>\n",
       "      <td>0.0</td>\n",
       "      <td>0.0</td>\n",
       "      <td>1.0</td>\n",
       "      <td>0.0</td>\n",
       "      <td>0.0</td>\n",
       "      <td>1.0</td>\n",
       "    </tr>\n",
       "    <tr>\n",
       "      <th>4</th>\n",
       "      <td>0.243470</td>\n",
       "      <td>-0.333245</td>\n",
       "      <td>-0.771668</td>\n",
       "      <td>-0.205520</td>\n",
       "      <td>-0.887554</td>\n",
       "      <td>0.355048</td>\n",
       "      <td>1.0</td>\n",
       "      <td>0.0</td>\n",
       "      <td>0.0</td>\n",
       "      <td>0.0</td>\n",
       "      <td>...</td>\n",
       "      <td>0.0</td>\n",
       "      <td>0.0</td>\n",
       "      <td>0.0</td>\n",
       "      <td>0.0</td>\n",
       "      <td>0.0</td>\n",
       "      <td>0.0</td>\n",
       "      <td>0.0</td>\n",
       "      <td>1.0</td>\n",
       "      <td>1.0</td>\n",
       "      <td>0.0</td>\n",
       "    </tr>\n",
       "  </tbody>\n",
       "</table>\n",
       "<p>5 rows × 132 columns</p>\n",
       "</div>"
      ],
      "text/plain": [
       "        Age  Avg_Daily_Usage_Hours  Sleep_Hours_Per_Night  \\\n",
       "0 -1.186915               0.223857              -0.327638   \n",
       "1  0.958662              -2.243309               0.560423   \n",
       "2 -0.471723               0.860545              -1.659730   \n",
       "3 -1.902108              -1.527035               0.116393   \n",
       "4  0.243470              -0.333245              -0.771668   \n",
       "\n",
       "   Mental_Health_Score  Conflicts_Over_Social_Media  Addicted_Score  \\\n",
       "0            -0.205520                     0.157063        0.985550   \n",
       "1             1.605628                    -2.976790       -2.166958   \n",
       "2            -1.111095                     1.201681        1.616052   \n",
       "3             0.700054                    -1.932172       -1.536456   \n",
       "4            -0.205520                    -0.887554        0.355048   \n",
       "\n",
       "   Gender_Male  Academic_Level_High School  Academic_Level_Undergraduate  \\\n",
       "0          0.0                         0.0                           1.0   \n",
       "1          1.0                         0.0                           0.0   \n",
       "2          0.0                         0.0                           1.0   \n",
       "3          1.0                         1.0                           0.0   \n",
       "4          1.0                         0.0                           0.0   \n",
       "\n",
       "   Country_Albania  ...  Most_Used_Platform_Snapchat  \\\n",
       "0              0.0  ...                          0.0   \n",
       "1              0.0  ...                          0.0   \n",
       "2              0.0  ...                          0.0   \n",
       "3              0.0  ...                          0.0   \n",
       "4              0.0  ...                          0.0   \n",
       "\n",
       "   Most_Used_Platform_TikTok  Most_Used_Platform_Twitter  \\\n",
       "0                        0.0                         0.0   \n",
       "1                        0.0                         1.0   \n",
       "2                        1.0                         0.0   \n",
       "3                        0.0                         0.0   \n",
       "4                        0.0                         0.0   \n",
       "\n",
       "   Most_Used_Platform_VKontakte  Most_Used_Platform_WeChat  \\\n",
       "0                           0.0                        0.0   \n",
       "1                           0.0                        0.0   \n",
       "2                           0.0                        0.0   \n",
       "3                           0.0                        0.0   \n",
       "4                           0.0                        0.0   \n",
       "\n",
       "   Most_Used_Platform_WhatsApp  Most_Used_Platform_YouTube  \\\n",
       "0                          0.0                         0.0   \n",
       "1                          0.0                         0.0   \n",
       "2                          0.0                         0.0   \n",
       "3                          0.0                         1.0   \n",
       "4                          0.0                         0.0   \n",
       "\n",
       "   Affects_Academic_Performance_Yes  Relationship_Status_In Relationship  \\\n",
       "0                               1.0                                  1.0   \n",
       "1                               0.0                                  0.0   \n",
       "2                               1.0                                  0.0   \n",
       "3                               0.0                                  0.0   \n",
       "4                               1.0                                  1.0   \n",
       "\n",
       "   Relationship_Status_Single  \n",
       "0                         0.0  \n",
       "1                         1.0  \n",
       "2                         0.0  \n",
       "3                         1.0  \n",
       "4                         0.0  \n",
       "\n",
       "[5 rows x 132 columns]"
      ]
     },
     "execution_count": 8,
     "metadata": {},
     "output_type": "execute_result"
    }
   ],
   "source": [
    "X_preprocessed.head()"
   ]
  },
  {
   "cell_type": "code",
   "execution_count": 9,
   "id": "64a5d32d",
   "metadata": {},
   "outputs": [],
   "source": [
    "kmeans = KMeans(n_clusters=4, random_state=42)\n",
    "kmeans.fit(X_preprocessed)\n",
    "labels = kmeans.predict(X_preprocessed)"
   ]
  },
  {
   "cell_type": "code",
   "execution_count": 10,
   "id": "a29fb060",
   "metadata": {},
   "outputs": [],
   "source": [
    "pca = PCA(n_components=3)\n",
    "X_pca = pca.fit_transform(X_preprocessed)"
   ]
  },
  {
   "cell_type": "code",
   "execution_count": 11,
   "id": "8edb8e39",
   "metadata": {},
   "outputs": [
    {
     "data": {
      "application/vnd.plotly.v1+json": {
       "config": {
        "plotlyServerURL": "https://plot.ly"
       },
       "data": [
        {
         "hovertemplate": "Cluster=3<br>PC1 (50.9%)=%{x}<br>PC2 (14.0%)=%{y}<br>PC3 (6.1%)=%{z}<extra></extra>",
         "legendgroup": "3",
         "marker": {
          "color": "#636efa",
          "line": {
           "color": "DarkSlateGrey",
           "width": 0.4
          },
          "opacity": 0.75,
          "size": 4,
          "symbol": "circle"
         },
         "mode": "markers",
         "name": "3",
         "scene": "scene",
         "showlegend": true,
         "type": "scatter3d",
         "x": {
          "bdata": "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",
          "dtype": "f8"
         },
         "y": {
          "bdata": "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",
          "dtype": "f8"
         },
         "z": {
          "bdata": "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",
          "dtype": "f8"
         }
        },
        {
         "hovertemplate": "Cluster=4<br>PC1 (50.9%)=%{x}<br>PC2 (14.0%)=%{y}<br>PC3 (6.1%)=%{z}<extra></extra>",
         "legendgroup": "4",
         "marker": {
          "color": "#EF553B",
          "line": {
           "color": "DarkSlateGrey",
           "width": 0.4
          },
          "opacity": 0.75,
          "size": 4,
          "symbol": "circle"
         },
         "mode": "markers",
         "name": "4",
         "scene": "scene",
         "showlegend": true,
         "type": "scatter3d",
         "x": {
          "bdata": "Ib8v+u/BEcDWOngoa5AWwDoobHtnEwXAh7mgF8YbC8An23yddPb6vwJVd3iwExPAXMCA8sx8AcBT7DX1h+oMwJs6Kph6w/+/05RGEqU9AMAGhpkcajwSwIdwUjIfCAHA410QBCUODMCdcYX5g3ADwKphn1m9ZPO/z+feX0oNDsDhq317sY/5vwTHPTbriQvAms0Qj1oY/r9sI87WMU3zv61AJFqQZw3AjJe1RtPN+b8fNxrChBQLwDxM39diRwTAXSAtCLIHEMD1n+dQyxsLwIpKRhCTqf2/ydnOEhPsDMDM6b/ZkMsAwDsHInQU1AnAreA5ZP5TC8Dc+K3LJFYMwOU5p3Nu+gDARi2u35xI9L+yafKGeWENwIg5f15ErgrAann/QLWbDMBfGd/SnBIBwL9tCJwnYvS/aOlj4KJjDMCr86OzMaD4v7ZqXXYqv/+/AU5AnagVAsCLl45vKBgAwKrmUf+7SwTANTCg0TtOAsBQf2Nhz4EGwGhPIEepg/K/LVrACXPz8L9VsEkPUALyv5Zpx1Vi2fS/JpipYktY9b9mUSepXS/4v/d/CbZGrvi/OjmH/FiF+7/IZ2kJQgT8vwYh509U2/6/IReVnU4fAsAoL+DcHpf4v7gxiQwurQnATePNAkOb+7/sfAOwS1UFwHj76I0osvm/T3Bm7L6qCcAlZhNDIaD7v4G74I/cUgXAc2ADoUUD/b/jrkPMT6gJwIujhl1KYf6/Kb8TJdtlCsAa+RQDWTn/vzd7TH1ZwwrAGB7M365LAMB+ixzW5IALwOFIkzK2twDAiUdVLmPeC8Bq6tSQuGYBwNBXJYfumwzAMxWc47/SAcDfE17fbPkMwLy23UHCgQLAIiQuOPi2DcDwV4CJQhkFwCJznIxcggbAoPa5Ftd5BsB3P6U9Zp0HwPXCwsfglAfAyguu7m+4CMBLj8t46q8IwB7Ytp950wnAnVvUKfTKCcBzpL9Qg+4KwPEn3dr95QrAxnDIAY0JDMBF9OWLBwEMwBk90bKWJA3Am8DuPBEcDcBqCdpjoD8OwOyM9+0aNw7AvdXiFKpaD8Cdo99mSaz8vwL30niir/+/TTW2tGfz/r/6/Q2Nl57/v0o88chc4v6/KxRnhItf7L/WR3Lt2vIAwPfmY4u9lADAUcuPd1XqAMB1aoEVOIwAwENFKC/HSPC/KRR7nuQNAsBMs2w8x68BwLkpgDjOVPC/pZeYKF8FAsDKNorGQacBwOvdOZHafvK/feCDT+4oA8BWb2booCgHwGbB75bGIPu/SxCe1w6y/r/bAHsgDaz4vw1/gK0oWva/F/6mm1K6A8CYkaqIPxz9v4DTQ1peq/u/zYA2J6F5BcBHPd8risn8v1K6FkEujvq/zt8nEuHG+b+fMnNzfif5v65GUSItjfu/v5uDuFIv/L9Q4wsP/qb7v6R3jHX7e/y//+QkLriG+b9pc76vLF/1v2BtGqpWqQPAhd61hUdC/r+rvuHbIM/9v6RRNcHfX/m/1Od/eigF+b9Lsr7Y5k/7v1mjt7bXw/q/5phsH/BiBcA=",
          "dtype": "f8"
         },
         "y": {
          "bdata": "BN0LigoR6T8vn7fQMvHzPyHOLdxEyKE/MtDqOue/6z+Q0Z2V83TIP7E60TE5Hv8/KKe7l6B7Pz9US6OYce/0P+KJPCuwtPE/7zJlootCkD9LFsE+QOf/P+UZAjHkF3+/0H2cVUKf8j+jcuwwmILtP6xEnnjjRsE/NyApOmOuAUBBQG9zlNyAPwp5gM6zM/Q/XqZ1wxQK8j9urChugPGpP9YpI+3BAQFAUPD+u9GVyD+/Jr2Lnvz1P0iw9/FjQe0/Ob3doqEd+T9yiX/aky7rP+0OfvSrsMw/WMZ0MfjU+T/uPmhS/pDpP3i6yw8Ba9w/do5uNcnV5z/MwfvOsYHyP33gtANVSPE/Utrr7n+Unz+iGDh0DQz4P+u0VgFEI+U/WB0ERG5n8j+dgZ2XmDTwP4m1CPvwspc/UccnxN3U+T/3TaNTNMbuP2gnlmiMw7k/9WU/Rjalpz9lSwt3B6TsPyUMthKx8oC/2HxcTunl6j/8Nc1nRw+wv5LxPFn9huQ/YWRVynOD9D/inncFRa7kP0X2E5FUu/M/+D4DXRZZ4z9Pxtk8vRDzPwrfjrTnA+I/VZaf6CVm8j8efxoMua7gP2JmZZSOu/E/upXALISB8T+kl0inupDwP8o5ys71zuY/RGCPcNDz8j/QIDzNKAPxP9K9MuL2WPA/z3672I3V5j/EvZZrhPDyP1DDNNJ0BvE/vWDiJVdj7z/Pw6ziJdzmP3ZuXAHBZvI/eCE+DLdz8D91+YoRSITuP4dcVc4W/eU/1Lowdzn38T/VbRKCLwTwPyuSM/04pe0/P/X9uQce5T8xBwXtsYfxP2J0ze9PKe8/5Crc6CnG7D/5jaal+D7kP4xT2WIqGPE/HQ1220BK7j95QexwUrPcP7LZi69SlPA/SQQDyESM2j8QJmAlyyTwP7o1VJ8mztg/1ORoNodq7z8pZ6V2CBDXP419ESJ4i+4/nZj2TepR1T9IFroNaaztPxHKRyXMk9M//a5i+VnN7D+M+5j8rdXRP7VHC+VK7us/+yzq048X0D9s4LPQOw/rP9W8dlbjssw/J3lcvCww6j+XLNCHS2bhP0XTPZr/u+0/SXtHt9808j8KRE8++bLTP0/FeHM8h+A/cXs6EqjV8j/+a+aF8NzsP6LHGy1YxfE/fHWgFdv00T8RvEK+WlDfP1ZGktuRFfA/tASPceH96z8BFPCi0FXxP1xeBxW+6eA/7Kbx7Lw20D+A7ZOVPJLdP2clzaIUTO8/bp03XdIe6z/nm08WZ6n6P0fgDgh+WwNAr6sndu94+z/czuJ7hGL4P9VRdHyaGu8/HbYoX+JHtr96VUb6nuH0Pz1VnwPD3QBAdfxtJQMQ/T87PMa/vEP1PzbUHhVme+0/xFEw786RxT++lINWF/j4P1z3bi9bEJU/seSxdJmtAECy44MaBlADQFVfUwB36Ps/C51xhhFy8j9LXNeuFH6qv9BFRdwZ2+w/+hArj36K+T9N/fIXfEoDQG5iqEFSHv0/aYYV7Yvhp7+IIN5H+S7yPz36OF5oDgNAV6P7TGLUAEA=",
          "dtype": "f8"
         },
         "z": {
          "bdata": "bC5R0tBFwr/Oj+cLe5GyP+VxnmM7nvG/nquaAruMiz+moYEBw2Hvv2XUANiPe88/Duyf8Av5yr/YGMvV9wPuv3SmLMbEjee/wT//dckI0b+gdFT36bKwPx43/1u1Oci/xgq6QpGqrD91Db2lhvWwPxr0wJSR0uG/sil3/Y33579Epv1h8eaGv7WR2sxfaOG/PxjxkKiR6r+6ZTe1/yejvyUQEdWwcNK/3bMOrTST8b8dsdzWMs7xv9qJMA4m7cs/Tp/OxukF7L9WLoA1js2VP6N4+54Ga+6/XvJj7HvA678qPkrlNJ7nv8T6gModK/O/bR/FZcu/8b/a17+/JaG4P7AU3ZiD8eS/aW8vmJMRhz+wQwoX7BjTv0OdmzhhwOS/G8Ed2YkovD9cbqH9O9fEv5q/NMjbwKk/eY41DAdm7b/RNnqOn5nXP/4VGB+wlO+/3iG30ayv6L+gvQIxnnrjP70tVoSpyuG/x7FjfqFf6j8nc+ptTMvVv/9AtJJtqO2/Rb8o7GzO7b8InSKTEWnsv75BtS8Mgua/V8uaiFBl5r8OcC0lS37gv6f5En6PYeC/tjxLNRT11L/kTxbnnLvUv5Iyd0Ak28G/snCz38IJ478xBWXD/dvOP4LRp6vNWM8/WcMzGXNB5r8TXC/4a5Xov6j8YoiA4NI/FWeradP4yz/GqLSIdGnlv612rohqbem/3Gp0fAU43T++/K4n2ZjIP3mdl8BRhuG/MFKIUYzy7L+Br+pkhA7iP3pyOOFvMdM/zUbOM6An3L8d2NeqCoDpv5QpmwsGgeU/nmaZLnMW2j+wUm3mnELVvw9eJwSJDea/pqNLsofz6D9lLf09u33gPwS9GDIzu8y/+ON2XQeb4r+XRtcqixLrv+YF6VeEA+a/TTu6Ymgv57/YizixApHivz3BCbzmvOO/eyMQFQI93r8pR1kVZUrgv2Evr8f+V9e/MJpR3cav2b8tO056+3LQv/Cl8I/DytK//o3aWfAbw7+aYx+FgMvHvw+XYvymR6W/r/a61PMCtL8+hVK3OfCwPyJoI4NlRJ4/4yprdiNCxj/6U0vWdOrlv1oqNjSf0eM/gqTJJA9M4b/y9GQpu6XiP+zZmi/zd+K/TYMbYwYlvb9qpObaIETnP+ZUMvwas9u/A28V0DwY5j+0v9QR4wrev8FAerd3IrY/gh6XgaK26j+8YNGuF87UvyS8Qggz4KW/GOnFdr6K6T+Ly3PE3yXXv5wIf3ZC28g/k5hHKCQp7j8Ul+lrZInkvzG2lWu7S+S/DFEsRS9n4b/qx0oNmyHkvx4uPbY6Y/C/dlN30DdZsD+8rRg46tTivwLi6PWSHOi/8IoQ+Nr80T+aMauY8o/jv/2yBA3N5uy/ZyxiXLlq7L8oNgsqbY/sv8H3ofnRvOa/z/NBHbVY5r+QP6jaGLPkvx3L3Ouw2eS/YJrZpOyA67818UxX3HHwv4qDNzlQqb0/9Sw5EpNX3r/P3g7z+QDkvwnvKYx+Uem/6lCwT1jJ8L+OPQbK1b7nv4ny3rvjb+e/rySkLWlx1j8=",
          "dtype": "f8"
         }
        },
        {
         "hovertemplate": "Cluster=2<br>PC1 (50.9%)=%{x}<br>PC2 (14.0%)=%{y}<br>PC3 (6.1%)=%{z}<extra></extra>",
         "legendgroup": "2",
         "marker": {
          "color": "#00cc96",
          "line": {
           "color": "DarkSlateGrey",
           "width": 0.4
          },
          "opacity": 0.75,
          "size": 4,
          "symbol": "circle"
         },
         "mode": "markers",
         "name": "2",
         "scene": "scene",
         "showlegend": true,
         "type": "scatter3d",
         "x": {
          "bdata": "JWhwAGQQCEB/Y5QI8r0RQEI6N/J1mQhAwK0yoNJC+j9EVihn+yUDQC9sSRM3jgNADGzEnG+cB0BWUt2OXH4EQB/t+jQ1qgNADTy9rasDA0DhR/WvYCIIQNA27lHM8ANAUo0G4RtBBEAmNWuZFnMCQFm6C3fOLAhA9Z8bhJJsA0DVqPUdrM4EQJ6O78rN3QFAZW+gIyok/j/NaxYDmXYLQEMmngOE+wNAPvuTAer/AkAdjGtgVbMDQLNg30evWQNAKMUyBKOsB0BKMnJ7ChsEQAc508xkbgJATcn9/WhwB0CjHMHG2nECQIqi27gaPwRAXDJiUe+9AUAG8fTuE48GQFzH1DgYBQRATS3W3NQ+AkACt9LrodoBQELKT1+zM/8/cSBZnXXAAUBh3ivVdJMAQOg8c+TEZABAP4zh5Ls7/D8XxmZJro77P/tcnT7ly/w/sIYtPBZ++T+l7nOMAxP/P1eT89DHdvk/PR1WmeyR/z8aA66mrjf7Pz/r6W9/NAFALOjMQmyg+j+HAlv283MBQPJXhxhTYfw/J9+ZGX3fAkAEPaa0EMr7P3H2CqDxHgNAyKxgiveK/T8Q00nDeooEQNaRfya18/w/V+q6Se/JBECaATr8m7T+P/jG+Wx4NQZAr+ZYmFkd/j8A3jHnTNMGQEbXtGFPPgxAHhCpqlMkC0C2mNeBvkAMQIvRy8rCJgtAXbWY6Re4C0A37owyHJ4KQCpJ7OURAAxAtCAavKpGDECAFfWWGxsNQAftIm20YQ1AzuH9RyU2DkBauSsevnwOQOhvQH59Hf4/BuRVHbG8CEDMgAvmTTIAQN5iLbzWdwlARwQpcMgpAEBZsF7OutcJQB9NFJdXTQFAMC82beCSCkCe0DEh0kQBQK18Z3/E8gpAcRkdSGFoAkCC+z4e6q0LQPGcOtLbXwJAAUlwMM4NDEDE5SX5aoMDQNfHR8/zyAxAQWlDg+V6A0BUFXnh1ygNQBmyLqp0ngRAKpRQgP3jDUCWNUw075UEQKbhgZLhQw5Aa343W365BUB/YFkxB/8OQB8CULagYvc/6wFV5fiwBUD8rYpD614PQBcJi8qVUfc/wUpADIjUBkBpFjFxCA0QQMeaYRi0mPk/P85dlgLMBkAnvUl6+jwQQMChnCyph/k/ExdJvZHvB0CRfLVJjZoQQGwzc3rHzvs/kppmRwznB0BQI85Sf8oQQGg6ro68vfs/ZuNRbpsKCUC84jkiEigRQA/MhNzaBP4/Uu5QKpMkAkCvayqbfk0FQCg3PFEiSANALe9HJflEBUCmulnbnD8DQAI4M0yIaAZAewNFAixjBEB/u1DWAmAGQPqGYoymWgRAVgQ8/ZGDB0DQz02zNX4FQNWHWYcMewdATVNrPbB1BUCo0ESum54IQIboojo5qg1AfRmVJTKiAUAigI5r3dwBQB1CGHbi1QFA7/rwHFQtBEDL4xoewVQAQLj80MXLFQFAV1+jzReVD0CzmJlSKE8EQM4XbuSvBQJAjPtNQp+bAkBbGoLJ8MwHQOcItnAofv8/nqEfph9YAUD5pmQ6JbkOQP+Fszu+nQNAua6n63TNA0DpoggYf+D/P0RJoaEimwxAEJY+9rXgAUDgAn418N8CQGg10DjV4AxACd5x4BsBAkBvBHFnMn4BQFngMT+FMgFAGn0d22AMDkDKMq4r0Zf+P2Hsmq2n2ABAtrsCm9tQEECnpUEWVLoDQJpH2bbNCQFA2u8S5rVOAUDdd7ohuosOQMd3W+idQABAaIVRY0ihAEATGYHjAa0PQL69dw6jowNAwWssarzlA0ClH36401IAQNlrnQy/hQtA7vG04ZdbAUAGce9hJ6oCQB8QSjMtOg5AwFmP5MZfAkAwOA6DaKD+P11s9Vs7VwFAWkxorCDSDECgwEYPLWQBQBRouLFSNwFAVSm3VYH9D0BBOlqEKKwDQAjULfEcdAJAJpxgLllbAEAkfNN+PtYLQMU6oAgnfwJA",
          "dtype": "f8"
         },
         "y": {
          "bdata": "nt4Gk6Ci2L+FS/dpMirvv49fp+oFJ/e/uUAFaW476r9TRlNoWKHyv1NMAdmA3OC/6hGZtE7V6b+Mat/OXYbqvx1Lb+/mDPG/KjCd1CHS278bzkdEe7Xlv34rEPIF9uq/YIUiRbAx8r84zmIf0bvhv3XG0oWirui/6CHY4+ge7r/oJIoz3PnxvzFl04PcIOK/SXzZ+eyu8b+O1XKT+Pf0v/EcMEkM4eO/VthEVblv8r9eSFcdLJTkv5mOqy442dy/GbiUx7R89r9kFxQyEQDyv11tWvI73de/S/fXuZXz978Hl++rDOPDv+YVWSgz8O2/pNuivW57zj8Z7B3Fh1nYv3C8D898yPi/6qBGXxwAwL86jfBJLQnbv9g5MBNK3Os/vtIPV3+n7D8Cd+ZHCGryv2ErUOhCsO6/vKlsQbVy2T8LP5FHMx/jv30hsKAJ1uO/Z7gJ8S8s6j+ydbfDvmzzv9I5AYDxDfc/4z1Kwuq74r9htxdjj+rqP75FfW8nwvK/KPsAVJlP9z/13dUZvGbhvwU6Fwvfbes/xxVDG5AX8r97vAAoQZH3Pwt+YXGNEeC/rrwWsy7x6z/R5QjH+Gzxv899APzo0vc/PTzakb143b9WPxZbfnTsP9i1znJhwvC/IT8A0JAU+D9Vo/SLj/XzvxMLs5qKa+u/w3pEoqwH878TxsGQ8mTrv0LYS51gBPO/tu8KB0rH678VbXBYjDXzv2Fz/Dw6jOu/oN8uCUGO8r8bDKUoK63qv/srA3+5HvK/0qRNFBzO6b9YeNf0Ma/xv2OAfh3UqPg/HWyjKTxn0b/ONj5UNE7uP55PG/Qu3e+/CDSqp1sY+T8VO+kBPFLPvxWelWhDLe8/WejD3x/+7r+p59Ux44f5P/qdi7D/1cu/roJ2PikG8D8OgWzLEB/uv0+bAbxq9/k/3gAuX8NZyL9TNqLIsHXwP8cZFbcBQO2/8U4tRvJm+j+9Y9ANh93Ev/XpzVI45fA/g7K9ovJg7L+WAlnQedb6P6HGcrxKYcG/mJ353L9U8T85S2aO44Hrv+KiPaz03uk/N7aEWgFG+z8BUyrWHMq7vxHqqdO74PY/PlElZ0fE8T/x4w561KLqvysKlcADvuo/3Gmw5Ii1+z/LGG8zpNG0v7Wd1V1DUPc/4wRR8c4z8j+qfLdlxcPpv3Fx7NQSnes/gR3cbhAl/D8fvWchV7Krv1lRAejKv/c/hLh8e1aj8j9jFWBRtuTov7jYQ+khfOw/FvpIitc/4L9S7VAw3Fbqv//hg7ilofG/hPDq1GTRyb+dJePrkMHevwqG+RvNd+m/Wy5YLh4y8b9oU42DKFXGvw1XNMNyA92/xh6iB76Y6L+3eiyklsLwv0i2LzLs2MK/foiFmlRF2799t0rzrrnnv2Dp6S5GCfg/HnbXp4qhBECv7D+WJvD1PzMmbwPW364/0Ff2h33D479Wi6qxHir/P9eOYvE8PgRArtMFyHjM8b/GHDwrxWTAP4/MxBW/nOC/XCtXzGyJzb9oSfEGHzbtv9XljssKCfg/Z+AsWL0e8D95Z+NdtVrhPzLuMB7Y1My/aE5FiSj/6b/5lmsSxPj5PxD92kYFfPA/vgPe+5Vw1j8Y3KiB6SXQv85SBgCmVANAjTlyi0/7+D9NZK883TnxP5KPF+dB2dY/RTcknNmF0L9leB2Qrd0BQKUS7wV/Tfo/qI9CJMrR5b9Ps1UKb+3RPzZ3G/EmnvU/lGMR6lgBuT/QlgeUtXPyv2Q6VsEmuP4/6mz6C6NeBECxRfLMwpbXv21j3fOxZX2/Nklqzl3z8b+3854KnHz/P29iJxbhQwRAhpDLhbpg4b9GfVRpNjirP7Rl+PhVRPg/8cEC5Zix/T99DXhOr2wEQMwE1N1XwuC//52h+ULwqD9m1fbNbDb1Pwubf1/IA/8/tNeAl9Ry778D7P1eTh3kv0WLGSccVrY/F9sTjVqL9T9t6sqTCLT+PzktRTYXMvK/",
          "dtype": "f8"
         },
         "z": {
          "bdata": "b/emGyIn3b8845EHAwbdv0kTgYtPMsg/p0UqtBEu6r8Yhh5AtojVP/LIn7JEL9M/1fbOU+nt0r8YWx3b8srWv6be7YFb3dC/6Kgw0KPhvr9OQnIC77LtvyQsLY0iVtO/d1B8SCs+zT/QJoBO5RjaP9X19jLJA9i/lTjfNO8P0z+c8pusilTGP1evTOu1rdw/25H+BRxe778fp2JrBwLDP+i6OGitAOq/fHFzCCzizD/Z6306SlTQP1x4NW4V4se/Z6nD6o5K2r+Ya2Wh1R2+P4lCUGvORuS/dw1gHxcRwz9KyWSO1Orlv67j80Jwn+6/Vw/ABEbX4r+OHTvLgrnUvwDD5kROIcc/biF+2SY+zr91qYTiqmPmPwcZG0JNG+o/SqhbQKXo3L+Rw/OyKWnevyb6VC93/+c/vRkQCSvEwL/d7L23sqnFvzHhmhDmzNg/B4re/oFa2796BC9bNSDPP52JOCu0Yty/vyrFvkatzj+tfTA2HTfjv8j2PsTERKw/ptFxmpZy4r/wj5dSCnmqP4EKBrtZeOe/HYkP+dL9wL94Xkcf07Pmv7JieZXBcMG/UJfbP5a567/sZ5eRa4bUv0jrHKQP9eq/vVTM3+K/1L8gJLHE0vrvv6mFU9P2RuC/E3jyKEw277+8Q8z7H8jVP3q9k2n3VOe/YCZj32762T8Q2BL69Szovy/xZL5xStg/OtC4R7Ij6L/eABkj+VzYPwt8pPlRbOm/UiUPXugKzD8f9lSg097svwN6mobDgbw/FLiCo6oo8L8xNNUiyrZtP0uYPI50tcu/2PxQ5hkc7L8WqyGqhRfXv+wcvgLkNvC/TUB/lL2/1L/hdgGNm47vvzufgveI/N2/9FkW1iTw8b90NODhwKTbv3v42JmOgPG/s8lxIsZw4r//lm6pZanzv06UoBfiROG/gzUxbc8587/HQyLJR+PlvwfUxnymYvW/Xw5RvmO35L+McolAEPP0v9690m/JVem/DhEfUOcb9793iAFl5Snov5Wv4RNRrPa/7DeDFkvI7L8ZTncjKNX4v2F46ULNDsG/hAKyC2ec67+h7DnnkWX4vzhFSS96vri/+9iZXmYd8L8ji8/2aI76v4tgq93T2M6/kXxisugO77+oKZK60h76v+aKZrJDKcq/BRbyMafW8b8pyCfKqUf8v2ykNjxtUda/UnuJLLVA8b+0ZuqNE9j7v5w5lCal+dO/DlNKBeiP878xBYCd6gD+v4+Yl4lwNt2/ZRqsKIGs278sX0x23N/uv6u810WmdOK/ySl7a/iz7b9KhwY7wkjhv59sfg4vKfG/vjaI7Cfn5b/t0RUJPZPwv18Bt+FDu+S/qqnW4W/i8r/SsDiTqVnpv/YObtx9TPK/a3tniMUt6L+w5i61sJv0v552fscH/Ow/Vxhto+al8D9pwieUzyDnP1o1wd8/Kec/RiY7kdll2z9wOWFQ84XtPyvdfnZC3vA/2/ko6gJq4j/TwZzodnHiP1oOia8ByOA/J2w+LmxD4T+YT6euWiziPwzokSVb++8/2dalCtbh6z9ZwbfyhS/mP/sM21y90eQ/bN3xikRV2T8SuR+TipvvP9ObgnriCvE/YDWUi0IP6T9qOUZXHSjiP/8fajHhLvE//rdRLnkw6z9joUkrKC/mP9isLAFzUuY/PKNJnwO/7D+fvGjJNILxP0BAK4sDZOo/RBdEn1Ge4j/Dd6omGJHkP7KQ7IixSuk/u2VLY4QU4z/uY1aml5/nP+8Tww52iPA/utMy0s867j+iaI8Uz5HkP+aq4AvRVuI/VTPNzWLF3D8V6K48NJfrP7L0EOYqDfU/Hmet22D/4j/5qvGksXzlP/8ep2PIauo/D9kvlyAi7D9M2UsMHmfwP1gwelig6OE/2oUBNiIj7z9reARshnLsP0thCfSqVes/bIfSV0sd4j9/dQ8B7SrhP8APpkScneQ/rbLdMVBr6j8ZhLIH6dLzP0lvV1T2wdw/",
          "dtype": "f8"
         }
        },
        {
         "hovertemplate": "Cluster=1<br>PC1 (50.9%)=%{x}<br>PC2 (14.0%)=%{y}<br>PC3 (6.1%)=%{z}<extra></extra>",
         "legendgroup": "1",
         "marker": {
          "color": "#ab63fa",
          "line": {
           "color": "DarkSlateGrey",
           "width": 0.4
          },
          "opacity": 0.75,
          "size": 4,
          "symbol": "circle"
         },
         "mode": "markers",
         "name": "1",
         "scene": "scene",
         "showlegend": true,
         "type": "scatter3d",
         "x": {
          "bdata": "vVWgqc4LBMBNid8mgbH6v8JHxZSQOPK/ewSkE7BK879Rb6RW1Hbzv3zDbKUBkfq/+GWVtw8P+b9vGOwIHDYAwM/HlHcpK/m/GLH9ai9sAsAc+bc7UJf9v75JD81CogTANpXtf7sBAcDTp5vGNovxv6iIwAU98vS/N7eiEiZx9b95cCBZOEj4vwufAmYhx/i/S1iArDOe+7/chmK5HB38vx5A4P8u9P6/qW7CDBhz/7/1E6ApFSUBwFXFwcIkJP+/9tW0bCmfCsARWsz0OW33v9/gmv3DtwvA/4Lvs04I97+JFJJMupwKwCtmHEs8wvW/SaK9HTO6C8AS9Fkdbq74v9HactJCjQzAoRT6zoQp+r/+QPeqxxoNwL8nUWxkk/e/JKd7g0yoDcBNSPEdew75v00NAFzRNQ7AZ8BiznfJ+b98c4Q0VsMOwPPgAoCORPu/ptkIDdtQD8APWXQwi//7v88/jeVf3g/AnHkU4qF6/b/70ghf8jUQwLTxhZKeNf6/t/dhpHrsA8CnlcDqyvD3v+sSfqeUVQXAVCeXOOk3+r9olpsxD00FwFEu0kzeJvq/uuCuCdgG278934ZYnnAGwPm/qJr8bfy/vmKk4hhoBsD2xuOu8Vz8v6mh+siS7+G/k6uPCaiLB8CiWLr8D6T+vw8vrZMigwfAoF/1EAWT/r/60h2NuVvmv+h3mLqxpgjAovhlrxFtAMBTznsIUEjpv2T7tUQsngjAHnyDOYxkAMBIBEFR4MfqvzpEoWu7wQnA98RuYBuIAcCm/57MdrTtv7rHvvU1uQnAdEiM6pV/AcCaNWQVBzTvv5AQqhzF3ArASpF3ESWjAsB6GGHIThDxvwqUx6Y/1ArAxhSVm5+aAsB2s8PsFtDxv+Hcss3O9wvAn12Awi6+A8AhsXIqYkbzv2Bg0FdJ7wvAHOGdTKm1A8AeTNVOKgb0vzepu37YEg3A8SmJczjZBMDHSYSMdXz1v7Qs2QhTCg3Aba2m/bLQBMDE5OawPTz2v4t1xC/iLQ7ARPaRJEL0BcDqjERRdcIFwGtGTlOGUQXAQVlNAn/dBsC83GqM+dQGwJUlVrOI+AfAEalzPQPwB8Dn8V5kkhMJwNJqsI5EDfy/M0EExhRK9r+LqRByTtQBwGsKlduMZf2/LwD09s48+b++7TURC9j4v1rSgOhErfW/h2VtKtAk979YqtU4d4j1v8w+ASq/uAHAI5zhPt3B+L9wzsx7zjv1vy2dhXx0rQLAcqV6yG8U+r8kXeRA/6z2v78HPxYqNPa/bNUHkMMq9b/gjE8K9VwCwBrgrCtb6Pi/Z3r5wyFO9b8=",
          "dtype": "f8"
         },
         "y": {
          "bdata": "fqOhrXI1+b8bY77zAAj4v7/p46bjTd6/iYRuLvH53r+gH672mN/yv+lWOQVWF/q/RJAgpVQK5L/5zjRbHKDsvzBUaMWva/S/iJ3jgzpe7r92u7/Zvkr1vww2SVYsDvC/vSIX7s0p9r/P5Z6Z/gb3v1f6m+CogOu/7lPg0h3P979EWhCJ19Xsv+KDGie1efi/MLqEMQYr7r/as1R7TCT5vxka+dk0gO+/z+OOz+PO+b8EvTbBsWrwv6ctlLd4XPG/an1jb8xb+7++Duqb05bmv46OlvQHyPu/Qv75qIWF8L/p2mpqgFj7v8fer0c87OW/EDGP+VPL+7+8cx5Ohdfwv4ams55THfy/VmhtZsKj579agMljF1X8v+mZCInBn/C/LVrfKNuM/L+xtEHcOjTnv/0z9e2exPy/j000E0kP8b/PDQuzYvz8v/kbmfBJE+i/oecgeCY0/b8yAWCd0H7xv3XBNj3qa/2/QIPwBFny6L9Gm0wCrqP9v9W0iydY7vG/EOKHjdKX/L+mGJsEzdn3v8MYN3pUMPO/YWd3Iiaw7L9dMcL3lSH9v0zMxo5USfi/AYZexQPD+b9ozGIE3J/zv6vOzjY1j+2//eTtgR2R/b/wf/IY3Lj4v6Y5ik+LMvq/C4COjmMP9L/xNSZLRG7uv6WYGQylAP6/kDMeo2Mo+b9I7bXZEqL6v64zuhjrfvS/Op19X1NN778FQSLUlBruv0hMRZYscP6/NOdJLeuX+b/toOFjmhH7v1Tn5aJy7vS/P4LqOTEW8L9KqHnoo/nuv+r/cCC03/6/2Zp1t3IH+r+QVA3uIYH7v/OaES36XfW/5DUWxLiF8L+ND9H8stjvv4+znKo7T/+/fU6hQfp2+r8yCDl4qfD7v5ZOPbeBzfW/hOlBTkD18L9rO5QI4VvwvzFnyDTDvv+/IALNy4Hm+r/Xu2QCMWD8vzwCaUEJPfa/KZ1t2Mdk8b8M77+SaMvwv2sNel8lFwDAxbX4VQlW+797b5CMuM/8v921lMuQrPa/zFCZYk/U8b/TFGdYWD/zv5XFrFmLHfu/eMiS4t+u878Q4R1gIaD9vxt8vmxnHvS/spRJ6qgP/r++L+r27o30v2TULTV3mtK/v1glPc3L978vgDprhyH5v1OZoscuZ9K/q4WpJcbm6r/1L1rotwrbv8EDlcyXJPK/3Zt6+aCN2L9LeO0AOM7yv/rwv+wtgvS/ZGDHjQFR2L+DHLov+LbqvyV1thvz/e6/+MY4FQOUz7/IKVPQBzL0v+hFVrQLF+e/2SZolb1M978DFV8ms1L5v1evODb8V+u/AqcDRmSK5b8=",
          "dtype": "f8"
         },
         "z": {
          "bdata": "nOfcaZZc0r8kGkFvnnPev31CVn2mueS/gpvIZnu74r+J+bfhVhbDv9XCR8hJedG/x6BxzEkSxD9mxWEFCWfwv6133otLd9A/qZZivQ7p6b/pX6AmUkHeP4KiAXALBOO/ISSxYKwF5j/BwbAAZavTvz3O+ldrMLW/0honH45KtL9pv0P8nO26P9NyFzV607s/QpMgVOnC0j8agFWiYPzSP6M2MGlryt4/diNlt+ID3z8J7R+/9mjlP1fic1+N7mK/s7dSoYNa07/f33m0lC3xv5Hx3+n6Ssy/6kCXVbftqT/o7FDCgArVv0vUG/eErvK/OofjpwDryL+OEvJQ60W+Py1O0NR4Q8C/C89VMQVQ77/ls94O67yyvy4qMLbke7A/wi5z0JHLk78LBlcCo4Twvy85Sk1ErqE/ZP3Z9fgHxj+3BGfBKKG2PwaS/V3Elu2/gHYUrpc1wj/U8k3I/+jRP+BqdfuaGsk/8RdNt0Ik6r/0XtZInv/PP/nmrhUDztg/tRQRcn+xtT/rM0BdOXjwvweNwQTbFM8/Y7j+CA1S7L9tt3zZSmXKP8TtzxPxfe2/tNMXm2En4D+iusHPcG/WP00+TmKL3+i/5k8fuqgX1D+zcx9tbwvqv8RNyEHjmeM/za4iHXRU3T8+xJ27CW3lvwZEgAes/No/pfluxu2Y5r/Zx3joZAznP3bRQbW7HOI/LkrtFIj64b/XBKQHE17rPxiccKrX8OA/iX++H2wm47/oQSmP5n7qP5ZL8ls9j+U/KaB53AwQ3b/sflSulNDuPzIWIVFZY+Q/8woc8tRn37/2u9k1aPHtP6nFogK/Aek/B6wYjwkr1r9/fIIqiyHxPz2Q0ffa1ec/xha7pNGC2L8GG0Xu9LHwP7s/U6lAdOw/kW9vgwyMzr+Judr9y9ryP1gKgp5cSOs/myJaV86d0b8VWJ3BNWvyP825A1DC5u8/T4et6AXCwL+Z9jLRDJT0P2eEMkXeuu4/6VzyE5Zxxb8blfWUdiT0P/AZWvuhrPE/PPhcb/q/l7+50dxsuHPUPxaCjTKBgtE/5cU9urtY2z8cW5uk8wDZPwNdz4PfHuE/NE/88fbl3z8i138qYZHkP8VA2bMQPOi/Xzahbc8gw7/S600FNS3Nv8TbJ4849eW/ix54Cn/E7r/gdjLpRsLuvxcfRDrvcPG/P/oJ8+TO8L/TF3PrVYDxvxKNHx4NBMu/epLzDyau8L8srCUE2D/yv5pH8kgXNsO/4ZIwCfsg679Yw9ktfa7zv/s2518ohfC/3kaOCcrV8r9tzOU7JgjNv1IFWucfBu6/54u1XM4H8b8=",
          "dtype": "f8"
         }
        }
       ],
       "layout": {
        "legend": {
         "title": {
          "text": "Clusters"
         },
         "tracegroupgap": 0
        },
        "margin": {
         "b": 0,
         "l": 0,
         "r": 0,
         "t": 40
        },
        "scene": {
         "domain": {
          "x": [
           0,
           1
          ],
          "y": [
           0,
           1
          ]
         },
         "xaxis": {
          "title": {
           "text": "PC1 (50.9%)"
          }
         },
         "yaxis": {
          "title": {
           "text": "PC2 (14.0%)"
          }
         },
         "zaxis": {
          "title": {
           "text": "PC3 (6.1%)"
          }
         }
        },
        "template": {
         "data": {
          "bar": [
           {
            "error_x": {
             "color": "#2a3f5f"
            },
            "error_y": {
             "color": "#2a3f5f"
            },
            "marker": {
             "line": {
              "color": "#E5ECF6",
              "width": 0.5
             },
             "pattern": {
              "fillmode": "overlay",
              "size": 10,
              "solidity": 0.2
             }
            },
            "type": "bar"
           }
          ],
          "barpolar": [
           {
            "marker": {
             "line": {
              "color": "#E5ECF6",
              "width": 0.5
             },
             "pattern": {
              "fillmode": "overlay",
              "size": 10,
              "solidity": 0.2
             }
            },
            "type": "barpolar"
           }
          ],
          "carpet": [
           {
            "aaxis": {
             "endlinecolor": "#2a3f5f",
             "gridcolor": "white",
             "linecolor": "white",
             "minorgridcolor": "white",
             "startlinecolor": "#2a3f5f"
            },
            "baxis": {
             "endlinecolor": "#2a3f5f",
             "gridcolor": "white",
             "linecolor": "white",
             "minorgridcolor": "white",
             "startlinecolor": "#2a3f5f"
            },
            "type": "carpet"
           }
          ],
          "choropleth": [
           {
            "colorbar": {
             "outlinewidth": 0,
             "ticks": ""
            },
            "type": "choropleth"
           }
          ],
          "contour": [
           {
            "colorbar": {
             "outlinewidth": 0,
             "ticks": ""
            },
            "colorscale": [
             [
              0,
              "#0d0887"
             ],
             [
              0.1111111111111111,
              "#46039f"
             ],
             [
              0.2222222222222222,
              "#7201a8"
             ],
             [
              0.3333333333333333,
              "#9c179e"
             ],
             [
              0.4444444444444444,
              "#bd3786"
             ],
             [
              0.5555555555555556,
              "#d8576b"
             ],
             [
              0.6666666666666666,
              "#ed7953"
             ],
             [
              0.7777777777777778,
              "#fb9f3a"
             ],
             [
              0.8888888888888888,
              "#fdca26"
             ],
             [
              1,
              "#f0f921"
             ]
            ],
            "type": "contour"
           }
          ],
          "contourcarpet": [
           {
            "colorbar": {
             "outlinewidth": 0,
             "ticks": ""
            },
            "type": "contourcarpet"
           }
          ],
          "heatmap": [
           {
            "colorbar": {
             "outlinewidth": 0,
             "ticks": ""
            },
            "colorscale": [
             [
              0,
              "#0d0887"
             ],
             [
              0.1111111111111111,
              "#46039f"
             ],
             [
              0.2222222222222222,
              "#7201a8"
             ],
             [
              0.3333333333333333,
              "#9c179e"
             ],
             [
              0.4444444444444444,
              "#bd3786"
             ],
             [
              0.5555555555555556,
              "#d8576b"
             ],
             [
              0.6666666666666666,
              "#ed7953"
             ],
             [
              0.7777777777777778,
              "#fb9f3a"
             ],
             [
              0.8888888888888888,
              "#fdca26"
             ],
             [
              1,
              "#f0f921"
             ]
            ],
            "type": "heatmap"
           }
          ],
          "histogram": [
           {
            "marker": {
             "pattern": {
              "fillmode": "overlay",
              "size": 10,
              "solidity": 0.2
             }
            },
            "type": "histogram"
           }
          ],
          "histogram2d": [
           {
            "colorbar": {
             "outlinewidth": 0,
             "ticks": ""
            },
            "colorscale": [
             [
              0,
              "#0d0887"
             ],
             [
              0.1111111111111111,
              "#46039f"
             ],
             [
              0.2222222222222222,
              "#7201a8"
             ],
             [
              0.3333333333333333,
              "#9c179e"
             ],
             [
              0.4444444444444444,
              "#bd3786"
             ],
             [
              0.5555555555555556,
              "#d8576b"
             ],
             [
              0.6666666666666666,
              "#ed7953"
             ],
             [
              0.7777777777777778,
              "#fb9f3a"
             ],
             [
              0.8888888888888888,
              "#fdca26"
             ],
             [
              1,
              "#f0f921"
             ]
            ],
            "type": "histogram2d"
           }
          ],
          "histogram2dcontour": [
           {
            "colorbar": {
             "outlinewidth": 0,
             "ticks": ""
            },
            "colorscale": [
             [
              0,
              "#0d0887"
             ],
             [
              0.1111111111111111,
              "#46039f"
             ],
             [
              0.2222222222222222,
              "#7201a8"
             ],
             [
              0.3333333333333333,
              "#9c179e"
             ],
             [
              0.4444444444444444,
              "#bd3786"
             ],
             [
              0.5555555555555556,
              "#d8576b"
             ],
             [
              0.6666666666666666,
              "#ed7953"
             ],
             [
              0.7777777777777778,
              "#fb9f3a"
             ],
             [
              0.8888888888888888,
              "#fdca26"
             ],
             [
              1,
              "#f0f921"
             ]
            ],
            "type": "histogram2dcontour"
           }
          ],
          "mesh3d": [
           {
            "colorbar": {
             "outlinewidth": 0,
             "ticks": ""
            },
            "type": "mesh3d"
           }
          ],
          "parcoords": [
           {
            "line": {
             "colorbar": {
              "outlinewidth": 0,
              "ticks": ""
             }
            },
            "type": "parcoords"
           }
          ],
          "pie": [
           {
            "automargin": true,
            "type": "pie"
           }
          ],
          "scatter": [
           {
            "fillpattern": {
             "fillmode": "overlay",
             "size": 10,
             "solidity": 0.2
            },
            "type": "scatter"
           }
          ],
          "scatter3d": [
           {
            "line": {
             "colorbar": {
              "outlinewidth": 0,
              "ticks": ""
             }
            },
            "marker": {
             "colorbar": {
              "outlinewidth": 0,
              "ticks": ""
             }
            },
            "type": "scatter3d"
           }
          ],
          "scattercarpet": [
           {
            "marker": {
             "colorbar": {
              "outlinewidth": 0,
              "ticks": ""
             }
            },
            "type": "scattercarpet"
           }
          ],
          "scattergeo": [
           {
            "marker": {
             "colorbar": {
              "outlinewidth": 0,
              "ticks": ""
             }
            },
            "type": "scattergeo"
           }
          ],
          "scattergl": [
           {
            "marker": {
             "colorbar": {
              "outlinewidth": 0,
              "ticks": ""
             }
            },
            "type": "scattergl"
           }
          ],
          "scattermap": [
           {
            "marker": {
             "colorbar": {
              "outlinewidth": 0,
              "ticks": ""
             }
            },
            "type": "scattermap"
           }
          ],
          "scattermapbox": [
           {
            "marker": {
             "colorbar": {
              "outlinewidth": 0,
              "ticks": ""
             }
            },
            "type": "scattermapbox"
           }
          ],
          "scatterpolar": [
           {
            "marker": {
             "colorbar": {
              "outlinewidth": 0,
              "ticks": ""
             }
            },
            "type": "scatterpolar"
           }
          ],
          "scatterpolargl": [
           {
            "marker": {
             "colorbar": {
              "outlinewidth": 0,
              "ticks": ""
             }
            },
            "type": "scatterpolargl"
           }
          ],
          "scatterternary": [
           {
            "marker": {
             "colorbar": {
              "outlinewidth": 0,
              "ticks": ""
             }
            },
            "type": "scatterternary"
           }
          ],
          "surface": [
           {
            "colorbar": {
             "outlinewidth": 0,
             "ticks": ""
            },
            "colorscale": [
             [
              0,
              "#0d0887"
             ],
             [
              0.1111111111111111,
              "#46039f"
             ],
             [
              0.2222222222222222,
              "#7201a8"
             ],
             [
              0.3333333333333333,
              "#9c179e"
             ],
             [
              0.4444444444444444,
              "#bd3786"
             ],
             [
              0.5555555555555556,
              "#d8576b"
             ],
             [
              0.6666666666666666,
              "#ed7953"
             ],
             [
              0.7777777777777778,
              "#fb9f3a"
             ],
             [
              0.8888888888888888,
              "#fdca26"
             ],
             [
              1,
              "#f0f921"
             ]
            ],
            "type": "surface"
           }
          ],
          "table": [
           {
            "cells": {
             "fill": {
              "color": "#EBF0F8"
             },
             "line": {
              "color": "white"
             }
            },
            "header": {
             "fill": {
              "color": "#C8D4E3"
             },
             "line": {
              "color": "white"
             }
            },
            "type": "table"
           }
          ]
         },
         "layout": {
          "annotationdefaults": {
           "arrowcolor": "#2a3f5f",
           "arrowhead": 0,
           "arrowwidth": 1
          },
          "autotypenumbers": "strict",
          "coloraxis": {
           "colorbar": {
            "outlinewidth": 0,
            "ticks": ""
           }
          },
          "colorscale": {
           "diverging": [
            [
             0,
             "#8e0152"
            ],
            [
             0.1,
             "#c51b7d"
            ],
            [
             0.2,
             "#de77ae"
            ],
            [
             0.3,
             "#f1b6da"
            ],
            [
             0.4,
             "#fde0ef"
            ],
            [
             0.5,
             "#f7f7f7"
            ],
            [
             0.6,
             "#e6f5d0"
            ],
            [
             0.7,
             "#b8e186"
            ],
            [
             0.8,
             "#7fbc41"
            ],
            [
             0.9,
             "#4d9221"
            ],
            [
             1,
             "#276419"
            ]
           ],
           "sequential": [
            [
             0,
             "#0d0887"
            ],
            [
             0.1111111111111111,
             "#46039f"
            ],
            [
             0.2222222222222222,
             "#7201a8"
            ],
            [
             0.3333333333333333,
             "#9c179e"
            ],
            [
             0.4444444444444444,
             "#bd3786"
            ],
            [
             0.5555555555555556,
             "#d8576b"
            ],
            [
             0.6666666666666666,
             "#ed7953"
            ],
            [
             0.7777777777777778,
             "#fb9f3a"
            ],
            [
             0.8888888888888888,
             "#fdca26"
            ],
            [
             1,
             "#f0f921"
            ]
           ],
           "sequentialminus": [
            [
             0,
             "#0d0887"
            ],
            [
             0.1111111111111111,
             "#46039f"
            ],
            [
             0.2222222222222222,
             "#7201a8"
            ],
            [
             0.3333333333333333,
             "#9c179e"
            ],
            [
             0.4444444444444444,
             "#bd3786"
            ],
            [
             0.5555555555555556,
             "#d8576b"
            ],
            [
             0.6666666666666666,
             "#ed7953"
            ],
            [
             0.7777777777777778,
             "#fb9f3a"
            ],
            [
             0.8888888888888888,
             "#fdca26"
            ],
            [
             1,
             "#f0f921"
            ]
           ]
          },
          "colorway": [
           "#636efa",
           "#EF553B",
           "#00cc96",
           "#ab63fa",
           "#FFA15A",
           "#19d3f3",
           "#FF6692",
           "#B6E880",
           "#FF97FF",
           "#FECB52"
          ],
          "font": {
           "color": "#2a3f5f"
          },
          "geo": {
           "bgcolor": "white",
           "lakecolor": "white",
           "landcolor": "#E5ECF6",
           "showlakes": true,
           "showland": true,
           "subunitcolor": "white"
          },
          "hoverlabel": {
           "align": "left"
          },
          "hovermode": "closest",
          "mapbox": {
           "style": "light"
          },
          "paper_bgcolor": "white",
          "plot_bgcolor": "#E5ECF6",
          "polar": {
           "angularaxis": {
            "gridcolor": "white",
            "linecolor": "white",
            "ticks": ""
           },
           "bgcolor": "#E5ECF6",
           "radialaxis": {
            "gridcolor": "white",
            "linecolor": "white",
            "ticks": ""
           }
          },
          "scene": {
           "xaxis": {
            "backgroundcolor": "#E5ECF6",
            "gridcolor": "white",
            "gridwidth": 2,
            "linecolor": "white",
            "showbackground": true,
            "ticks": "",
            "zerolinecolor": "white"
           },
           "yaxis": {
            "backgroundcolor": "#E5ECF6",
            "gridcolor": "white",
            "gridwidth": 2,
            "linecolor": "white",
            "showbackground": true,
            "ticks": "",
            "zerolinecolor": "white"
           },
           "zaxis": {
            "backgroundcolor": "#E5ECF6",
            "gridcolor": "white",
            "gridwidth": 2,
            "linecolor": "white",
            "showbackground": true,
            "ticks": "",
            "zerolinecolor": "white"
           }
          },
          "shapedefaults": {
           "line": {
            "color": "#2a3f5f"
           }
          },
          "ternary": {
           "aaxis": {
            "gridcolor": "white",
            "linecolor": "white",
            "ticks": ""
           },
           "baxis": {
            "gridcolor": "white",
            "linecolor": "white",
            "ticks": ""
           },
           "bgcolor": "#E5ECF6",
           "caxis": {
            "gridcolor": "white",
            "linecolor": "white",
            "ticks": ""
           }
          },
          "title": {
           "x": 0.05
          },
          "xaxis": {
           "automargin": true,
           "gridcolor": "white",
           "linecolor": "white",
           "ticks": "",
           "title": {
            "standoff": 15
           },
           "zerolinecolor": "white",
           "zerolinewidth": 2
          },
          "yaxis": {
           "automargin": true,
           "gridcolor": "white",
           "linecolor": "white",
           "ticks": "",
           "title": {
            "standoff": 15
           },
           "zerolinecolor": "white",
           "zerolinewidth": 2
          }
         }
        },
        "title": {
         "text": "Distribution of Clusters in PCA Space"
        }
       }
      }
     },
     "metadata": {},
     "output_type": "display_data"
    }
   ],
   "source": [
    "# Create DataFrame\n",
    "df_pca = pd.DataFrame(\n",
    "    data=X_pca,\n",
    "    columns=['PC1', 'PC2', 'PC3']\n",
    ")\n",
    "\n",
    "# Add cluster labels to the DataFrame\n",
    "df_pca['Cluster'] = [f'{label + 1}' for label in labels]\n",
    "\n",
    "# Calculate explained variance\n",
    "explained_variance = pca.explained_variance_ratio_ * 100\n",
    "\n",
    "# Build the 3D scatter plot\n",
    "fig = px.scatter_3d(\n",
    "    df_pca,\n",
    "    x='PC1',\n",
    "    y='PC2',\n",
    "    z='PC3',\n",
    "    color='Cluster',\n",
    "    opacity=0.75,\n",
    "    title='Distribution of Clusters in PCA Space',\n",
    "    labels={\n",
    "        'PC1': f'PC1 ({explained_variance[0]:.1f}%)',\n",
    "        'PC2': f'PC2 ({explained_variance[1]:.1f}%)',\n",
    "        'PC3': f'PC3 ({explained_variance[2]:.1f}%)'\n",
    "    }\n",
    ")\n",
    "\n",
    "# Customize the marker size and line width\n",
    "fig.update_traces(marker=dict(size=4, line=dict(width=0.4, color='DarkSlateGrey')))\n",
    "fig.update_layout(\n",
    "    scene=dict(\n",
    "        xaxis_title=f'PC1 ({explained_variance[0]:.1f}%)',\n",
    "        yaxis_title=f'PC2 ({explained_variance[1]:.1f}%)',\n",
    "        zaxis_title=f'PC3 ({explained_variance[2]:.1f}%)'\n",
    "    ),\n",
    "    legend_title_text='Clusters',\n",
    "    margin=dict(l=0, r=0, b=0, t=40)\n",
    ")\n",
    "\n",
    "fig.show()"
   ]
  },
  {
   "cell_type": "code",
   "execution_count": 12,
   "id": "102cf219",
   "metadata": {},
   "outputs": [],
   "source": [
    "# Add cluster labels to the original full DataFrame (df)\n",
    "df_with_labels = df.copy()\n",
    "df_with_labels[\"Cluster\"] = labels\n",
    "\n",
    "# Extract only numeric columns (including 'Cluster')\n",
    "numeric_df = df_with_labels.select_dtypes(include='number')\n",
    "\n",
    "# Group by cluster and calculate mean\n",
    "cluster_summary = numeric_df.groupby(\"Cluster\").max()"
   ]
  },
  {
   "cell_type": "code",
   "execution_count": 13,
   "id": "4c74642d",
   "metadata": {},
   "outputs": [
    {
     "data": {
      "text/html": [
       "<div>\n",
       "<style scoped>\n",
       "    .dataframe tbody tr th:only-of-type {\n",
       "        vertical-align: middle;\n",
       "    }\n",
       "\n",
       "    .dataframe tbody tr th {\n",
       "        vertical-align: top;\n",
       "    }\n",
       "\n",
       "    .dataframe thead th {\n",
       "        text-align: right;\n",
       "    }\n",
       "</style>\n",
       "<table border=\"1\" class=\"dataframe\">\n",
       "  <thead>\n",
       "    <tr style=\"text-align: right;\">\n",
       "      <th></th>\n",
       "      <th>Age</th>\n",
       "      <th>Avg_Daily_Usage_Hours</th>\n",
       "      <th>Sleep_Hours_Per_Night</th>\n",
       "      <th>Mental_Health_Score</th>\n",
       "      <th>Conflicts_Over_Social_Media</th>\n",
       "      <th>Addicted_Score</th>\n",
       "    </tr>\n",
       "    <tr>\n",
       "      <th>Cluster</th>\n",
       "      <th></th>\n",
       "      <th></th>\n",
       "      <th></th>\n",
       "      <th></th>\n",
       "      <th></th>\n",
       "      <th></th>\n",
       "    </tr>\n",
       "  </thead>\n",
       "  <tbody>\n",
       "    <tr>\n",
       "      <th>0</th>\n",
       "      <td>21</td>\n",
       "      <td>5.1</td>\n",
       "      <td>9.6</td>\n",
       "      <td>8</td>\n",
       "      <td>3</td>\n",
       "      <td>6</td>\n",
       "    </tr>\n",
       "    <tr>\n",
       "      <th>1</th>\n",
       "      <td>24</td>\n",
       "      <td>8.5</td>\n",
       "      <td>6.6</td>\n",
       "      <td>6</td>\n",
       "      <td>5</td>\n",
       "      <td>9</td>\n",
       "    </tr>\n",
       "    <tr>\n",
       "      <th>2</th>\n",
       "      <td>24</td>\n",
       "      <td>6.6</td>\n",
       "      <td>8.6</td>\n",
       "      <td>7</td>\n",
       "      <td>4</td>\n",
       "      <td>8</td>\n",
       "    </tr>\n",
       "    <tr>\n",
       "      <th>3</th>\n",
       "      <td>24</td>\n",
       "      <td>5.2</td>\n",
       "      <td>9.5</td>\n",
       "      <td>9</td>\n",
       "      <td>3</td>\n",
       "      <td>6</td>\n",
       "    </tr>\n",
       "  </tbody>\n",
       "</table>\n",
       "</div>"
      ],
      "text/plain": [
       "         Age  Avg_Daily_Usage_Hours  Sleep_Hours_Per_Night  \\\n",
       "Cluster                                                      \n",
       "0         21                    5.1                    9.6   \n",
       "1         24                    8.5                    6.6   \n",
       "2         24                    6.6                    8.6   \n",
       "3         24                    5.2                    9.5   \n",
       "\n",
       "         Mental_Health_Score  Conflicts_Over_Social_Media  Addicted_Score  \n",
       "Cluster                                                                    \n",
       "0                          8                            3               6  \n",
       "1                          6                            5               9  \n",
       "2                          7                            4               8  \n",
       "3                          9                            3               6  "
      ]
     },
     "execution_count": 13,
     "metadata": {},
     "output_type": "execute_result"
    }
   ],
   "source": [
    "cluster_summary"
   ]
  },
  {
   "cell_type": "code",
   "execution_count": 14,
   "id": "79c4bebc",
   "metadata": {},
   "outputs": [
    {
     "data": {
      "text/html": [
       "<div>\n",
       "<style scoped>\n",
       "    .dataframe tbody tr th:only-of-type {\n",
       "        vertical-align: middle;\n",
       "    }\n",
       "\n",
       "    .dataframe tbody tr th {\n",
       "        vertical-align: top;\n",
       "    }\n",
       "\n",
       "    .dataframe thead th {\n",
       "        text-align: right;\n",
       "    }\n",
       "</style>\n",
       "<table border=\"1\" class=\"dataframe\">\n",
       "  <thead>\n",
       "    <tr style=\"text-align: right;\">\n",
       "      <th>Most_Used_Platform</th>\n",
       "      <th>Facebook</th>\n",
       "      <th>Instagram</th>\n",
       "      <th>KakaoTalk</th>\n",
       "      <th>LINE</th>\n",
       "      <th>LinkedIn</th>\n",
       "      <th>Snapchat</th>\n",
       "      <th>TikTok</th>\n",
       "      <th>Twitter</th>\n",
       "      <th>VKontakte</th>\n",
       "      <th>WeChat</th>\n",
       "      <th>WhatsApp</th>\n",
       "      <th>YouTube</th>\n",
       "    </tr>\n",
       "    <tr>\n",
       "      <th>Cluster</th>\n",
       "      <th></th>\n",
       "      <th></th>\n",
       "      <th></th>\n",
       "      <th></th>\n",
       "      <th></th>\n",
       "      <th></th>\n",
       "      <th></th>\n",
       "      <th></th>\n",
       "      <th></th>\n",
       "      <th></th>\n",
       "      <th></th>\n",
       "      <th></th>\n",
       "    </tr>\n",
       "  </thead>\n",
       "  <tbody>\n",
       "    <tr>\n",
       "      <th>0</th>\n",
       "      <td>0.17</td>\n",
       "      <td>0.56</td>\n",
       "      <td>0.00</td>\n",
       "      <td>0.1</td>\n",
       "      <td>0.00</td>\n",
       "      <td>0.00</td>\n",
       "      <td>0.10</td>\n",
       "      <td>0.06</td>\n",
       "      <td>0.00</td>\n",
       "      <td>0.00</td>\n",
       "      <td>0.00</td>\n",
       "      <td>0.02</td>\n",
       "    </tr>\n",
       "    <tr>\n",
       "      <th>1</th>\n",
       "      <td>0.10</td>\n",
       "      <td>0.31</td>\n",
       "      <td>0.00</td>\n",
       "      <td>0.0</td>\n",
       "      <td>0.00</td>\n",
       "      <td>0.03</td>\n",
       "      <td>0.36</td>\n",
       "      <td>0.02</td>\n",
       "      <td>0.00</td>\n",
       "      <td>0.00</td>\n",
       "      <td>0.17</td>\n",
       "      <td>0.01</td>\n",
       "    </tr>\n",
       "    <tr>\n",
       "      <th>2</th>\n",
       "      <td>0.06</td>\n",
       "      <td>0.42</td>\n",
       "      <td>0.05</td>\n",
       "      <td>0.0</td>\n",
       "      <td>0.00</td>\n",
       "      <td>0.03</td>\n",
       "      <td>0.29</td>\n",
       "      <td>0.03</td>\n",
       "      <td>0.00</td>\n",
       "      <td>0.03</td>\n",
       "      <td>0.09</td>\n",
       "      <td>0.01</td>\n",
       "    </tr>\n",
       "    <tr>\n",
       "      <th>3</th>\n",
       "      <td>0.46</td>\n",
       "      <td>0.12</td>\n",
       "      <td>0.00</td>\n",
       "      <td>0.0</td>\n",
       "      <td>0.14</td>\n",
       "      <td>0.01</td>\n",
       "      <td>0.02</td>\n",
       "      <td>0.08</td>\n",
       "      <td>0.08</td>\n",
       "      <td>0.05</td>\n",
       "      <td>0.00</td>\n",
       "      <td>0.03</td>\n",
       "    </tr>\n",
       "  </tbody>\n",
       "</table>\n",
       "</div>"
      ],
      "text/plain": [
       "Most_Used_Platform  Facebook  Instagram  KakaoTalk  LINE  LinkedIn  Snapchat  \\\n",
       "Cluster                                                                        \n",
       "0                       0.17       0.56       0.00   0.1      0.00      0.00   \n",
       "1                       0.10       0.31       0.00   0.0      0.00      0.03   \n",
       "2                       0.06       0.42       0.05   0.0      0.00      0.03   \n",
       "3                       0.46       0.12       0.00   0.0      0.14      0.01   \n",
       "\n",
       "Most_Used_Platform  TikTok  Twitter  VKontakte  WeChat  WhatsApp  YouTube  \n",
       "Cluster                                                                    \n",
       "0                     0.10     0.06       0.00    0.00      0.00     0.02  \n",
       "1                     0.36     0.02       0.00    0.00      0.17     0.01  \n",
       "2                     0.29     0.03       0.00    0.03      0.09     0.01  \n",
       "3                     0.02     0.08       0.08    0.05      0.00     0.03  "
      ]
     },
     "execution_count": 14,
     "metadata": {},
     "output_type": "execute_result"
    }
   ],
   "source": [
    "cat_summary = (\n",
    "    df.assign(Cluster=labels)\n",
    "      .groupby(\"Cluster\")[\"Most_Used_Platform\"]\n",
    "      .value_counts(normalize=True)      \n",
    "      .unstack(fill_value=0)           \n",
    "      .round(2)\n",
    ")\n",
    "cat_summary"
   ]
  },
  {
   "cell_type": "code",
   "execution_count": 15,
   "id": "964e9d5c",
   "metadata": {},
   "outputs": [
    {
     "data": {
      "image/png": "[encoded data removed]",
      "text/plain": [
       "<Figure size 800x500 with 1 Axes>"
      ]
     },
     "metadata": {},
     "output_type": "display_data"
    }
   ],
   "source": [
    "plt.figure(figsize=(8, 5))\n",
    "components = ['PC1', 'PC2', 'PC3']\n",
    "var_exp = pca.explained_variance_ratio_\n",
    "\n",
    "bars = plt.bar(components, var_exp)\n",
    "\n",
    "for bar in bars:\n",
    "    height = bar.get_height()\n",
    "    plt.text(bar.get_x() + bar.get_width()/2., height,\n",
    "             f'{height*100:.2f}%',\n",
    "             ha='center', va='bottom')\n",
    "\n",
    "plt.title('Explained variance by principal components')\n",
    "plt.xlabel('Principal components')\n",
    "plt.ylabel('Explained variance ratio')\n",
    "\n",
    "plt.show()"
   ]
  },
  {
   "cell_type": "code",
   "execution_count": 16,
   "id": "14b73eff",
   "metadata": {},
   "outputs": [
    {
     "data": {
      "image/png": "[encoded data removed]",
      "text/plain": [
       "<Figure size 1000x600 with 1 Axes>"
      ]
     },
     "metadata": {},
     "output_type": "display_data"
    }
   ],
   "source": [
    "plt.figure(figsize=(10,6))\n",
    "x = range(1, 4)\n",
    "y = pca.explained_variance_ratio_.cumsum()\n",
    "\n",
    "# Create the plot\n",
    "plt.plot(x, y, marker='o', linestyle='--', color='#1f77b4')\n",
    "\n",
    "# Add percentage labels above each point\n",
    "for i, txt in enumerate(y):\n",
    "    plt.annotate(f'{txt*100:.2f}%',\n",
    "                 (x[i], y[i]),\n",
    "                 textcoords=\"offset points\",\n",
    "                 xytext=(0,10),\n",
    "                 ha='center',\n",
    "                 fontweight='bold')\n",
    "\n",
    "plt.title('Cumulative explained variance')\n",
    "plt.xlabel('Number of components')\n",
    "plt.ylabel('Cumulative explained variance')\n",
    "plt.grid(True, linestyle='--', alpha=0.7)\n",
    "plt.ylim(0, max(y) * 1.1)  # Add some space at the top for labels\n",
    "plt.xticks(x)\n",
    "plt.show()"
   ]
  },
  {
   "cell_type": "code",
   "execution_count": 17,
   "id": "7de0d24e",
   "metadata": {},
   "outputs": [
    {
     "data": {
      "image/png": "[encoded data removed]",
      "text/plain": [
       "<Figure size 800x1200 with 2 Axes>"
      ]
     },
     "metadata": {},
     "output_type": "display_data"
    }
   ],
   "source": [
    "# Build the loadings table (rows = features, cols = PCs)\n",
    "feature_names = X_preprocessed.columns\n",
    "n_comp        = 3\n",
    "pc_labels     = [f\"PC{i+1}\" for i in range(n_comp)]\n",
    "\n",
    "loadings = pd.DataFrame(\n",
    "    pca.components_[:n_comp].T,\n",
    "    index  = feature_names,\n",
    "    columns= pc_labels\n",
    ")\n",
    "\n",
    "# Collect the strongest |loading| values per PC WITHOUT explode()\n",
    "n_top = 10\n",
    "top_feat_sets = [\n",
    "    loadings[col].abs().nlargest(n_top).index        # Index of top-n rows for that PC\n",
    "    for col in loadings.columns\n",
    "]\n",
    "top_feats = pd.Index(np.unique(np.concatenate(top_feat_sets)))  # unique + keep Index type\n",
    "\n",
    "top_loadings = loadings.loc[top_feats]\n",
    "\n",
    "# Optional: order by absolute size of PC1 for readability\n",
    "top_loadings = top_loadings.reindex(\n",
    "    top_loadings['PC1'].abs().sort_values(ascending=False).index\n",
    ")\n",
    "\n",
    "\n",
    "# Plot heat-map\n",
    "plt.figure(figsize=(8, 12))\n",
    "sns.heatmap(\n",
    "    top_loadings,\n",
    "    cmap='RdBu',\n",
    "    vmin=-1, vmax=1,\n",
    "    annot=True, fmt=\".2f\",\n",
    "    linewidths=.5,\n",
    "    cbar_kws={'label': 'Loading'}\n",
    ")\n",
    "\n",
    "plt.xticks(rotation=45, ha='right', fontsize=10)\n",
    "plt.yticks(fontsize=8)\n",
    "plt.title(\"Top PCA Loadings (absolute strongest)\")\n",
    "plt.tight_layout()\n",
    "plt.show()"
   ]
  },
  {
   "cell_type": "code",
   "execution_count": null,
   "id": "bcbc9c28",
   "metadata": {},
   "outputs": [
    {
     "data": {
      "image/png": "[encoded data removed]",
      "text/plain": [
       "<Figure size 1524.62x600 with 3 Axes>"
      ]
     },
     "metadata": {},
     "output_type": "display_data"
    }
   ],
   "source": [
    "# Build the loadings table  (rows = features, cols = PCs)\n",
    "feature_names = X_preprocessed.columns          # original column names\n",
    "n_comp        = 3                               # number of PCs to show\n",
    "pc_labels     = [f\"PC{i+1}\" for i in range(n_comp)]\n",
    "\n",
    "loadings = pd.DataFrame(\n",
    "    pca.components_[:n_comp].T,\n",
    "    index  = feature_names,\n",
    "    columns= pc_labels\n",
    ")\n",
    "\n",
    "# Keep only the strongest |loading| values\n",
    "n_top = 10                                      # top N per component\n",
    "top_rows = []\n",
    "\n",
    "for pc in loadings.columns:\n",
    "    strongest = loadings[pc].abs().nlargest(n_top).index\n",
    "    top_rows.extend(strongest)\n",
    "\n",
    "top_rows = pd.Index(np.unique(top_rows))        # deduplicate\n",
    "top_loads = loadings.loc[top_rows]\n",
    "\n",
    "\n",
    "plot_df = (top_loads\n",
    "           .reset_index(names=\"Feature\")\n",
    "           .melt(id_vars=\"Feature\",\n",
    "                 var_name=\"PC\",\n",
    "                 value_name=\"Loading\"))\n",
    "\n",
    "\n",
    "sns.set_theme(style=\"whitegrid\")            \n",
    "\n",
    "g = sns.catplot(\n",
    "    data       = plot_df,\n",
    "    x          = \"Loading\",\n",
    "    y          = \"Feature\",\n",
    "    hue        = \"PC\",         \n",
    "    col        = \"PC\",\n",
    "    kind       = \"bar\",\n",
    "    height     = 6,             # per-panel size\n",
    "    aspect     = 0.8,           # width / height\n",
    "    palette    = \"Set2\",\n",
    "    sharex     = False,         # each axis autoscale\n",
    "    sharey     = False          # so labels repeat in every panel\n",
    ")\n",
    "\n",
    "g.set_titles(\"{col_name}\")                      \n",
    "g.set_xlabels(\"Loading\")\n",
    "g.set_ylabels(\"\")\n",
    "for ax in g.axes.flat:\n",
    "    ax.axvline(0, color=\"k\", linewidth=0.5)    \n",
    "\n",
    "plt.tight_layout()\n",
    "plt.show()"
   ]
  },
  {
   "cell_type": "code",
   "execution_count": 54,
   "id": "2fa6f096",
   "metadata": {},
   "outputs": [
    {
     "name": "stdout",
     "output_type": "stream",
     "text": [
      "\n",
      "Top contribution in PC1:\n",
      "Addicted_Score                 0.458466\n",
      "Mental_Health_Score            0.444525\n",
      "Conflicts_Over_Social_Media    0.442378\n",
      "Name: PC1, dtype: float64\n",
      "\n",
      "Top contribution in PC2:\n",
      "Age                             0.849821\n",
      "Academic_Level_Undergraduate    0.360170\n",
      "Gender_Male                     0.280889\n",
      "Name: PC2, dtype: float64\n",
      "\n",
      "Top contribution in PC3:\n",
      "Relationship_Status_Single             0.544551\n",
      "Relationship_Status_In Relationship    0.513503\n",
      "Sleep_Hours_Per_Night                  0.451717\n",
      "Name: PC3, dtype: float64\n"
     ]
    }
   ],
   "source": [
    "for pc in loadings.columns:\n",
    "    print(f'\\nTop contribution in {pc}:')\n",
    "    print(loadings[pc].abs().sort_values(ascending=False).head(3))"
   ]
  },
  {
   "cell_type": "code",
   "execution_count": null,
   "id": "773c2887",
   "metadata": {},
   "outputs": [
    {
     "data": {
      "application/vnd.plotly.v1+json": {
       "config": {
        "plotlyServerURL": "https://plot.ly"
       },
       "data": [
        {
         "hovertemplate": "Cluster=2<br>t-SNE dimension 1=%{x}<br>t-SNE dimension 2=%{y}<extra></extra>",
         "legendgroup": "2",
         "marker": {
          "color": "#636efa",
          "opacity": 0.8,
          "size": 5,
          "symbol": "circle"
         },
         "mode": "markers",
         "name": "2",
         "orientation": "v",
         "showlegend": true,
         "type": "scatter",
         "x": {
          "bdata": "N9mJQHGqj0DhGCVBOo33QBnrMkFcHC5BLcoMQcXQwEDj8jJBnawSQe7bwED/AjVBkD8SQXYXwECDqDNBg3MNQU6twEDD2jVBprmcQM30mUAC4T9B2rEOQRw8A0HrE0BBStqVQGu9A0EN1zRBWY9AQV9UvUCAGOlAx5I2QTbdkEDJNQ5BdyRLQQIFt0Bi5GBBotbrQJaBXUFuyqZBzV3vQN5nVEFDuJdBfZT0QNhJM0G9uVxBdPqlQa1W7kBUejpBL7dUQQNUlkECBO9AMXUvQWQAXUFfbqVBTtvrQDHHN0HR8lRBrzyVQe0m6kCqHDtAZ1IAQfEOE0BVQApB5WUoQNg3A0Hi6/U/NFYPQWeMFkCbegdBiRXMP2ZSFEFF6QNATHEMQbbaqj8FQBhBd63gP1GdEUHQK5Y/rs4aQU4rsUAEoKpAMK8KwIzibkDo9hJBB0EBwPIPnUBincZABJcPwL+DdEDznxFB6zEIwBUFnkByC8RAirIVwPU+ZUCBrgpBgTsQwI+rnEB1oMZAP9IvwBIOWUB8Ng5BG9QkwGSVlEB+ecJAtWA+wCkeU0A3yAlBcssvwAaTjEBxlcNAvbNKwEo8SkAFTQdBYFw4wHk5h0A+mJRA3HQAQKx5ZUCVE2FBSvgEP66rA0H4iMk/VrxnQDwoYEH7bps/kTWRQH6kgkD2xlhAJFJlQeExnD6BO/5AYnRaQJbPZEH4c2c/qJ+MQE5lfED1dUhAL9VrQeJZXD0o4fVAjvxFQGZnakHA9xU/+6aJQOxjfEBGAzhAAqByQXEtKr5Bf+5Anrs5QKG8cUEWSq0+F8qAQHPDJ0BSUXhBkw+hvmmv40BCKx1ANAh3QQxM8D0lHIZAZO4VQI3Df0EPWeS+nt7hQPZvE0ApGMW9LhxzQN79BUBymRO/C6HUQDl/8j8XkZu+AjN+QNvs6T9t3Di/wtHSQLBe0z/1DAa/kwN6QEAq0D8KR1i/+xrOQClrtD/QKjW/tMIBQdx688CnxjpBl8E3QT+N4b9jjNZAglT6wNpYMEGThDtBrG9uv2xVAUFAtTtBSrg7QdE17r+vDRdBz6kKwQQ1MEG5KUBBLrOLvxL+AEHSsztBztJAQUC7+L/iEhdB6sswQb5rREF5dpu/GYMAQQ7/O0HZqERBbBz9v3O7pkFAz51BuqdiQEhQZ72sgQNAqLnyQLUjgj06E6k/dOiEP9rWBUHL2pM/Z4FGP0ehD0AfUatA1ZtCQNxFFECV3fQ/J/ntQKiHrj7vO/Y/85ACQP767kBxMJG9g/SrQBVFD0BjNqtAcz9DQCG92D8rpos/7UgEQWvBOz2xg6lAiwkKQA==",
          "dtype": "f4"
         },
         "xaxis": "x",
         "y": {
          "bdata": "3NuuwJjdskDpg7vATXb2wFwxycCjlBzBmbPpwLCH8cCeMwHBk0nMwBp4zcDT0z3BuunMwMJHzcAbSPvA/TLowIhA8sCeCRnBDVEZwQkGCMHMbR3BTTz+wMJ7G8EpZT/B1FEKwczWGMG8wyTBAwdAwVI2FcEagcLAWAwBwT4/NsG+QGjApGYHwYo1NMEmExvBKdLWv45NIsGu9TJBNXYGwPEKfkFeckPBO2ZowHTBHEDW7STBSsA0QSYdFcBWwqM/NRp9QeR2RsGIhGfAO4IfQPV0J8GbBjZB6QEiwBkHsT+aNHxBbehIwU9SZsCbOUjBXjF6QA5xSMFtkGdAsZNQwYEvhkCaik7BDuF3QNV0WMG5SpFAZY1Vwf9/hkCAxV/Bc3CbQH2LXMFQbZJAMwpmwY+fo0CprWLBqZKcQDvU7UDSjlVB83cMwZgqQkHx7BBBrSorwTAm5UCSfFFBfccNwZ/+O0HAxxBB4BkswR2f3UBKWE9BNDwPwRyKO0F2zRBB15YtwZJS1UDKeFFB/k0SwZYcP0EKeQxB1SYuwd7Q1UBawUxBz9oTwRY2REHtEw1Bat4wwQk+2kC2U0pBPGYVwekER0H7uAxBu/sywVBM3UAZ3nXBuOOewbZyakHA55pBNJlbQXg0h8Fs75/B3sWfQZTXokF8A61B5WZ5wVvBq8FM52xBTsKbQecGYEHn3YnBUOSeQSkZpEEZOatBJON+wVETrcFFhHBB1wqcQdJjZUE+PozBRm2eQUQ0pkE4GqlB/0mCwRK9r8EX9XRBYPubQShoa0GN7I7BRoubQTM1pUHkbKZBCKqEwf+keUFVWp5BSgByQeHIkMECeJxBkx2oQb2jo0GR8IfBL9R9QTT0nEF8h3hBnCGUweblmEGL5aBBAtWJwZQGgUFmiX5BCf6UwWVPmUHKXp5BtbmMwQSpgkHO/IFBltKXwSZGl0GVOJxBXY2OwU4BhEH2EIRBCFCZwcR2lkHrkppBvxNWwT2nJkFTr2vBpXqhQZ0PakH9yEbBOgQtQTD1asHkBpxBYp+qQacrV8GnvWbBbymiQQYxbkHDpGbBaCAqQdpPZcFKEJxB5cSoQTNgWMFQdWHBycKiQesgc0HHf2fBtcRgwYZ3nEHt2qZBCtFZwelcXsFmJqNBCYB3Qd5wPMDLGRLBY290wJ3WxEBF8RBAfbKHQb3grECioUBBLywrQCnOiEGkmZtAFpVKQZ2uX79lwljBLhRLwHadtkEbEvA/ocyAQd5xj0CPqLJBCYkRQATbgUH3QpRAQatCwd2dTr8obFfBHkNLwF3ir0ETzi9AV5+DQatpkkCZYkXB0K4SPw==",
          "dtype": "f4"
         },
         "yaxis": "y"
        },
        {
         "hovertemplate": "Cluster=3<br>t-SNE dimension 1=%{x}<br>t-SNE dimension 2=%{y}<extra></extra>",
         "legendgroup": "3",
         "marker": {
          "color": "#EF553B",
          "opacity": 0.8,
          "size": 5,
          "symbol": "circle"
         },
         "mode": "markers",
         "name": "3",
         "orientation": "v",
         "showlegend": true,
         "type": "scatter",
         "x": {
          "bdata": "H0YcwiR3IMKoRQfCgb4VwsDPB8JZ6x/CjkkTwvF7F8I3JgHCCr8Qwr+cH8KJQRPCql8YwhnVBcKrTA3CQPEdwgYlE8L7wRfCgOoAwg2XD8IC9x3CZ+AGwjEeF8JKDwTCkFscwom+FcJ+YQTCeTUbwiuVA8IxrhDCV7QUwteFGMJUmwHCg/ATwnfrG8IJNBXCsr0YwqOaAsJ3fQ/C/gIbws9oAcJgQx3CyQ4ewpyuAMJYNh/Cg5IAwkgvIMIHLMTBiP/JwRq3w8ETV8rBwiTDwQC5ycFVqsLBjpfIwVePwsHhSsfBQWATwvTP88EIQRHCpIPowVZIFcI/YvPBcS0Rwi0I6MHTThXCFqnxwZTtEMK/V+fBAU4XwqeK8MFR8BHCzR3mwR3tF8LHQO/BEycTwlYF5cEcrBjCuHnuwVSqE8K5IOTBLmAZwhaRHsKNUx3CUuIfwpBwHsKCSyHC0/sfwtoAI8JxoiHCtGAkwp8UI8LMuSXCm+8kwtScJ8KyKibCNqQowqP6J8IyKyrCfZkpwpbcxsF2HfvBFS7Mwapo9sG7YMfBiTcIwZwQ/MEYAM3B+ub2wWRMyME26vbAh7r8wSaXzcH2GgvBpov3wfEnycGYVffAvbT8wQnOGcKpo9XBxCPlwb1Z5MHTntzBNgoOwnb16cHu9dvBtSMLwpT878FBceDBGOkEwlI13MEkiAzCYWzkweHB1cHKr+TBOZbbwVgeAcL87QzC+J3wwcmD1MFXJ9bBH6Xwwbl25cHdjdvBSVgLwg==",
          "dtype": "f4"
         },
         "xaxis": "x",
         "y": {
          "bdata": "7FF/QYLvhEGw2ixA3a2GQZRy4r8J94lBiEp0Pyt8nEE0kJVAinM1P5qqikHuxnA/GXGNQQC4UUGfD5S/9RqcQY44nzwrh5RByeWTQAv+7r6Ei5VBUncIwG+PnEHDKE9B/ceeQfethkGecl5AevucQdmZckDD/5dBahKbQXxIjUHDHZdAor78vsvDlEGpyZNBH0KNQcvarkBq1ea+/h6dQVMyIUHkS8HAM9TFwFZXKEFIJcvAWwsrQWlRzsAzWKpA5T6mQDOrrkBg97VAOB+9QOEXxkAfxctAEU/VQLk02UAmd+BAqIAmQU0XDEG+DFpBJGXqQOnxKUFaUg1Bn3RbQb2w6kCuHSpBY+kRQbhhX0GedvNAAlE9QV9+FUF5BWFBo7T6QG4qP0Ez7xhBGVFfQQSnAEGqzUBBfeQbQTw7YEFfIANB0M9BQehd/UCCNg1BxQkBQXlYEUFjZQRBVoIUQff2A0GJzRZB8gsIQRaLGkGIzgtBXGwaQSTqCEFjTR9BbKQPQVwDH0G3RRFBJSYeQeXRHUET2DtBisAaQav+QUFf0iBBNi4lQUWUPkG5BR5BkzBFQVX/JEGL2iVBby1CQRK+IUEEQipBRY1IQWnkJ0H9BCVBPfZFQW4jC0ETGCdAuvVvQNgB2D9bHJI+EH/XQLSrL0BIas4/Ek0AQYgzB0C/L/a+UiRgwDqwGT+inrLAP2IqQKcpJ0DbWm1AkoCNQALfr8CHYetA7GkLQKzruj93wzVATKyfwO3rg0BslDNAKpf+QA==",
          "dtype": "f4"
         },
         "yaxis": "y"
        },
        {
         "hovertemplate": "Cluster=1<br>t-SNE dimension 1=%{x}<br>t-SNE dimension 2=%{y}<extra></extra>",
         "legendgroup": "1",
         "marker": {
          "color": "#00cc96",
          "opacity": 0.8,
          "size": 5,
          "symbol": "circle"
         },
         "mode": "markers",
         "name": "1",
         "orientation": "v",
         "showlegend": true,
         "type": "scatter",
         "x": {
          "bdata": "Zy8aQt8SCEJBAgdC30X4QUou8UFSALpBAxYDQlj1AEJNvO9Bd5XDQThHAkJBwABCeIfxQdWcuUG0dANChyIDQvCh8UFvNLlBiiU0Qd3FA0JpZ+xBGen9QR364kHvFu9BwxUFQiMq/kGjl+xBOfkFQi1h/EEJuvtBwlvIQcUA+EHjjwRCnNv4Qatg1EEXR7FBUcntQUQoQUH7HJlBY/c2QfBbPUFurqxBXINjQRRKqkGT0GpBPH+vQcEFaUEb061Bs8xwQY2vskEv4W5BRdywQST7dkEUb7VBl/50QevEs0GZkHxBmtG3QYL2ekFgfLZBTm2AQYXf/UFlvxFCv14AQkv9EUK8nABCC2oTQpW7AEKT4BNCYVwCQtWkE0JDSgNCQJsTQhpLBEK4CfNBOHQYQuWh80F4vg5CL+r1QTDfGEKERPZBgsQPQg7M+EHUiRhCefn4QQbzEEJTFPxBxXgaQiFZ/EGlcxJCx33+QR9xGUK0PP9BrzYTQmDpAEJ83BtCpmEBQpbwFEL3jn5BASYCQgHgGkJQgIJBEecCQqyIFUIVqYFB3cIDQv/CHEJD0oVBFYcEQiofF0IbLIVBzkEFQrWQHELCqohBhQAGQjICGEJiTIhBJ14CQqn1CkL/vgRCvdEJQhzaAkLmqAtCDZUFQmukCkI0pQNCX7IMQiFGBkLsmQtCUIgEQtlbDULO2+VBL37FQR3Su0GaXr1B4RzlQRkIuEG/HsVBrlz7Qd7VvkGzd8hBYwHIQSR17UFFt7lBTWy5QfkT60Ea5cFB5eTKQSuys0F2IdtBtGO2QfqEykFF/ddBXajCQYz0ukHms8ZBvYTtQaEJukG7TL5BssP7Qaqi10Fdr7tBXjPBQSC68kFCBbVBMnfEQVI3+0F4z9pB7iTGQTd8rUG8XdZBjzTTQRnRuEFn7+VBxUzEQThNw0EPqsFBQbPpQZwxskFQ68FBXST8QeGX3EGuDL9Baq6sQZfr10Gh1NNB",
          "dtype": "f4"
         },
         "xaxis": "x",
         "y": {
          "bdata": "b7iXP8ddwb45QD7BXQEZweJNZsG4RMXAu5sqwZ6dLsHXvVnBx+/FwHxAGcHe0i7BDw5mwbuSwMD6dCnB7d49wWghZsHzWr/ATUgCwFW5XMHb5ETBN+FkwT2QEsDS8FPB9HkwwZ1aZMG/kkzBao1AwSBGHcF33FrBewbUwPPmR8FEPkPB9z4ywRa+AMA5bYdAH08tQTcK9z6tnEDBqbwdQLTrhj+PzPrAEeEKQRFnCMF7LRJBX+L7wKbCB0GR2ArBfgURQV+GAcGccQRBJzAPwckQD0Eq4wbBBf8BQXt8E8GBHAxBdKMMwY+GAEEmJRbBtBwIQRae47+TZlk/I+eCv01ZKj+H9Ie/JhaNPyMSq7/QxIE/NVCfv7KQ9T4tloi/r8ogPjeQj79fOElBHqUGPxlKPEERSBDAEDVKQcQdiD7TrzhBA54OwO3jRkG55R++K+Q0QeUSFsBFo0pBk6eEvnyKNUErPQ/AOX5DQfzcQ7+r5jBBYSwtwFj3SEFGiFC/XmA0QfadHMC8bKZBnUZCQTeIpr9NuJ9BRJIwQZn7PMCIeKlBpA5GQSNqtb9cEaBBnTg0QbHlM8DVgahBzkxDQTX64r/l2aFBrTM2QYH4QsA/V6hBLxCrwOGC4kB0ZbXAbAj6QEHKpcAwieRAw5OvwJvm/UB75J7A4IroQCtRqMAugABBFDeawGxS60AvRKFAE4fHQPPkEkF4buK/RYunv+iPyEC88N5APc+MPzT4McCjd3bARFewv2K8+r5ad6VARw/sQI1IjUAx7ivAt7llwN245UAK7m5AE6+6vzXBDsBCJr9ATPCfQPwAEEFcw5K/iIgTPxVnwkDwEuxAKMwcQMTGj79L7RJB+yzhvqA1xz4NqcRAW9zrQBxJGkAXuKO/rvCJwOJWAkHQEJRAV6R6wHeZNcBwOaFAptekQE0nBkHFFve+31KUP/APwUDG7u1AGD4SQG+awL8PU27AgkUDQSZEjUAEeYDA",
          "dtype": "f4"
         },
         "yaxis": "y"
        },
        {
         "hovertemplate": "Cluster=0<br>t-SNE dimension 1=%{x}<br>t-SNE dimension 2=%{y}<extra></extra>",
         "legendgroup": "0",
         "marker": {
          "color": "#ab63fa",
          "opacity": 0.8,
          "size": 5,
          "symbol": "circle"
         },
         "mode": "markers",
         "name": "0",
         "orientation": "v",
         "showlegend": true,
         "type": "scatter",
         "x": {
          "bdata": "GXPuwfaF7sHgqw3CmiwOwjgF2sEZYQDC28PZwRHrGsJWJNPB+tsbwvVe0cHFyBzCkwjQwamD68Ewc+fBUG3pwalu5MHEbebBIC3hwXUK48HFMt7BaMffwcoX3MFA1/vBfKYIwrBs/cFCxAXCg/X6wdXuBsKTYf3B/MEJwsQn+cGGyQbCayoAwk4mCsJrivrBe5UIwgsOAMLppQXCAc33wSdGBsJaRv/Bf/kJwp/w9cHjzgjCPnP/wUAeB8L1ofTB6KrswXYpD8Leu+bBKIIRwvIG7MGZaBDCZjbNPweO5MF2GxPCjknrwQXREcI/h6o/8ZriwdnIFML+aOnBpHATwtnQwz9LhuDBpnkWwuA7YkBnNenB+KAUwo9jhT8dft/BqvQXwtGNbUAWEubB6WYWwnImqT+omdzBSnkZwlvBT0C58+bBtX0Xwm77az8I093BtNYawr4NUUBGR+TB+AcZwr9GhT8iQtvBYAYcwqF5QkCA0eLBan8awlnNVD82bdzBpN4cwq331cH7ZdrBUXvWwSSa28G80NbBrOXbwWCF1sGB7gnCz3b0wQ6GAcLn2g3Crr8KwivaCMLMgQnCGh4Ewn6rC8KmnQDCPD3ywUEuD8LaHgLChJ4Nwqno8cFPVALChBEOwi6QAcKg6Q3C/GIBwg==",
          "dtype": "f4"
         },
         "xaxis": "x",
         "y": {
          "bdata": "clWSwXe1kcEdjL2/mPLxvxlgRsFYPl/BgTBFwc8Z6sCZ+0vBo4rtwIOgTcEBi/HAdMJOweixbMETgGbBez5xwbedacFuqnXBgEhuwVTUecF7w3PB+it9wbqjeMEhSk/B4neswZH4+8A/iK/BCQ5DwRhUrMEnRPfAIWyvwetYQMHyt7HBs6EBwScPs8HSdULBM3G0wX7P/cAzn7XBsKpFwSOXt8E73ATB+DO4wTcpQ8E/XbrBGy8IwTSPu8H2bELBIT+1wTXfJsH4I7XBx5IYwe6wuMEIzirBfGuiwf3ut8FGUxzBWwm8wecqL8EUSqTB9se6wTzOIMGy6L7BGKgywfeKp8F+d73B4WIlwfVZsMGOZcLBU6Y4wbPuqMGLnMDBE0MqwWEGtMH7o8TBgbI6wedqrMFj78LBsJwuwbpetMHmWcjB/3FAwZ3prcEWssbBCSAzwetEt8FTysrB2E9DwT/MsMGyHMnB69M3wQtpuMGVxM3BNE1GwUgassHFvMzBVzg9wcAbrMH8U6TBGeetwTTYq8GNEbDBXj2tweP0scGrzdbAvU17wY12kMF5LsnAnkwEwafDocAbdgvB+yWawOuuIMFeHI/BwUKswFYVFcGnTJDBFwjJwAK7uMBQccjAfFwiwbXKkMHhjNbAHk6zwA==",
          "dtype": "f4"
         },
         "yaxis": "y"
        }
       ],
       "layout": {
        "height": 650,
        "legend": {
         "title": {
          "text": "Cluster"
         },
         "tracegroupgap": 0
        },
        "template": {
         "data": {
          "bar": [
           {
            "error_x": {
             "color": "#2a3f5f"
            },
            "error_y": {
             "color": "#2a3f5f"
            },
            "marker": {
             "line": {
              "color": "#E5ECF6",
              "width": 0.5
             },
             "pattern": {
              "fillmode": "overlay",
              "size": 10,
              "solidity": 0.2
             }
            },
            "type": "bar"
           }
          ],
          "barpolar": [
           {
            "marker": {
             "line": {
              "color": "#E5ECF6",
              "width": 0.5
             },
             "pattern": {
              "fillmode": "overlay",
              "size": 10,
              "solidity": 0.2
             }
            },
            "type": "barpolar"
           }
          ],
          "carpet": [
           {
            "aaxis": {
             "endlinecolor": "#2a3f5f",
             "gridcolor": "white",
             "linecolor": "white",
             "minorgridcolor": "white",
             "startlinecolor": "#2a3f5f"
            },
            "baxis": {
             "endlinecolor": "#2a3f5f",
             "gridcolor": "white",
             "linecolor": "white",
             "minorgridcolor": "white",
             "startlinecolor": "#2a3f5f"
            },
            "type": "carpet"
           }
          ],
          "choropleth": [
           {
            "colorbar": {
             "outlinewidth": 0,
             "ticks": ""
            },
            "type": "choropleth"
           }
          ],
          "contour": [
           {
            "colorbar": {
             "outlinewidth": 0,
             "ticks": ""
            },
            "colorscale": [
             [
              0,
              "#0d0887"
             ],
             [
              0.1111111111111111,
              "#46039f"
             ],
             [
              0.2222222222222222,
              "#7201a8"
             ],
             [
              0.3333333333333333,
              "#9c179e"
             ],
             [
              0.4444444444444444,
              "#bd3786"
             ],
             [
              0.5555555555555556,
              "#d8576b"
             ],
             [
              0.6666666666666666,
              "#ed7953"
             ],
             [
              0.7777777777777778,
              "#fb9f3a"
             ],
             [
              0.8888888888888888,
              "#fdca26"
             ],
             [
              1,
              "#f0f921"
             ]
            ],
            "type": "contour"
           }
          ],
          "contourcarpet": [
           {
            "colorbar": {
             "outlinewidth": 0,
             "ticks": ""
            },
            "type": "contourcarpet"
           }
          ],
          "heatmap": [
           {
            "colorbar": {
             "outlinewidth": 0,
             "ticks": ""
            },
            "colorscale": [
             [
              0,
              "#0d0887"
             ],
             [
              0.1111111111111111,
              "#46039f"
             ],
             [
              0.2222222222222222,
              "#7201a8"
             ],
             [
              0.3333333333333333,
              "#9c179e"
             ],
             [
              0.4444444444444444,
              "#bd3786"
             ],
             [
              0.5555555555555556,
              "#d8576b"
             ],
             [
              0.6666666666666666,
              "#ed7953"
             ],
             [
              0.7777777777777778,
              "#fb9f3a"
             ],
             [
              0.8888888888888888,
              "#fdca26"
             ],
             [
              1,
              "#f0f921"
             ]
            ],
            "type": "heatmap"
           }
          ],
          "histogram": [
           {
            "marker": {
             "pattern": {
              "fillmode": "overlay",
              "size": 10,
              "solidity": 0.2
             }
            },
            "type": "histogram"
           }
          ],
          "histogram2d": [
           {
            "colorbar": {
             "outlinewidth": 0,
             "ticks": ""
            },
            "colorscale": [
             [
              0,
              "#0d0887"
             ],
             [
              0.1111111111111111,
              "#46039f"
             ],
             [
              0.2222222222222222,
              "#7201a8"
             ],
             [
              0.3333333333333333,
              "#9c179e"
             ],
             [
              0.4444444444444444,
              "#bd3786"
             ],
             [
              0.5555555555555556,
              "#d8576b"
             ],
             [
              0.6666666666666666,
              "#ed7953"
             ],
             [
              0.7777777777777778,
              "#fb9f3a"
             ],
             [
              0.8888888888888888,
              "#fdca26"
             ],
             [
              1,
              "#f0f921"
             ]
            ],
            "type": "histogram2d"
           }
          ],
          "histogram2dcontour": [
           {
            "colorbar": {
             "outlinewidth": 0,
             "ticks": ""
            },
            "colorscale": [
             [
              0,
              "#0d0887"
             ],
             [
              0.1111111111111111,
              "#46039f"
             ],
             [
              0.2222222222222222,
              "#7201a8"
             ],
             [
              0.3333333333333333,
              "#9c179e"
             ],
             [
              0.4444444444444444,
              "#bd3786"
             ],
             [
              0.5555555555555556,
              "#d8576b"
             ],
             [
              0.6666666666666666,
              "#ed7953"
             ],
             [
              0.7777777777777778,
              "#fb9f3a"
             ],
             [
              0.8888888888888888,
              "#fdca26"
             ],
             [
              1,
              "#f0f921"
             ]
            ],
            "type": "histogram2dcontour"
           }
          ],
          "mesh3d": [
           {
            "colorbar": {
             "outlinewidth": 0,
             "ticks": ""
            },
            "type": "mesh3d"
           }
          ],
          "parcoords": [
           {
            "line": {
             "colorbar": {
              "outlinewidth": 0,
              "ticks": ""
             }
            },
            "type": "parcoords"
           }
          ],
          "pie": [
           {
            "automargin": true,
            "type": "pie"
           }
          ],
          "scatter": [
           {
            "fillpattern": {
             "fillmode": "overlay",
             "size": 10,
             "solidity": 0.2
            },
            "type": "scatter"
           }
          ],
          "scatter3d": [
           {
            "line": {
             "colorbar": {
              "outlinewidth": 0,
              "ticks": ""
             }
            },
            "marker": {
             "colorbar": {
              "outlinewidth": 0,
              "ticks": ""
             }
            },
            "type": "scatter3d"
           }
          ],
          "scattercarpet": [
           {
            "marker": {
             "colorbar": {
              "outlinewidth": 0,
              "ticks": ""
             }
            },
            "type": "scattercarpet"
           }
          ],
          "scattergeo": [
           {
            "marker": {
             "colorbar": {
              "outlinewidth": 0,
              "ticks": ""
             }
            },
            "type": "scattergeo"
           }
          ],
          "scattergl": [
           {
            "marker": {
             "colorbar": {
              "outlinewidth": 0,
              "ticks": ""
             }
            },
            "type": "scattergl"
           }
          ],
          "scattermap": [
           {
            "marker": {
             "colorbar": {
              "outlinewidth": 0,
              "ticks": ""
             }
            },
            "type": "scattermap"
           }
          ],
          "scattermapbox": [
           {
            "marker": {
             "colorbar": {
              "outlinewidth": 0,
              "ticks": ""
             }
            },
            "type": "scattermapbox"
           }
          ],
          "scatterpolar": [
           {
            "marker": {
             "colorbar": {
              "outlinewidth": 0,
              "ticks": ""
             }
            },
            "type": "scatterpolar"
           }
          ],
          "scatterpolargl": [
           {
            "marker": {
             "colorbar": {
              "outlinewidth": 0,
              "ticks": ""
             }
            },
            "type": "scatterpolargl"
           }
          ],
          "scatterternary": [
           {
            "marker": {
             "colorbar": {
              "outlinewidth": 0,
              "ticks": ""
             }
            },
            "type": "scatterternary"
           }
          ],
          "surface": [
           {
            "colorbar": {
             "outlinewidth": 0,
             "ticks": ""
            },
            "colorscale": [
             [
              0,
              "#0d0887"
             ],
             [
              0.1111111111111111,
              "#46039f"
             ],
             [
              0.2222222222222222,
              "#7201a8"
             ],
             [
              0.3333333333333333,
              "#9c179e"
             ],
             [
              0.4444444444444444,
              "#bd3786"
             ],
             [
              0.5555555555555556,
              "#d8576b"
             ],
             [
              0.6666666666666666,
              "#ed7953"
             ],
             [
              0.7777777777777778,
              "#fb9f3a"
             ],
             [
              0.8888888888888888,
              "#fdca26"
             ],
             [
              1,
              "#f0f921"
             ]
            ],
            "type": "surface"
           }
          ],
          "table": [
           {
            "cells": {
             "fill": {
              "color": "#EBF0F8"
             },
             "line": {
              "color": "white"
             }
            },
            "header": {
             "fill": {
              "color": "#C8D4E3"
             },
             "line": {
              "color": "white"
             }
            },
            "type": "table"
           }
          ]
         },
         "layout": {
          "annotationdefaults": {
           "arrowcolor": "#2a3f5f",
           "arrowhead": 0,
           "arrowwidth": 1
          },
          "autotypenumbers": "strict",
          "coloraxis": {
           "colorbar": {
            "outlinewidth": 0,
            "ticks": ""
           }
          },
          "colorscale": {
           "diverging": [
            [
             0,
             "#8e0152"
            ],
            [
             0.1,
             "#c51b7d"
            ],
            [
             0.2,
             "#de77ae"
            ],
            [
             0.3,
             "#f1b6da"
            ],
            [
             0.4,
             "#fde0ef"
            ],
            [
             0.5,
             "#f7f7f7"
            ],
            [
             0.6,
             "#e6f5d0"
            ],
            [
             0.7,
             "#b8e186"
            ],
            [
             0.8,
             "#7fbc41"
            ],
            [
             0.9,
             "#4d9221"
            ],
            [
             1,
             "#276419"
            ]
           ],
           "sequential": [
            [
             0,
             "#0d0887"
            ],
            [
             0.1111111111111111,
             "#46039f"
            ],
            [
             0.2222222222222222,
             "#7201a8"
            ],
            [
             0.3333333333333333,
             "#9c179e"
            ],
            [
             0.4444444444444444,
             "#bd3786"
            ],
            [
             0.5555555555555556,
             "#d8576b"
            ],
            [
             0.6666666666666666,
             "#ed7953"
            ],
            [
             0.7777777777777778,
             "#fb9f3a"
            ],
            [
             0.8888888888888888,
             "#fdca26"
            ],
            [
             1,
             "#f0f921"
            ]
           ],
           "sequentialminus": [
            [
             0,
             "#0d0887"
            ],
            [
             0.1111111111111111,
             "#46039f"
            ],
            [
             0.2222222222222222,
             "#7201a8"
            ],
            [
             0.3333333333333333,
             "#9c179e"
            ],
            [
             0.4444444444444444,
             "#bd3786"
            ],
            [
             0.5555555555555556,
             "#d8576b"
            ],
            [
             0.6666666666666666,
             "#ed7953"
            ],
            [
             0.7777777777777778,
             "#fb9f3a"
            ],
            [
             0.8888888888888888,
             "#fdca26"
            ],
            [
             1,
             "#f0f921"
            ]
           ]
          },
          "colorway": [
           "#636efa",
           "#EF553B",
           "#00cc96",
           "#ab63fa",
           "#FFA15A",
           "#19d3f3",
           "#FF6692",
           "#B6E880",
           "#FF97FF",
           "#FECB52"
          ],
          "font": {
           "color": "#2a3f5f"
          },
          "geo": {
           "bgcolor": "white",
           "lakecolor": "white",
           "landcolor": "#E5ECF6",
           "showlakes": true,
           "showland": true,
           "subunitcolor": "white"
          },
          "hoverlabel": {
           "align": "left"
          },
          "hovermode": "closest",
          "mapbox": {
           "style": "light"
          },
          "paper_bgcolor": "white",
          "plot_bgcolor": "#E5ECF6",
          "polar": {
           "angularaxis": {
            "gridcolor": "white",
            "linecolor": "white",
            "ticks": ""
           },
           "bgcolor": "#E5ECF6",
           "radialaxis": {
            "gridcolor": "white",
            "linecolor": "white",
            "ticks": ""
           }
          },
          "scene": {
           "xaxis": {
            "backgroundcolor": "#E5ECF6",
            "gridcolor": "white",
            "gridwidth": 2,
            "linecolor": "white",
            "showbackground": true,
            "ticks": "",
            "zerolinecolor": "white"
           },
           "yaxis": {
            "backgroundcolor": "#E5ECF6",
            "gridcolor": "white",
            "gridwidth": 2,
            "linecolor": "white",
            "showbackground": true,
            "ticks": "",
            "zerolinecolor": "white"
           },
           "zaxis": {
            "backgroundcolor": "#E5ECF6",
            "gridcolor": "white",
            "gridwidth": 2,
            "linecolor": "white",
            "showbackground": true,
            "ticks": "",
            "zerolinecolor": "white"
           }
          },
          "shapedefaults": {
           "line": {
            "color": "#2a3f5f"
           }
          },
          "ternary": {
           "aaxis": {
            "gridcolor": "white",
            "linecolor": "white",
            "ticks": ""
           },
           "baxis": {
            "gridcolor": "white",
            "linecolor": "white",
            "ticks": ""
           },
           "bgcolor": "#E5ECF6",
           "caxis": {
            "gridcolor": "white",
            "linecolor": "white",
            "ticks": ""
           }
          },
          "title": {
           "x": 0.05
          },
          "xaxis": {
           "automargin": true,
           "gridcolor": "white",
           "linecolor": "white",
           "ticks": "",
           "title": {
            "standoff": 15
           },
           "zerolinecolor": "white",
           "zerolinewidth": 2
          },
          "yaxis": {
           "automargin": true,
           "gridcolor": "white",
           "linecolor": "white",
           "ticks": "",
           "title": {
            "standoff": 15
           },
           "zerolinecolor": "white",
           "zerolinewidth": 2
          }
         }
        },
        "title": {
         "text": "t-SNE Projection of Clusters"
        },
        "width": 750,
        "xaxis": {
         "anchor": "y",
         "domain": [
          0,
          1
         ],
         "title": {
          "text": "t-SNE dimension 1"
         }
        },
        "yaxis": {
         "anchor": "x",
         "domain": [
          0,
          1
         ],
         "title": {
          "text": "t-SNE dimension 2"
         }
        }
       }
      }
     },
     "metadata": {},
     "output_type": "display_data"
    }
   ],
   "source": [
    "tsne   = TSNE(n_components=2, random_state=42)\n",
    "X_tsne = tsne.fit_transform(X_preprocessed)     # ndarray, shape = (n_samples, 2)\n",
    "\n",
    "df_tsne = pd.DataFrame(\n",
    "    X_tsne,\n",
    "    columns=[\"TSNE1\", \"TSNE2\"]                  \n",
    ")\n",
    "df_tsne[\"Cluster\"] = labels.astype(str)         # colour by cluster\n",
    "\n",
    "fig = px.scatter(\n",
    "    data_frame = df_tsne,\n",
    "    x          = \"TSNE1\",\n",
    "    y          = \"TSNE2\",\n",
    "    color      = \"Cluster\",\n",
    "    width      = 750,\n",
    "    height     = 650,\n",
    "    title      = \"t-SNE Projection of Clusters\",\n",
    "    labels     = {\"TSNE1\": \"t-SNE dimension 1\",  \n",
    "                  \"TSNE2\": \"t-SNE dimension 2\"}\n",
    ")\n",
    "\n",
    "fig.update_traces(marker=dict(size=5, opacity=0.8))\n",
    "fig.show()"
   ]
  },
  {
   "cell_type": "code",
   "execution_count": 63,
   "id": "1addbecd",
   "metadata": {},
   "outputs": [],
   "source": [
    "df_full = pd.DataFrame(X_preprocessed, columns=feature_names)  \n",
    "df_full[['TSNE_1', 'TSNE_2']] = X_tsne           \n",
    "df_full['cluster'] = labels.astype(str)    "
   ]
  },
  {
   "cell_type": "code",
   "execution_count": null,
   "id": "4118e541",
   "metadata": {},
   "outputs": [
    {
     "data": {
      "application/vnd.plotly.v1+json": {
       "config": {
        "plotlyServerURL": "https://plot.ly"
       },
       "data": [
        {
         "hovertemplate": "cluster=2<br>TSNE_1=%{x}<br>TSNE_2=%{y}<br>Addicted_Size_Pos=%{marker.size}<extra></extra>",
         "legendgroup": "2",
         "marker": {
          "color": "#636efa",
          "size": {
           "bdata": "lR4Ulzt9BkCVHhSXO30GQJUeFJc7fQZAlR4Ulzt9/j+VHhSXO30GQJUeFJc7fQZAlR4Ulzt9BkCVHhSXO30GQJUeFJc7fQZAlR4Ulzt9BkCVHhSXO30GQJUeFJc7fQZAlR4Ulzt9BkCVHhSXO30GQJUeFJc7fQZAlR4Ulzt9BkCVHhSXO30GQJUeFJc7fQZAlR4Ulzt9BkCVHhSXO30GQJUeFJc7fQZAlR4Ulzt9BkCVHhSXO30GQJUeFJc7fQZAlR4Ulzt9BkCVHhSXO30GQJUeFJc7fQZAlR4Ulzt9BkCVHhSXO30GQJUeFJc7fQZAlR4Ulzt9BkCVHhSXO30GQJUeFJc7fQZAlR4Ulzt9BkCVHhSXO30GQJUeFJc7fQZAlR4Ulzt9BkCVHhSXO30GQJUeFJc7ff4/lR4Ulzt9BkCVHhSXO30GQJUeFJc7ff4/lR4Ulzt9BkCVHhSXO33+P5UeFJc7fQZAlR4Ulzt9/j+VHhSXO30GQJUeFJc7ff4/lR4Ulzt9BkCVHhSXO33+P5UeFJc7fQZAlR4Ulzt9/j+VHhSXO30GQJUeFJc7ff4/lR4Ulzt9BkCVHhSXO33+P5UeFJc7fQZAlR4Ulzt9/j+VHhSXO30GQJUeFJc7ff4/lR4Ulzt9/j+VHhSXO33+P5UeFJc7ff4/lR4Ulzt9/j+VHhSXO33+P5UeFJc7ff4/lR4Ulzt9/j+VHhSXO33+P5UeFJc7ff4/lR4Ulzt9/j+VHhSXO33+P5UeFJc7ff4/lR4Ulzt9/j+VHhSXO33+P5UeFJc7ff4/lR4Ulzt9/j+VHhSXO33+P5UeFJc7ff4/lR4Ulzt9/j+VHhSXO30GQJUeFJc7fQZAlR4Ulzt9BkCVHhSXO30GQJUeFJc7ff4/lR4Ulzt9BkCVHhSXO30GQJUeFJc7ff4/lR4Ulzt9BkCVHhSXO30GQJUeFJc7ff4/lR4Ulzt9BkCVHhSXO30GQJUeFJc7ff4/lR4Ulzt9BkCVHhSXO30GQJUeFJc7ff4/lR4Ulzt9BkCVHhSXO30GQJUeFJc7ff4/lR4Ulzt9BkCVHhSXO30GQJUeFJc7ff4/lR4Ulzt9BkCVHhSXO30GQJUeFJc7ff4/lR4Ulzt9BkCVHhSXO30GQJUeFJc7ff4/lR4Ulzt9BkCVHhSXO30GQJUeFJc7ff4/lR4Ulzt9BkCVHhSXO30GQJUeFJc7ff4/lR4Ulzt9BkCVHhSXO30GQJUeFJc7fQZA4C2eYtm7DUCVHhSXO30GQJUeFJc7fQZAlR4Ulzt9BkCVHhSXO30GQOAtnmLZuw1AlR4Ulzt9BkCVHhSXO30GQJUeFJc7fQZAlR4Ulzt9BkDgLZ5i2bsNQJUeFJc7fQZAlR4Ulzt9BkCVHhSXO30GQJUeFJc7fQZAlR4Ulzt9BkCVHhSXO30GQJUeFJc7fQZAlR4Ulzt9BkDgLZ5i2bsNQJUeFJc7fQZAlR4Ulzt9BkCVHhSXO30GQJUeFJc7fQZAlR4Ulzt9BkCVHhSXO30GQJUeFJc7fQZAlR4Ulzt9BkDgLZ5i2bsNQJUeFJc7fQZAlR4Ulzt9BkCVHhSXO30GQJUeFJc7fQZAlR4Ulzt9BkCVHhSXO30GQJUeFJc7fQZAlR4Ulzt9BkCVHhSXO30GQJUeFJc7fQZAlR4Ulzt9BkCVHhSXO30GQJUeFJc7fQZAlR4Ulzt9BkCVHhSXO30GQJUeFJc7fQZAlR4Ulzt9BkCVHhSXO30GQJUeFJc7fQZAlR4Ulzt9BkCVHhSXO30GQJUeFJc7fQZAlR4Ulzt9BkCVHhSXO30GQJUeFJc7fQZAlR4Ulzt9BkCVHhSXO30GQJUeFJc7fQZAlR4Ulzt9BkCVHhSXO30GQJUeFJc7fQZAlR4Ulzt9BkCVHhSXO30GQJUeFJc7fQZAlR4Ulzt9BkCVHhSXO30GQJUeFJc7fQZAlR4Ulzt9BkCVHhSXO30GQJUeFJc7fQZAlR4Ulzt9BkDgLZ5i2bsNQJUeFJc7fQZAlR4Ulzt9BkDgLZ5i2bsNQJUeFJc7fQZA4C2eYtm7DUCVHhSXO30GQJUeFJc7fQZA4C2eYtm7DUCVHhSXO30GQJUeFJc7fQZAlR4Ulzt9BkDgLZ5i2bsNQJUeFJc7fQZA4C2eYtm7DUCVHhSXO30GQJUeFJc7fQZA4C2eYtm7DUCVHhSXO30GQJUeFJc7fQZAlR4Ulzt9BkDgLZ5i2bsNQJUeFJc7fQZAlR4Ulzt9BkCVHhSXO30GQOAtnmLZuw1AlR4Ulzt9BkCVHhSXO30GQJUeFJc7fQZA4C2eYtm7DUCVHhSXO33+P5UeFJc7fQZAlR4Ulzt9BkCVHhSXO30GQJUeFJc7fQZAlR4Ulzt9BkCVHhSXO30GQJUeFJc7fQZAlR4Ulzt9BkCVHhSXO30GQJUeFJc7fQZAlR4Ulzt9BkCVHhSXO30GQJUeFJc7fQZAlR4Ulzt9BkCVHhSXO30GQJUeFJc7fQZAlR4Ulzt9BkCVHhSXO30GQJUeFJc7fQZAlR4Ulzt9BkCVHhSXO30GQJUeFJc7fQZAlR4Ulzt9BkCVHhSXO30GQJUeFJc7fQZAlR4Ulzt9BkCVHhSXO30GQJUeFJc7fQZAlR4Ulzt9BkCVHhSXO30GQJUeFJc7fQZAlR4Ulzt9BkA=",
           "dtype": "f8"
          },
          "sizemode": "area",
          "sizeref": 0.017061333452488885,
          "symbol": "circle"
         },
         "mode": "markers",
         "name": "2",
         "orientation": "v",
         "showlegend": true,
         "type": "scatter",
         "x": {
          "bdata": "N9mJQHGqj0DhGCVBOo33QBnrMkFcHC5BLcoMQcXQwEDj8jJBnawSQe7bwED/AjVBkD8SQXYXwECDqDNBg3MNQU6twEDD2jVBprmcQM30mUAC4T9B2rEOQRw8A0HrE0BBStqVQGu9A0EN1zRBWY9AQV9UvUCAGOlAx5I2QTbdkEDJNQ5BdyRLQQIFt0Bi5GBBotbrQJaBXUFuyqZBzV3vQN5nVEFDuJdBfZT0QNhJM0G9uVxBdPqlQa1W7kBUejpBL7dUQQNUlkECBO9AMXUvQWQAXUFfbqVBTtvrQDHHN0HR8lRBrzyVQe0m6kCqHDtAZ1IAQfEOE0BVQApB5WUoQNg3A0Hi6/U/NFYPQWeMFkCbegdBiRXMP2ZSFEFF6QNATHEMQbbaqj8FQBhBd63gP1GdEUHQK5Y/rs4aQU4rsUAEoKpAMK8KwIzibkDo9hJBB0EBwPIPnUBincZABJcPwL+DdEDznxFB6zEIwBUFnkByC8RAirIVwPU+ZUCBrgpBgTsQwI+rnEB1oMZAP9IvwBIOWUB8Ng5BG9QkwGSVlEB+ecJAtWA+wCkeU0A3yAlBcssvwAaTjEBxlcNAvbNKwEo8SkAFTQdBYFw4wHk5h0A+mJRA3HQAQKx5ZUCVE2FBSvgEP66rA0H4iMk/VrxnQDwoYEH7bps/kTWRQH6kgkD2xlhAJFJlQeExnD6BO/5AYnRaQJbPZEH4c2c/qJ+MQE5lfED1dUhAL9VrQeJZXD0o4fVAjvxFQGZnakHA9xU/+6aJQOxjfEBGAzhAAqByQXEtKr5Bf+5Anrs5QKG8cUEWSq0+F8qAQHPDJ0BSUXhBkw+hvmmv40BCKx1ANAh3QQxM8D0lHIZAZO4VQI3Df0EPWeS+nt7hQPZvE0ApGMW9LhxzQN79BUBymRO/C6HUQDl/8j8XkZu+AjN+QNvs6T9t3Di/wtHSQLBe0z/1DAa/kwN6QEAq0D8KR1i/+xrOQClrtD/QKjW/tMIBQdx688CnxjpBl8E3QT+N4b9jjNZAglT6wNpYMEGThDtBrG9uv2xVAUFAtTtBSrg7QdE17r+vDRdBz6kKwQQ1MEG5KUBBLrOLvxL+AEHSsztBztJAQUC7+L/iEhdB6sswQb5rREF5dpu/GYMAQQ7/O0HZqERBbBz9v3O7pkFAz51BuqdiQEhQZ72sgQNAqLnyQLUjgj06E6k/dOiEP9rWBUHL2pM/Z4FGP0ehD0AfUatA1ZtCQNxFFECV3fQ/J/ntQKiHrj7vO/Y/85ACQP767kBxMJG9g/SrQBVFD0BjNqtAcz9DQCG92D8rpos/7UgEQWvBOz2xg6lAiwkKQA==",
          "dtype": "f4"
         },
         "xaxis": "x",
         "y": {
          "bdata": "3NuuwJjdskDpg7vATXb2wFwxycCjlBzBmbPpwLCH8cCeMwHBk0nMwBp4zcDT0z3BuunMwMJHzcAbSPvA/TLowIhA8sCeCRnBDVEZwQkGCMHMbR3BTTz+wMJ7G8EpZT/B1FEKwczWGMG8wyTBAwdAwVI2FcEagcLAWAwBwT4/NsG+QGjApGYHwYo1NMEmExvBKdLWv45NIsGu9TJBNXYGwPEKfkFeckPBO2ZowHTBHEDW7STBSsA0QSYdFcBWwqM/NRp9QeR2RsGIhGfAO4IfQPV0J8GbBjZB6QEiwBkHsT+aNHxBbehIwU9SZsCbOUjBXjF6QA5xSMFtkGdAsZNQwYEvhkCaik7BDuF3QNV0WMG5SpFAZY1Vwf9/hkCAxV/Bc3CbQH2LXMFQbZJAMwpmwY+fo0CprWLBqZKcQDvU7UDSjlVB83cMwZgqQkHx7BBBrSorwTAm5UCSfFFBfccNwZ/+O0HAxxBB4BkswR2f3UBKWE9BNDwPwRyKO0F2zRBB15YtwZJS1UDKeFFB/k0SwZYcP0EKeQxB1SYuwd7Q1UBawUxBz9oTwRY2REHtEw1Bat4wwQk+2kC2U0pBPGYVwekER0H7uAxBu/sywVBM3UAZ3nXBuOOewbZyakHA55pBNJlbQXg0h8Fs75/B3sWfQZTXokF8A61B5WZ5wVvBq8FM52xBTsKbQecGYEHn3YnBUOSeQSkZpEEZOatBJON+wVETrcFFhHBB1wqcQdJjZUE+PozBRm2eQUQ0pkE4GqlB/0mCwRK9r8EX9XRBYPubQShoa0GN7I7BRoubQTM1pUHkbKZBCKqEwf+keUFVWp5BSgByQeHIkMECeJxBkx2oQb2jo0GR8IfBL9R9QTT0nEF8h3hBnCGUweblmEGL5aBBAtWJwZQGgUFmiX5BCf6UwWVPmUHKXp5BtbmMwQSpgkHO/IFBltKXwSZGl0GVOJxBXY2OwU4BhEH2EIRBCFCZwcR2lkHrkppBvxNWwT2nJkFTr2vBpXqhQZ0PakH9yEbBOgQtQTD1asHkBpxBYp+qQacrV8GnvWbBbymiQQYxbkHDpGbBaCAqQdpPZcFKEJxB5cSoQTNgWMFQdWHBycKiQesgc0HHf2fBtcRgwYZ3nEHt2qZBCtFZwelcXsFmJqNBCYB3Qd5wPMDLGRLBY290wJ3WxEBF8RBAfbKHQb3grECioUBBLywrQCnOiEGkmZtAFpVKQZ2uX79lwljBLhRLwHadtkEbEvA/ocyAQd5xj0CPqLJBCYkRQATbgUH3QpRAQatCwd2dTr8obFfBHkNLwF3ir0ETzi9AV5+DQatpkkCZYkXB0K4SPw==",
          "dtype": "f4"
         },
         "yaxis": "y"
        },
        {
         "hovertemplate": "cluster=3<br>TSNE_1=%{x}<br>TSNE_2=%{y}<br>Addicted_Size_Pos=%{marker.size}<extra></extra>",
         "legendgroup": "3",
         "marker": {
          "color": "#EF553B",
          "size": {
           "bdata": "lR4Ulzt9EkA6Jtl8ihwWQOAtnmLZuw1AlR4Ulzt9EkDgLZ5i2bsNQJUeFJc7fRJA4C2eYtm7DUCVHhSXO30SQOAtnmLZuw1A4C2eYtm7DUCVHhSXO30SQOAtnmLZuw1AlR4Ulzt9EkDgLZ5i2bsNQOAtnmLZuw1AlR4Ulzt9EkDgLZ5i2bsNQJUeFJc7fRJA4C2eYtm7DUDgLZ5i2bsNQJUeFJc7fRJA4C2eYtm7DUCVHhSXO30SQOAtnmLZuw1AlR4Ulzt9EkCVHhSXO30SQOAtnmLZuw1AlR4Ulzt9EkDgLZ5i2bsNQJUeFJc7fRJAlR4Ulzt9EkCVHhSXO30SQOAtnmLZuw1A4C2eYtm7DUCVHhSXO30SQJUeFJc7fRJAlR4Ulzt9EkDgLZ5i2bsNQOAtnmLZuw1AlR4Ulzt9EkDgLZ5i2bsNQJUeFJc7fRJAlR4Ulzt9EkDgLZ5i2bsNQJUeFJc7fRJA4C2eYtm7DUCVHhSXO30SQOAtnmLZuw1A4C2eYtm7DUDgLZ5i2bsNQOAtnmLZuw1A4C2eYtm7DUDgLZ5i2bsNQOAtnmLZuw1A4C2eYtm7DUDgLZ5i2bsNQOAtnmLZuw1A4C2eYtm7DUDgLZ5i2bsNQJUeFJc7fRJA4C2eYtm7DUCVHhSXO30SQOAtnmLZuw1AlR4Ulzt9EkDgLZ5i2bsNQJUeFJc7fRJA4C2eYtm7DUCVHhSXO30SQOAtnmLZuw1AlR4Ulzt9EkDgLZ5i2bsNQJUeFJc7fRJA4C2eYtm7DUCVHhSXO30SQOAtnmLZuw1AlR4Ulzt9EkDgLZ5i2bsNQJUeFJc7fRJA4C2eYtm7DUCVHhSXO30SQOAtnmLZuw1AlR4Ulzt9EkCVHhSXO30SQJUeFJc7fRJAlR4Ulzt9EkCVHhSXO30SQJUeFJc7fRJAlR4Ulzt9EkCVHhSXO30SQJUeFJc7fRJAlR4Ulzt9EkCVHhSXO30SQJUeFJc7fRJAlR4Ulzt9EkCVHhSXO30SQJUeFJc7fRJAlR4Ulzt9EkCVHhSXO30SQJUeFJc7fRJAlR4Ulzt9EkDgLZ5i2bsNQOAtnmLZuw1A4C2eYtm7DUDgLZ5i2bsNQOAtnmLZuw1A4C2eYtm7DUDgLZ5i2bsNQOAtnmLZuw1A4C2eYtm7DUDgLZ5i2bsNQOAtnmLZuw1A4C2eYtm7DUDgLZ5i2bsNQOAtnmLZuw1A4C2eYtm7DUDgLZ5i2bsNQOAtnmLZuw1A4C2eYtm7DUCVHhSXO30SQOAtnmLZuw1A4C2eYtm7DUDgLZ5i2bsNQOAtnmLZuw1AlR4Ulzt9EkDgLZ5i2bsNQOAtnmLZuw1AlR4Ulzt9EkDgLZ5i2bsNQOAtnmLZuw1A4C2eYtm7DUDgLZ5i2bsNQOAtnmLZuw1A4C2eYtm7DUDgLZ5i2bsNQOAtnmLZuw1A4C2eYtm7DUDgLZ5i2bsNQJUeFJc7fRJA4C2eYtm7DUDgLZ5i2bsNQOAtnmLZuw1A4C2eYtm7DUDgLZ5i2bsNQOAtnmLZuw1AlR4Ulzt9EkA=",
           "dtype": "f8"
          },
          "sizemode": "area",
          "sizeref": 0.017061333452488885,
          "symbol": "circle"
         },
         "mode": "markers",
         "name": "3",
         "orientation": "v",
         "showlegend": true,
         "type": "scatter",
         "x": {
          "bdata": "H0YcwiR3IMKoRQfCgb4VwsDPB8JZ6x/CjkkTwvF7F8I3JgHCCr8Qwr+cH8KJQRPCql8YwhnVBcKrTA3CQPEdwgYlE8L7wRfCgOoAwg2XD8IC9x3CZ+AGwjEeF8JKDwTCkFscwom+FcJ+YQTCeTUbwiuVA8IxrhDCV7QUwteFGMJUmwHCg/ATwnfrG8IJNBXCsr0YwqOaAsJ3fQ/C/gIbws9oAcJgQx3CyQ4ewpyuAMJYNh/Cg5IAwkgvIMIHLMTBiP/JwRq3w8ETV8rBwiTDwQC5ycFVqsLBjpfIwVePwsHhSsfBQWATwvTP88EIQRHCpIPowVZIFcI/YvPBcS0Rwi0I6MHTThXCFqnxwZTtEMK/V+fBAU4XwqeK8MFR8BHCzR3mwR3tF8LHQO/BEycTwlYF5cEcrBjCuHnuwVSqE8K5IOTBLmAZwhaRHsKNUx3CUuIfwpBwHsKCSyHC0/sfwtoAI8JxoiHCtGAkwp8UI8LMuSXCm+8kwtScJ8KyKibCNqQowqP6J8IyKyrCfZkpwpbcxsF2HfvBFS7Mwapo9sG7YMfBiTcIwZwQ/MEYAM3B+ub2wWRMyME26vbAh7r8wSaXzcH2GgvBpov3wfEnycGYVffAvbT8wQnOGcKpo9XBxCPlwb1Z5MHTntzBNgoOwnb16cHu9dvBtSMLwpT878FBceDBGOkEwlI13MEkiAzCYWzkweHB1cHKr+TBOZbbwVgeAcL87QzC+J3wwcmD1MFXJ9bBH6Xwwbl25cHdjdvBSVgLwg==",
          "dtype": "f4"
         },
         "xaxis": "x",
         "y": {
          "bdata": "7FF/QYLvhEGw2ixA3a2GQZRy4r8J94lBiEp0Pyt8nEE0kJVAinM1P5qqikHuxnA/GXGNQQC4UUGfD5S/9RqcQY44nzwrh5RByeWTQAv+7r6Ei5VBUncIwG+PnEHDKE9B/ceeQfethkGecl5AevucQdmZckDD/5dBahKbQXxIjUHDHZdAor78vsvDlEGpyZNBH0KNQcvarkBq1ea+/h6dQVMyIUHkS8HAM9TFwFZXKEFIJcvAWwsrQWlRzsAzWKpA5T6mQDOrrkBg97VAOB+9QOEXxkAfxctAEU/VQLk02UAmd+BAqIAmQU0XDEG+DFpBJGXqQOnxKUFaUg1Bn3RbQb2w6kCuHSpBY+kRQbhhX0GedvNAAlE9QV9+FUF5BWFBo7T6QG4qP0Ez7xhBGVFfQQSnAEGqzUBBfeQbQTw7YEFfIANB0M9BQehd/UCCNg1BxQkBQXlYEUFjZQRBVoIUQff2A0GJzRZB8gsIQRaLGkGIzgtBXGwaQSTqCEFjTR9BbKQPQVwDH0G3RRFBJSYeQeXRHUET2DtBisAaQav+QUFf0iBBNi4lQUWUPkG5BR5BkzBFQVX/JEGL2iVBby1CQRK+IUEEQipBRY1IQWnkJ0H9BCVBPfZFQW4jC0ETGCdAuvVvQNgB2D9bHJI+EH/XQLSrL0BIas4/Ek0AQYgzB0C/L/a+UiRgwDqwGT+inrLAP2IqQKcpJ0DbWm1AkoCNQALfr8CHYetA7GkLQKzruj93wzVATKyfwO3rg0BslDNAKpf+QA==",
          "dtype": "f4"
         },
         "yaxis": "y"
        },
        {
         "hovertemplate": "cluster=1<br>TSNE_1=%{x}<br>TSNE_2=%{y}<br>Addicted_Size_Pos=%{marker.size}<extra></extra>",
         "legendgroup": "1",
         "marker": {
          "color": "#00cc96",
          "size": {
           "bdata": "lR4Ulzt9/j8AAAAAAADwP5UeFJc7ff4/lR4Ulzt9/j+VHhSXO33+P5UeFJc7ff4/lR4Ulzt9/j+VHhSXO33+P5UeFJc7ff4/lR4Ulzt9/j+VHhSXO33+P5UeFJc7ff4/lR4Ulzt9/j+VHhSXO33+P5UeFJc7ff4/lR4Ulzt9/j+VHhSXO33+P5UeFJc7ff4/lR4Ulzt9/j8AAAAAAADwP5UeFJc7ff4/lR4Ulzt9/j+VHhSXO33+P5UeFJc7ff4/lR4Ulzt9/j+VHhSXO33+P5UeFJc7ff4/lR4Ulzt9/j+VHhSXO33+P5UeFJc7ff4/lR4Ulzt9/j+VHhSXO33+P5UeFJc7ff4/lR4Ulzt9/j+VHhSXO33+P5UeFJc7ff4/lR4Ulzt9/j+VHhSXO33+P5UeFJc7ff4/lR4Ulzt9/j+VHhSXO33+P5UeFJc7fQZAlR4Ulzt9BkCVHhSXO30GQJUeFJc7fQZAlR4Ulzt9BkCVHhSXO30GQJUeFJc7fQZAlR4Ulzt9BkCVHhSXO30GQJUeFJc7fQZAlR4Ulzt9BkCVHhSXO30GQJUeFJc7fQZAlR4Ulzt9BkCVHhSXO30GQJUeFJc7fQZAlR4Ulzt9BkCVHhSXO30GQJUeFJc7fQZAlR4Ulzt9BkCVHhSXO33+PwAAAAAAAPA/AAAAAAAA8D8AAAAAAADwPwAAAAAAAPA/AAAAAAAA8D8AAAAAAADwPwAAAAAAAPA/AAAAAAAA8D8AAAAAAADwPwAAAAAAAPA/AAAAAAAA8D8AAAAAAADwP5UeFJc7ff4/lR4Ulzt9/j+VHhSXO33+P5UeFJc7ff4/lR4Ulzt9/j+VHhSXO33+P5UeFJc7ff4/lR4Ulzt9/j+VHhSXO33+P5UeFJc7ff4/lR4Ulzt9/j+VHhSXO33+P5UeFJc7ff4/lR4Ulzt9/j+VHhSXO33+P5UeFJc7ff4/lR4Ulzt9/j+VHhSXO33+P5UeFJc7ff4/lR4Ulzt9/j+VHhSXO33+P5UeFJc7ff4/lR4Ulzt9/j+VHhSXO33+P5UeFJc7fQZAlR4Ulzt9/j+VHhSXO33+P5UeFJc7fQZAlR4Ulzt9/j+VHhSXO33+P5UeFJc7fQZAlR4Ulzt9/j+VHhSXO33+P5UeFJc7fQZAlR4Ulzt9/j+VHhSXO33+P5UeFJc7fQZAlR4Ulzt9/j+VHhSXO33+P5UeFJc7fQZAlR4Ulzt9/j+VHhSXO33+P5UeFJc7fQZAlR4Ulzt9/j+VHhSXO33+P5UeFJc7ff4/lR4Ulzt9/j+VHhSXO33+P5UeFJc7ff4/lR4Ulzt9/j+VHhSXO33+P5UeFJc7ff4/lR4Ulzt9/j+VHhSXO33+P5UeFJc7ff4/lR4Ulzt9/j+VHhSXO33+PwAAAAAAAPA/lR4Ulzt9/j+VHhSXO33+P5UeFJc7ff4/lR4Ulzt9/j+VHhSXO33+P5UeFJc7ff4/AAAAAAAA8D+VHhSXO33+P5UeFJc7ff4/lR4Ulzt9/j8AAAAAAADwP5UeFJc7ff4/lR4Ulzt9/j8AAAAAAADwP5UeFJc7ff4/lR4Ulzt9/j+VHhSXO33+PwAAAAAAAPA/lR4Ulzt9/j+VHhSXO33+PwAAAAAAAPA/lR4Ulzt9/j+VHhSXO33+P5UeFJc7ff4/AAAAAAAA8D+VHhSXO33+P5UeFJc7ff4/AAAAAAAA8D+VHhSXO33+P5UeFJc7ff4/lR4Ulzt9/j8AAAAAAADwP5UeFJc7ff4/lR4Ulzt9/j8AAAAAAADwP5UeFJc7ff4/lR4Ulzt9/j+VHhSXO33+PwAAAAAAAPA/lR4Ulzt9/j+VHhSXO33+PwAAAAAAAPA/lR4Ulzt9/j+VHhSXO33+P5UeFJc7ff4/AAAAAAAA8D+VHhSXO33+P5UeFJc7ff4/AAAAAAAA8D+VHhSXO33+P5UeFJc7ff4/lR4Ulzt9/j8AAAAAAADwP5UeFJc7ff4/",
           "dtype": "f8"
          },
          "sizemode": "area",
          "sizeref": 0.017061333452488885,
          "symbol": "circle"
         },
         "mode": "markers",
         "name": "1",
         "orientation": "v",
         "showlegend": true,
         "type": "scatter",
         "x": {
          "bdata": "Zy8aQt8SCEJBAgdC30X4QUou8UFSALpBAxYDQlj1AEJNvO9Bd5XDQThHAkJBwABCeIfxQdWcuUG0dANChyIDQvCh8UFvNLlBiiU0Qd3FA0JpZ+xBGen9QR364kHvFu9BwxUFQiMq/kGjl+xBOfkFQi1h/EEJuvtBwlvIQcUA+EHjjwRCnNv4Qatg1EEXR7FBUcntQUQoQUH7HJlBY/c2QfBbPUFurqxBXINjQRRKqkGT0GpBPH+vQcEFaUEb061Bs8xwQY2vskEv4W5BRdywQST7dkEUb7VBl/50QevEs0GZkHxBmtG3QYL2ekFgfLZBTm2AQYXf/UFlvxFCv14AQkv9EUK8nABCC2oTQpW7AEKT4BNCYVwCQtWkE0JDSgNCQJsTQhpLBEK4CfNBOHQYQuWh80F4vg5CL+r1QTDfGEKERPZBgsQPQg7M+EHUiRhCefn4QQbzEEJTFPxBxXgaQiFZ/EGlcxJCx33+QR9xGUK0PP9BrzYTQmDpAEJ83BtCpmEBQpbwFEL3jn5BASYCQgHgGkJQgIJBEecCQqyIFUIVqYFB3cIDQv/CHEJD0oVBFYcEQiofF0IbLIVBzkEFQrWQHELCqohBhQAGQjICGEJiTIhBJ14CQqn1CkL/vgRCvdEJQhzaAkLmqAtCDZUFQmukCkI0pQNCX7IMQiFGBkLsmQtCUIgEQtlbDULO2+VBL37FQR3Su0GaXr1B4RzlQRkIuEG/HsVBrlz7Qd7VvkGzd8hBYwHIQSR17UFFt7lBTWy5QfkT60Ea5cFB5eTKQSuys0F2IdtBtGO2QfqEykFF/ddBXajCQYz0ukHms8ZBvYTtQaEJukG7TL5BssP7Qaqi10Fdr7tBXjPBQSC68kFCBbVBMnfEQVI3+0F4z9pB7iTGQTd8rUG8XdZBjzTTQRnRuEFn7+VBxUzEQThNw0EPqsFBQbPpQZwxskFQ68FBXST8QeGX3EGuDL9Baq6sQZfr10Gh1NNB",
          "dtype": "f4"
         },
         "xaxis": "x",
         "y": {
          "bdata": "b7iXP8ddwb45QD7BXQEZweJNZsG4RMXAu5sqwZ6dLsHXvVnBx+/FwHxAGcHe0i7BDw5mwbuSwMD6dCnB7d49wWghZsHzWr/ATUgCwFW5XMHb5ETBN+FkwT2QEsDS8FPB9HkwwZ1aZMG/kkzBao1AwSBGHcF33FrBewbUwPPmR8FEPkPB9z4ywRa+AMA5bYdAH08tQTcK9z6tnEDBqbwdQLTrhj+PzPrAEeEKQRFnCMF7LRJBX+L7wKbCB0GR2ArBfgURQV+GAcGccQRBJzAPwckQD0Eq4wbBBf8BQXt8E8GBHAxBdKMMwY+GAEEmJRbBtBwIQRae47+TZlk/I+eCv01ZKj+H9Ie/JhaNPyMSq7/QxIE/NVCfv7KQ9T4tloi/r8ogPjeQj79fOElBHqUGPxlKPEERSBDAEDVKQcQdiD7TrzhBA54OwO3jRkG55R++K+Q0QeUSFsBFo0pBk6eEvnyKNUErPQ/AOX5DQfzcQ7+r5jBBYSwtwFj3SEFGiFC/XmA0QfadHMC8bKZBnUZCQTeIpr9NuJ9BRJIwQZn7PMCIeKlBpA5GQSNqtb9cEaBBnTg0QbHlM8DVgahBzkxDQTX64r/l2aFBrTM2QYH4QsA/V6hBLxCrwOGC4kB0ZbXAbAj6QEHKpcAwieRAw5OvwJvm/UB75J7A4IroQCtRqMAugABBFDeawGxS60AvRKFAE4fHQPPkEkF4buK/RYunv+iPyEC88N5APc+MPzT4McCjd3bARFewv2K8+r5ad6VARw/sQI1IjUAx7ivAt7llwN245UAK7m5AE6+6vzXBDsBCJr9ATPCfQPwAEEFcw5K/iIgTPxVnwkDwEuxAKMwcQMTGj79L7RJB+yzhvqA1xz4NqcRAW9zrQBxJGkAXuKO/rvCJwOJWAkHQEJRAV6R6wHeZNcBwOaFAptekQE0nBkHFFve+31KUP/APwUDG7u1AGD4SQG+awL8PU27AgkUDQSZEjUAEeYDA",
          "dtype": "f4"
         },
         "yaxis": "y"
        },
        {
         "hovertemplate": "cluster=0<br>TSNE_1=%{x}<br>TSNE_2=%{y}<br>Addicted_Size_Pos=%{marker.size}<extra></extra>",
         "legendgroup": "0",
         "marker": {
          "color": "#ab63fa",
          "size": {
           "bdata": "4C2eYtm7DUDgLZ5i2bsNQOAtnmLZuw1A4C2eYtm7DUDgLZ5i2bsNQJUeFJc7fRJA4C2eYtm7DUCVHhSXO30SQOAtnmLZuw1AlR4Ulzt9EkDgLZ5i2bsNQJUeFJc7fRJA4C2eYtm7DUDgLZ5i2bsNQOAtnmLZuw1A4C2eYtm7DUDgLZ5i2bsNQOAtnmLZuw1A4C2eYtm7DUDgLZ5i2bsNQOAtnmLZuw1A4C2eYtm7DUDgLZ5i2bsNQJUeFJc7fRJAlR4Ulzt9EkDgLZ5i2bsNQJUeFJc7fRJA4C2eYtm7DUCVHhSXO30SQOAtnmLZuw1AlR4Ulzt9EkDgLZ5i2bsNQJUeFJc7fRJA4C2eYtm7DUCVHhSXO30SQOAtnmLZuw1AlR4Ulzt9EkDgLZ5i2bsNQJUeFJc7fRJA4C2eYtm7DUCVHhSXO30SQOAtnmLZuw1AlR4Ulzt9EkDgLZ5i2bsNQJUeFJc7fRJA4C2eYtm7DUCVHhSXO30SQOAtnmLZuw1AlR4Ulzt9EkDgLZ5i2bsNQJUeFJc7fRJA4C2eYtm7DUCVHhSXO30SQOAtnmLZuw1A4C2eYtm7DUCVHhSXO30SQOAtnmLZuw1AlR4Ulzt9EkDgLZ5i2bsNQOAtnmLZuw1AlR4Ulzt9EkDgLZ5i2bsNQJUeFJc7fRJA4C2eYtm7DUDgLZ5i2bsNQJUeFJc7fRJA4C2eYtm7DUDgLZ5i2bsNQJUeFJc7fRJA4C2eYtm7DUDgLZ5i2bsNQJUeFJc7fRJA4C2eYtm7DUDgLZ5i2bsNQJUeFJc7fRJA4C2eYtm7DUDgLZ5i2bsNQJUeFJc7fRJA4C2eYtm7DUDgLZ5i2bsNQJUeFJc7fRJA4C2eYtm7DUDgLZ5i2bsNQJUeFJc7fRJA4C2eYtm7DUDgLZ5i2bsNQJUeFJc7fRJA4C2eYtm7DUDgLZ5i2bsNQJUeFJc7fRJA4C2eYtm7DUDgLZ5i2bsNQJUeFJc7fRJA4C2eYtm7DUDgLZ5i2bsNQJUeFJc7fRJA4C2eYtm7DUCVHhSXO30SQJUeFJc7fRJAlR4Ulzt9EkCVHhSXO30SQJUeFJc7fRJAlR4Ulzt9EkCVHhSXO30SQOAtnmLZuw1A4C2eYtm7DUCVHhSXO30SQOAtnmLZuw1A4C2eYtm7DUDgLZ5i2bsNQOAtnmLZuw1A4C2eYtm7DUDgLZ5i2bsNQJUeFJc7fRJA4C2eYtm7DUDgLZ5i2bsNQJUeFJc7fRJA4C2eYtm7DUDgLZ5i2bsNQOAtnmLZuw1A4C2eYtm7DUCVHhSXO30SQOAtnmLZuw1A4C2eYtm7DUA=",
           "dtype": "f8"
          },
          "sizemode": "area",
          "sizeref": 0.017061333452488885,
          "symbol": "circle"
         },
         "mode": "markers",
         "name": "0",
         "orientation": "v",
         "showlegend": true,
         "type": "scatter",
         "x": {
          "bdata": "GXPuwfaF7sHgqw3CmiwOwjgF2sEZYQDC28PZwRHrGsJWJNPB+tsbwvVe0cHFyBzCkwjQwamD68Ewc+fBUG3pwalu5MHEbebBIC3hwXUK48HFMt7BaMffwcoX3MFA1/vBfKYIwrBs/cFCxAXCg/X6wdXuBsKTYf3B/MEJwsQn+cGGyQbCayoAwk4mCsJrivrBe5UIwgsOAMLppQXCAc33wSdGBsJaRv/Bf/kJwp/w9cHjzgjCPnP/wUAeB8L1ofTB6KrswXYpD8Leu+bBKIIRwvIG7MGZaBDCZjbNPweO5MF2GxPCjknrwQXREcI/h6o/8ZriwdnIFML+aOnBpHATwtnQwz9LhuDBpnkWwuA7YkBnNenB+KAUwo9jhT8dft/BqvQXwtGNbUAWEubB6WYWwnImqT+omdzBSnkZwlvBT0C58+bBtX0Xwm77az8I093BtNYawr4NUUBGR+TB+AcZwr9GhT8iQtvBYAYcwqF5QkCA0eLBan8awlnNVD82bdzBpN4cwq331cH7ZdrBUXvWwSSa28G80NbBrOXbwWCF1sGB7gnCz3b0wQ6GAcLn2g3Crr8KwivaCMLMgQnCGh4Ewn6rC8KmnQDCPD3ywUEuD8LaHgLChJ4Nwqno8cFPVALChBEOwi6QAcKg6Q3C/GIBwg==",
          "dtype": "f4"
         },
         "xaxis": "x",
         "y": {
          "bdata": "clWSwXe1kcEdjL2/mPLxvxlgRsFYPl/BgTBFwc8Z6sCZ+0vBo4rtwIOgTcEBi/HAdMJOweixbMETgGbBez5xwbedacFuqnXBgEhuwVTUecF7w3PB+it9wbqjeMEhSk/B4neswZH4+8A/iK/BCQ5DwRhUrMEnRPfAIWyvwetYQMHyt7HBs6EBwScPs8HSdULBM3G0wX7P/cAzn7XBsKpFwSOXt8E73ATB+DO4wTcpQ8E/XbrBGy8IwTSPu8H2bELBIT+1wTXfJsH4I7XBx5IYwe6wuMEIzirBfGuiwf3ut8FGUxzBWwm8wecqL8EUSqTB9se6wTzOIMGy6L7BGKgywfeKp8F+d73B4WIlwfVZsMGOZcLBU6Y4wbPuqMGLnMDBE0MqwWEGtMH7o8TBgbI6wedqrMFj78LBsJwuwbpetMHmWcjB/3FAwZ3prcEWssbBCSAzwetEt8FTysrB2E9DwT/MsMGyHMnB69M3wQtpuMGVxM3BNE1GwUgassHFvMzBVzg9wcAbrMH8U6TBGeetwTTYq8GNEbDBXj2tweP0scGrzdbAvU17wY12kMF5LsnAnkwEwafDocAbdgvB+yWawOuuIMFeHI/BwUKswFYVFcGnTJDBFwjJwAK7uMBQccjAfFwiwbXKkMHhjNbAHk6zwA==",
          "dtype": "f4"
         },
         "yaxis": "y"
        }
       ],
       "layout": {
        "height": 650,
        "legend": {
         "itemsizing": "constant",
         "title": {
          "text": "cluster"
         },
         "tracegroupgap": 0
        },
        "template": {
         "data": {
          "bar": [
           {
            "error_x": {
             "color": "#2a3f5f"
            },
            "error_y": {
             "color": "#2a3f5f"
            },
            "marker": {
             "line": {
              "color": "#E5ECF6",
              "width": 0.5
             },
             "pattern": {
              "fillmode": "overlay",
              "size": 10,
              "solidity": 0.2
             }
            },
            "type": "bar"
           }
          ],
          "barpolar": [
           {
            "marker": {
             "line": {
              "color": "#E5ECF6",
              "width": 0.5
             },
             "pattern": {
              "fillmode": "overlay",
              "size": 10,
              "solidity": 0.2
             }
            },
            "type": "barpolar"
           }
          ],
          "carpet": [
           {
            "aaxis": {
             "endlinecolor": "#2a3f5f",
             "gridcolor": "white",
             "linecolor": "white",
             "minorgridcolor": "white",
             "startlinecolor": "#2a3f5f"
            },
            "baxis": {
             "endlinecolor": "#2a3f5f",
             "gridcolor": "white",
             "linecolor": "white",
             "minorgridcolor": "white",
             "startlinecolor": "#2a3f5f"
            },
            "type": "carpet"
           }
          ],
          "choropleth": [
           {
            "colorbar": {
             "outlinewidth": 0,
             "ticks": ""
            },
            "type": "choropleth"
           }
          ],
          "contour": [
           {
            "colorbar": {
             "outlinewidth": 0,
             "ticks": ""
            },
            "colorscale": [
             [
              0,
              "#0d0887"
             ],
             [
              0.1111111111111111,
              "#46039f"
             ],
             [
              0.2222222222222222,
              "#7201a8"
             ],
             [
              0.3333333333333333,
              "#9c179e"
             ],
             [
              0.4444444444444444,
              "#bd3786"
             ],
             [
              0.5555555555555556,
              "#d8576b"
             ],
             [
              0.6666666666666666,
              "#ed7953"
             ],
             [
              0.7777777777777778,
              "#fb9f3a"
             ],
             [
              0.8888888888888888,
              "#fdca26"
             ],
             [
              1,
              "#f0f921"
             ]
            ],
            "type": "contour"
           }
          ],
          "contourcarpet": [
           {
            "colorbar": {
             "outlinewidth": 0,
             "ticks": ""
            },
            "type": "contourcarpet"
           }
          ],
          "heatmap": [
           {
            "colorbar": {
             "outlinewidth": 0,
             "ticks": ""
            },
            "colorscale": [
             [
              0,
              "#0d0887"
             ],
             [
              0.1111111111111111,
              "#46039f"
             ],
             [
              0.2222222222222222,
              "#7201a8"
             ],
             [
              0.3333333333333333,
              "#9c179e"
             ],
             [
              0.4444444444444444,
              "#bd3786"
             ],
             [
              0.5555555555555556,
              "#d8576b"
             ],
             [
              0.6666666666666666,
              "#ed7953"
             ],
             [
              0.7777777777777778,
              "#fb9f3a"
             ],
             [
              0.8888888888888888,
              "#fdca26"
             ],
             [
              1,
              "#f0f921"
             ]
            ],
            "type": "heatmap"
           }
          ],
          "histogram": [
           {
            "marker": {
             "pattern": {
              "fillmode": "overlay",
              "size": 10,
              "solidity": 0.2
             }
            },
            "type": "histogram"
           }
          ],
          "histogram2d": [
           {
            "colorbar": {
             "outlinewidth": 0,
             "ticks": ""
            },
            "colorscale": [
             [
              0,
              "#0d0887"
             ],
             [
              0.1111111111111111,
              "#46039f"
             ],
             [
              0.2222222222222222,
              "#7201a8"
             ],
             [
              0.3333333333333333,
              "#9c179e"
             ],
             [
              0.4444444444444444,
              "#bd3786"
             ],
             [
              0.5555555555555556,
              "#d8576b"
             ],
             [
              0.6666666666666666,
              "#ed7953"
             ],
             [
              0.7777777777777778,
              "#fb9f3a"
             ],
             [
              0.8888888888888888,
              "#fdca26"
             ],
             [
              1,
              "#f0f921"
             ]
            ],
            "type": "histogram2d"
           }
          ],
          "histogram2dcontour": [
           {
            "colorbar": {
             "outlinewidth": 0,
             "ticks": ""
            },
            "colorscale": [
             [
              0,
              "#0d0887"
             ],
             [
              0.1111111111111111,
              "#46039f"
             ],
             [
              0.2222222222222222,
              "#7201a8"
             ],
             [
              0.3333333333333333,
              "#9c179e"
             ],
             [
              0.4444444444444444,
              "#bd3786"
             ],
             [
              0.5555555555555556,
              "#d8576b"
             ],
             [
              0.6666666666666666,
              "#ed7953"
             ],
             [
              0.7777777777777778,
              "#fb9f3a"
             ],
             [
              0.8888888888888888,
              "#fdca26"
             ],
             [
              1,
              "#f0f921"
             ]
            ],
            "type": "histogram2dcontour"
           }
          ],
          "mesh3d": [
           {
            "colorbar": {
             "outlinewidth": 0,
             "ticks": ""
            },
            "type": "mesh3d"
           }
          ],
          "parcoords": [
           {
            "line": {
             "colorbar": {
              "outlinewidth": 0,
              "ticks": ""
             }
            },
            "type": "parcoords"
           }
          ],
          "pie": [
           {
            "automargin": true,
            "type": "pie"
           }
          ],
          "scatter": [
           {
            "fillpattern": {
             "fillmode": "overlay",
             "size": 10,
             "solidity": 0.2
            },
            "type": "scatter"
           }
          ],
          "scatter3d": [
           {
            "line": {
             "colorbar": {
              "outlinewidth": 0,
              "ticks": ""
             }
            },
            "marker": {
             "colorbar": {
              "outlinewidth": 0,
              "ticks": ""
             }
            },
            "type": "scatter3d"
           }
          ],
          "scattercarpet": [
           {
            "marker": {
             "colorbar": {
              "outlinewidth": 0,
              "ticks": ""
             }
            },
            "type": "scattercarpet"
           }
          ],
          "scattergeo": [
           {
            "marker": {
             "colorbar": {
              "outlinewidth": 0,
              "ticks": ""
             }
            },
            "type": "scattergeo"
           }
          ],
          "scattergl": [
           {
            "marker": {
             "colorbar": {
              "outlinewidth": 0,
              "ticks": ""
             }
            },
            "type": "scattergl"
           }
          ],
          "scattermap": [
           {
            "marker": {
             "colorbar": {
              "outlinewidth": 0,
              "ticks": ""
             }
            },
            "type": "scattermap"
           }
          ],
          "scattermapbox": [
           {
            "marker": {
             "colorbar": {
              "outlinewidth": 0,
              "ticks": ""
             }
            },
            "type": "scattermapbox"
           }
          ],
          "scatterpolar": [
           {
            "marker": {
             "colorbar": {
              "outlinewidth": 0,
              "ticks": ""
             }
            },
            "type": "scatterpolar"
           }
          ],
          "scatterpolargl": [
           {
            "marker": {
             "colorbar": {
              "outlinewidth": 0,
              "ticks": ""
             }
            },
            "type": "scatterpolargl"
           }
          ],
          "scatterternary": [
           {
            "marker": {
             "colorbar": {
              "outlinewidth": 0,
              "ticks": ""
             }
            },
            "type": "scatterternary"
           }
          ],
          "surface": [
           {
            "colorbar": {
             "outlinewidth": 0,
             "ticks": ""
            },
            "colorscale": [
             [
              0,
              "#0d0887"
             ],
             [
              0.1111111111111111,
              "#46039f"
             ],
             [
              0.2222222222222222,
              "#7201a8"
             ],
             [
              0.3333333333333333,
              "#9c179e"
             ],
             [
              0.4444444444444444,
              "#bd3786"
             ],
             [
              0.5555555555555556,
              "#d8576b"
             ],
             [
              0.6666666666666666,
              "#ed7953"
             ],
             [
              0.7777777777777778,
              "#fb9f3a"
             ],
             [
              0.8888888888888888,
              "#fdca26"
             ],
             [
              1,
              "#f0f921"
             ]
            ],
            "type": "surface"
           }
          ],
          "table": [
           {
            "cells": {
             "fill": {
              "color": "#EBF0F8"
             },
             "line": {
              "color": "white"
             }
            },
            "header": {
             "fill": {
              "color": "#C8D4E3"
             },
             "line": {
              "color": "white"
             }
            },
            "type": "table"
           }
          ]
         },
         "layout": {
          "annotationdefaults": {
           "arrowcolor": "#2a3f5f",
           "arrowhead": 0,
           "arrowwidth": 1
          },
          "autotypenumbers": "strict",
          "coloraxis": {
           "colorbar": {
            "outlinewidth": 0,
            "ticks": ""
           }
          },
          "colorscale": {
           "diverging": [
            [
             0,
             "#8e0152"
            ],
            [
             0.1,
             "#c51b7d"
            ],
            [
             0.2,
             "#de77ae"
            ],
            [
             0.3,
             "#f1b6da"
            ],
            [
             0.4,
             "#fde0ef"
            ],
            [
             0.5,
             "#f7f7f7"
            ],
            [
             0.6,
             "#e6f5d0"
            ],
            [
             0.7,
             "#b8e186"
            ],
            [
             0.8,
             "#7fbc41"
            ],
            [
             0.9,
             "#4d9221"
            ],
            [
             1,
             "#276419"
            ]
           ],
           "sequential": [
            [
             0,
             "#0d0887"
            ],
            [
             0.1111111111111111,
             "#46039f"
            ],
            [
             0.2222222222222222,
             "#7201a8"
            ],
            [
             0.3333333333333333,
             "#9c179e"
            ],
            [
             0.4444444444444444,
             "#bd3786"
            ],
            [
             0.5555555555555556,
             "#d8576b"
            ],
            [
             0.6666666666666666,
             "#ed7953"
            ],
            [
             0.7777777777777778,
             "#fb9f3a"
            ],
            [
             0.8888888888888888,
             "#fdca26"
            ],
            [
             1,
             "#f0f921"
            ]
           ],
           "sequentialminus": [
            [
             0,
             "#0d0887"
            ],
            [
             0.1111111111111111,
             "#46039f"
            ],
            [
             0.2222222222222222,
             "#7201a8"
            ],
            [
             0.3333333333333333,
             "#9c179e"
            ],
            [
             0.4444444444444444,
             "#bd3786"
            ],
            [
             0.5555555555555556,
             "#d8576b"
            ],
            [
             0.6666666666666666,
             "#ed7953"
            ],
            [
             0.7777777777777778,
             "#fb9f3a"
            ],
            [
             0.8888888888888888,
             "#fdca26"
            ],
            [
             1,
             "#f0f921"
            ]
           ]
          },
          "colorway": [
           "#636efa",
           "#EF553B",
           "#00cc96",
           "#ab63fa",
           "#FFA15A",
           "#19d3f3",
           "#FF6692",
           "#B6E880",
           "#FF97FF",
           "#FECB52"
          ],
          "font": {
           "color": "#2a3f5f"
          },
          "geo": {
           "bgcolor": "white",
           "lakecolor": "white",
           "landcolor": "#E5ECF6",
           "showlakes": true,
           "showland": true,
           "subunitcolor": "white"
          },
          "hoverlabel": {
           "align": "left"
          },
          "hovermode": "closest",
          "mapbox": {
           "style": "light"
          },
          "paper_bgcolor": "white",
          "plot_bgcolor": "#E5ECF6",
          "polar": {
           "angularaxis": {
            "gridcolor": "white",
            "linecolor": "white",
            "ticks": ""
           },
           "bgcolor": "#E5ECF6",
           "radialaxis": {
            "gridcolor": "white",
            "linecolor": "white",
            "ticks": ""
           }
          },
          "scene": {
           "xaxis": {
            "backgroundcolor": "#E5ECF6",
            "gridcolor": "white",
            "gridwidth": 2,
            "linecolor": "white",
            "showbackground": true,
            "ticks": "",
            "zerolinecolor": "white"
           },
           "yaxis": {
            "backgroundcolor": "#E5ECF6",
            "gridcolor": "white",
            "gridwidth": 2,
            "linecolor": "white",
            "showbackground": true,
            "ticks": "",
            "zerolinecolor": "white"
           },
           "zaxis": {
            "backgroundcolor": "#E5ECF6",
            "gridcolor": "white",
            "gridwidth": 2,
            "linecolor": "white",
            "showbackground": true,
            "ticks": "",
            "zerolinecolor": "white"
           }
          },
          "shapedefaults": {
           "line": {
            "color": "#2a3f5f"
           }
          },
          "ternary": {
           "aaxis": {
            "gridcolor": "white",
            "linecolor": "white",
            "ticks": ""
           },
           "baxis": {
            "gridcolor": "white",
            "linecolor": "white",
            "ticks": ""
           },
           "bgcolor": "#E5ECF6",
           "caxis": {
            "gridcolor": "white",
            "linecolor": "white",
            "ticks": ""
           }
          },
          "title": {
           "x": 0.05
          },
          "xaxis": {
           "automargin": true,
           "gridcolor": "white",
           "linecolor": "white",
           "ticks": "",
           "title": {
            "standoff": 15
           },
           "zerolinecolor": "white",
           "zerolinewidth": 2
          },
          "yaxis": {
           "automargin": true,
           "gridcolor": "white",
           "linecolor": "white",
           "ticks": "",
           "title": {
            "standoff": 15
           },
           "zerolinecolor": "white",
           "zerolinewidth": 2
          }
         }
        },
        "title": {
         "text": "t-SNE with additional information"
        },
        "width": 750,
        "xaxis": {
         "anchor": "y",
         "domain": [
          0,
          1
         ],
         "title": {
          "text": "TSNE_1"
         }
        },
        "yaxis": {
         "anchor": "x",
         "domain": [
          0,
          1
         ],
         "scaleanchor": "x",
         "scaleratio": 1,
         "title": {
          "text": "TSNE_2"
         }
        }
       }
      }
     },
     "metadata": {},
     "output_type": "display_data"
    }
   ],
   "source": [
    "size_col = \"Addicted_Size_Pos\"\n",
    "\n",
    "# Shift so the minimum is 1 (or 0.1 if you prefer smaller dots)\n",
    "min_val = df_full[\"Mental_Health_Score\"].min()\n",
    "df_full[size_col] = df_full[\"Mental_Health_Score\"] - min_val + 0.5\n",
    "\n",
    "# -----------------------------\n",
    "# 1) Scatter plot with square axes\n",
    "# -----------------------------\n",
    "fig = px.scatter(\n",
    "    data_frame = df_full,\n",
    "    x          = \"TSNE_1\",\n",
    "    y          = \"TSNE_2\",\n",
    "    color      = \"cluster\",\n",
    "    size       = size_col,\n",
    "    title      = \"t-SNE with additional information\",\n",
    "    width      = 750,\n",
    "    height     = 650,\n",
    "    size_max   = 18                # cap bubble diameter (optional)\n",
    ")\n",
    "\n",
    "fig.update_yaxes(scaleanchor=\"x\", scaleratio=1)  # square aspect\n",
    "fig.show()"
   ]
  }
 ],
 "metadata": {
  "kernelspec": {
   "display_name": "ml2025",
   "language": "python",
   "name": "python3"
  },
  "language_info": {
   "codemirror_mode": {
    "name": "ipython",
    "version": 3
   },
   "file_extension": ".py",
   "mimetype": "text/x-python",
   "name": "python",
   "nbconvert_exporter": "python",
   "pygments_lexer": "ipython3",
   "version": "3.12.9"
  }
 },
 "nbformat": 4,
 "nbformat_minor": 5
}
